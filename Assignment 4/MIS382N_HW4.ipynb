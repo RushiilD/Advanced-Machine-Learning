{
 "cells": [
  {
   "cell_type": "markdown",
   "metadata": {
    "id": "8R_k_q-xlwE7"
   },
   "source": [
    "# <p style=\"text-align: center;\">MIS 382N: Advanced Machine Learning</p>\n",
    "# <p style=\"text-align: center;\">Homework 4</p>\n",
    "### <p style=\"text-align: center;\">Total points: 55 </p>\n",
    "## <p style=\"text-align: center;\">Due: Wed, **Nov, 3rd** submitted via Canvas by 11:59 pm</p>\n",
    "\n",
    "Your homework should be written in a **Jupyter notebook**. Please make sure your code runs and the graphics (and anything else) are displayed in your notebook before submitting (%matplotlib inline). \n",
    "\n",
    "**Note: Notebooks MUST have the images embedded in them. There will be no regrades if attached images do not render in the notebook. Please re download from canvas after submission and make sure all attached images render without errors. (Hint: Image module from IPython.display)**"
   ]
  },
  {
   "cell_type": "markdown",
   "metadata": {
    "id": "K62r4Kaoly_t"
   },
   "source": [
    "**This can be an individual assignment or group of 2. If you choose to do it as a group, please specify who you are working with (name and EID), then only one student should submit the homework. Put your name and eid here.**\n",
    "\n",
    "Name: Rushiil Deshmukh\n",
    "\n",
    "EID: rsd949\n",
    "\n",
    "Name: Troy Richard\n",
    "\n",
    "EID: tdr944"
   ]
  },
  {
   "cell_type": "markdown",
   "metadata": {
    "id": "dJFRr3e-J9lr"
   },
   "source": [
    "# Question 1: Reject option (10 pts)\n",
    "\n",
    "Consider a binary classification problem with the following loss matrix, where the cost of rejection is a constant. \n",
    "\n",
    "$$\n",
    "   {\\begin{array}{ccccc}\n",
    "   & & \\text{Predicted class} & \\text{           } &\\\\\n",
    "   & & C_1 & C_2 & Reject\\\\\n",
    "   \\text{True class} & C_1 & 0 & 2 & c  \\\\\n",
    "   & C_2 & 4 & 0 & c \\\\\n",
    "  \\end{array} } \n",
    "$$\n",
    "\n",
    "If $c$ = 1, determine the respective predicted classes that will minimize the expected loss when $P(C_1|x)$ falls in different value intervals. That is, please give the decision rules for $C_1$, $C_2$ and $Reject$."
   ]
  },
  {
   "cell_type": "markdown",
   "metadata": {
    "id": "p3dMm-ADQ9sr"
   },
   "source": [
    "## Answer:"
   ]
  },
  {
   "cell_type": "markdown",
   "metadata": {},
   "source": [
    "Let P(C<sub>1</sub>| x) be denoted by p\n",
    "\n",
    "**Loss calculation**\n",
    "\n",
    "C<sub>1</sub> Loss: $$ 0p + 4(1-p) = 4 - 4p $$\n",
    "\n",
    "C<sub>2</sub> Loss: $$ 2p + 0(1-p) = 2p $$\n",
    "\n",
    "Reject Loss: $$ cp + c(1-p) = p + 1 - p = 1 $$\n",
    "\n",
    "**Decision boundary**\n",
    "\n",
    "Decision boundary of C<sub>1</sub> and Reject: $$ 4 - 4p = 1 $$\n",
    "$$ p = 3/4 $$\n",
    "\n",
    "Decision boundary of C<sub>2</sub> and Reject: $$ 2p = 1 $$\n",
    "$$ p = 1/2 $$\n",
    "\n",
    "Decision boundary of C<sub>1</sub> and C<sub>2</sub>: $$ 4 - 4p = 2p $$\n",
    "$$ p = 2/3 $$ "
   ]
  },
  {
   "cell_type": "code",
   "execution_count": 1,
   "metadata": {},
   "outputs": [],
   "source": [
    "import numpy as np\n",
    "%matplotlib inline\n",
    "import matplotlib.pyplot as plt"
   ]
  },
  {
   "cell_type": "code",
   "execution_count": 2,
   "metadata": {},
   "outputs": [],
   "source": [
    "c = 1\n",
    "p = np.linspace(0, 1, 100)\n",
    "c1 = 4-4*p\n",
    "c2 = 2*p\n",
    "reject = c*np.ones(len(p))"
   ]
  },
  {
   "cell_type": "code",
   "execution_count": 3,
   "metadata": {},
   "outputs": [
    {
     "data": {
      "text/plain": [
       "<matplotlib.legend.Legend at 0x21d88c5f070>"
      ]
     },
     "execution_count": 3,
     "metadata": {},
     "output_type": "execute_result"
    },
    {
     "data": {
      "image/png": "[encoded data removed]",
      "text/plain": [
       "<Figure size 864x432 with 1 Axes>"
      ]
     },
     "metadata": {
      "needs_background": "light"
     },
     "output_type": "display_data"
    }
   ],
   "source": [
    "plt.figure(figsize=(12,6))\n",
    "plt.plot(p, c1, label = 'Loss of Class 1')\n",
    "plt.plot(p, c2, label = 'Loss of Class 2')\n",
    "plt.plot(p, reject, label = 'Loss of Reject')\n",
    "plt.legend()"
   ]
  },
  {
   "cell_type": "markdown",
   "metadata": {
    "id": "PXZOdsIClzeq"
   },
   "source": [
    "# Question 2: Logistic Regression (15 pts) \n",
    "\n",
    "Logistic regression has been traditionally used to classify data when a **linear decision boundary** is adequate. However, having an idea of what the distribution looks like could help one come up with a smart data transformation trick that could make the optimal decision boundary become (near) linear in the transformed space. In this question, you are given 2-dimensional data, and each data point belongs to either class 0 or class 1. \n",
    "\n",
    "a) **(5 pts)** Train a logistic regression classifier using X_train, y_train. Use the trained model to make predictions on X_train, X_test respectively, and then report the accuracies and F1-scores. Sklearn has a very nice [utility](https://scikit-learn.org/stable/modules/generated/sklearn.metrics.classification_report.html) that helps compute the precision, recall, accuracy and F1-scores. \n",
    "\n",
    "b) **(5 pts)** Plot the X_train data using matplotlib, use different colors to represent different classes. Comment on the pattern of data distributions, and reason why the logistic regression classifier in (a) does not perform very well.  \n",
    "\n",
    "c) **(5 pts)** Transform the input X_train and X_test data in such a way that a linear decision boundary will be effective. Train a new logistic regression classifier on this transformed X_train data. Use the trained model to make predictions on transformed X_train, transformed X_test respectively, and then report the accuracies and F1-scores. \n",
    "\n",
    "**Hint**: Carefully analyze the plot you made in (b), observe the decision boundaries, which should guide you towards the right direction."
   ]
  },
  {
   "cell_type": "code",
   "execution_count": 4,
   "metadata": {
    "id": "O1T7hgXEnADb"
   },
   "outputs": [
    {
     "name": "stdout",
     "output_type": "stream",
     "text": [
      "Train:  (300, 2)\n",
      "Test:  (100, 2)\n"
     ]
    }
   ],
   "source": [
    "import numpy as np\n",
    "\n",
    "x1 = np.random.uniform(low=-7.5, high=7.5, size=300)\n",
    "x2 = np.random.uniform(low=-7.5, high=7.5, size=300)\n",
    "\n",
    "y_fn = (0.3*x1**2 + 0.8*x2**2) <10\n",
    "\n",
    "from matplotlib import pyplot as plt\n",
    "\n",
    "X_train = np.column_stack([x1, x2])\n",
    "y_train = y_fn\n",
    "print(\"Train: \", X_train.shape)\n",
    "\n",
    "x1 = np.random.uniform(low=-7.5, high=7.5, size=100)\n",
    "x2 = np.random.uniform(low=-7.5, high=7.5, size=100)\n",
    "y_fn = (0.3*x1**2 + 0.8*x2**2) <10\n",
    "\n",
    "X_test = np.column_stack([x1, x2])\n",
    "y_test = y_fn\n",
    "print(\"Test: \", X_test.shape)\n",
    "\n",
    "X_train = X_train + np.random.random(size=X_train.shape)/10\n",
    "X_test = X_test + np.random.random(size=X_test.shape)/10"
   ]
  },
  {
   "cell_type": "markdown",
   "metadata": {
    "id": "8Pcj3TgwnCpr"
   },
   "source": [
    "## Answer:"
   ]
  },
  {
   "cell_type": "markdown",
   "metadata": {},
   "source": [
    "## Part A"
   ]
  },
  {
   "cell_type": "code",
   "execution_count": 5,
   "metadata": {},
   "outputs": [
    {
     "data": {
      "text/plain": [
       "array([[215,   0],\n",
       "       [ 85,   0]], dtype=int64)"
      ]
     },
     "execution_count": 5,
     "metadata": {},
     "output_type": "execute_result"
    }
   ],
   "source": [
    "from sklearn.linear_model import LogisticRegression\n",
    "from sklearn import metrics\n",
    "logreg = LogisticRegression()\n",
    "logreg.fit(X_train,y_train)\n",
    "y_pred1=logreg.predict(X_train)\n",
    "cnf_matrix = metrics.confusion_matrix(y_train, y_pred1)\n",
    "cnf_matrix"
   ]
  },
  {
   "cell_type": "code",
   "execution_count": 6,
   "metadata": {},
   "outputs": [
    {
     "name": "stdout",
     "output_type": "stream",
     "text": [
      "Accuracy: 0.7166666666666667\n",
      "F-1: 0.4174757281553398\n"
     ]
    }
   ],
   "source": [
    "print(\"Accuracy:\",metrics.accuracy_score(y_train, y_pred1))\n",
    "print(\"F-1:\", metrics.f1_score(y_train, y_pred1, average=\"macro\"))"
   ]
  },
  {
   "cell_type": "code",
   "execution_count": 7,
   "metadata": {},
   "outputs": [
    {
     "data": {
      "text/plain": [
       "array([[67,  0],\n",
       "       [33,  0]], dtype=int64)"
      ]
     },
     "execution_count": 7,
     "metadata": {},
     "output_type": "execute_result"
    }
   ],
   "source": [
    "logreg = LogisticRegression()\n",
    "logreg.fit(X_test,y_test)\n",
    "y_pred2=logreg.predict(X_test)\n",
    "cnf_matrix = metrics.confusion_matrix(y_test, y_pred2)\n",
    "cnf_matrix"
   ]
  },
  {
   "cell_type": "code",
   "execution_count": 8,
   "metadata": {},
   "outputs": [
    {
     "name": "stdout",
     "output_type": "stream",
     "text": [
      "Accuracy: 0.67\n",
      "F-1: 0.4011976047904192\n"
     ]
    }
   ],
   "source": [
    "print(\"Accuracy:\",metrics.accuracy_score(y_test, y_pred2))\n",
    "print(\"F-1:\", metrics.f1_score(y_test, y_pred2, average=\"macro\"))"
   ]
  },
  {
   "cell_type": "markdown",
   "metadata": {},
   "source": [
    "## Part B"
   ]
  },
  {
   "cell_type": "code",
   "execution_count": 9,
   "metadata": {},
   "outputs": [
    {
     "data": {
      "image/png": "[encoded data removed]",
      "text/plain": [
       "<Figure size 432x288 with 1 Axes>"
      ]
     },
     "metadata": {
      "needs_background": "light"
     },
     "output_type": "display_data"
    }
   ],
   "source": [
    "import matplotlib.pyplot as plt\n",
    "\n",
    "for x in range(len(X_train)):\n",
    "    if y_train[x] == True:\n",
    "        plt.scatter(X_train[x][0], X_train[x][1], c = 'b')\n",
    "    else:\n",
    "        plt.scatter(X_train[x][0], X_train[x][1], c = 'r')"
   ]
  },
  {
   "cell_type": "markdown",
   "metadata": {},
   "source": [
    "The data is centred between (-6,6) and (-4,4). Since the data is concentrated in the centre, i.e a non linear decsion boundary a linear separator will not be able to effectively classfiy the data."
   ]
  },
  {
   "cell_type": "markdown",
   "metadata": {},
   "source": [
    "## Part C"
   ]
  },
  {
   "cell_type": "code",
   "execution_count": 10,
   "metadata": {},
   "outputs": [
    {
     "data": {
      "image/png": "[encoded data removed]",
      "text/plain": [
       "<Figure size 432x288 with 1 Axes>"
      ]
     },
     "metadata": {
      "needs_background": "light"
     },
     "output_type": "display_data"
    }
   ],
   "source": [
    "for x in range(len(X_train)):\n",
    "    if y_train[x] == True:\n",
    "        plt.scatter(X_train[x][0]**2, X_train[x][1]**2, c = 'b')\n",
    "    else:\n",
    "        plt.scatter(X_train[x][0]**2, X_train[x][1]**2, c = 'r')"
   ]
  },
  {
   "cell_type": "code",
   "execution_count": 11,
   "metadata": {},
   "outputs": [
    {
     "name": "stdout",
     "output_type": "stream",
     "text": [
      "Accuracy: 1.0\n",
      "F-1: 1.0\n"
     ]
    }
   ],
   "source": [
    "X_train_2 = X_train**2\n",
    "X_test_2 = X_test**2\n",
    "\n",
    "logreg2 = LogisticRegression()\n",
    "logreg2.fit(X_train_2,y_train)\n",
    "y_pred3=logreg2.predict(X_test_2)\n",
    "print(\"Accuracy:\",metrics.accuracy_score(y_test, y_pred3))\n",
    "print(\"F-1:\", metrics.f1_score(y_test, y_pred3, average=\"macro\"))"
   ]
  },
  {
   "cell_type": "code",
   "execution_count": null,
   "metadata": {},
   "outputs": [],
   "source": []
  },
  {
   "cell_type": "markdown",
   "metadata": {
    "id": "3kuJ3AByMTpI"
   },
   "source": [
    "# Question 3: Bayesian Network (5 pts)\n",
    "\n",
    "A Bayesian network is a directed acyclic graph (DAG) that captures a subset of the independence relationships of a given joint probability distribution. \n",
    "\n",
    "In a Bayesian network $G=(V,E)$, each node $i \\in V$in the directed graph corresponds to a random variable and each directed edge $e \\in E$ represents a statistical dependence. Each node is associated with a conditional probability distribution of the corresponding random variables given its parents in the DAG. The joint probability distribution factorizes w.r.t the directed graph $G$ if $p(x_1, ..., x_n)=\\prod_{i \\in V} p(x_i | x_{parents(i)})$, provided the variables are visited in a topologically sorted order. Please write the joint probability distribution that factorizes w.r.t this graph, in as simple a form as possible (i.e. that results in the smallest possible conditional probability tables:\n"
   ]
  },
  {
   "cell_type": "code",
   "execution_count": 12,
   "metadata": {
    "colab": {
     "base_uri": "https://localhost:8080/",
     "height": 505
    },
    "id": "sfd86n0uP0dp",
    "outputId": "6cad03b4-86b3-4912-84df-dc378b00cbbb"
   },
   "outputs": [
    {
     "data": {
      "text/html": [
       "<iframe src=\"https://drive.google.com/file/d/1XigbvsWpNvlols3QarVjDfYf2Dnf3emy/preview\" width=\"640\" height=\"480\" allow=\"autoplay\"></iframe>\n"
      ],
      "text/plain": [
       "<IPython.core.display.HTML object>"
      ]
     },
     "metadata": {},
     "output_type": "display_data"
    }
   ],
   "source": [
    "%%html\n",
    "<iframe src=\"https://drive.google.com/file/d/1XigbvsWpNvlols3QarVjDfYf2Dnf3emy/preview\" width=\"640\" height=\"480\" allow=\"autoplay\"></iframe>"
   ]
  },
  {
   "cell_type": "markdown",
   "metadata": {
    "id": "_kUqyveiP6zV"
   },
   "source": [
    "## Answer:\n"
   ]
  },
  {
   "cell_type": "markdown",
   "metadata": {},
   "source": [
    "**P(A,B,C,D,E,F) = P(A)P(B|A)P(C|A,E)P(D|B)P(E|B)P(F|C,D,E)**"
   ]
  },
  {
   "cell_type": "markdown",
   "metadata": {
    "id": "KPukziKknW3K"
   },
   "source": [
    "# Question 4: Counterfactuals (25 pts)"
   ]
  },
  {
   "cell_type": "markdown",
   "metadata": {
    "id": "tASB8c_MJ2ZD"
   },
   "source": [
    "To show the effectiveness of a newly proposed model, one needs to compare it with multiple  existing solutions, across multiple datasets with different properties, and typically using multiple evaluation metrics. \n",
    "\n",
    "One of the emerging requirements in industry is to be able to explain decisions, and counterfactual (CF) explanations turn out to be a lead contender. Hence a new CF approach also needs to be evaluated comprehensively. See [1] for a review on conterfactual explanations. \n",
    "\n",
    "An example of a short comparative testing for CFs is given in [2], (you don’t need to understand the method in [2] since I have not covered this type of techinques in class, just see the result tables). The goal of this question is to **try to obtain results that are similar to those reported in [2]** (note that they give details of their model settings in the appendix). In particular, you will evaluate the following datasets: Breast Cancer, Pima diabetes and Adult Census across 5 metrics (Validity, sparsity, proximity, diversity, in-distributionness). \n",
    "\n",
    "**Note**: **Section A** students only need to report on the **Breat Cancer and Adult Census datasets** while **Section B** students only need to report results on the **Pima diabetes and Adult Census datasets**.\n",
    "\n",
    "[1] Verma, Dickerson, Hines. Counterfactual Explanations for Machine Learning: A Review. [arXiv:2010.10596](https://arxiv.org/abs/2010.10596) (2020) \n",
    "\n",
    "[2] Samoilescu, et al. Model-agnostic and Scalable Counterfactual Explanations via Reinforcement Learning.  [arXiv:2106.02597](https://arxiv.org/abs/2106.02597) (2021) \n",
    "\n",
    "\n",
    "a) Train **Random Forest, MLP and Logistic Regression** models on your datasets and report the accuracies on each of the datasets, show the accuracy on both the training and test set in a table.\n",
    "\n",
    "Use the code snippets given below to load the datasets and make the split using the following code snippet: ```X_train, X_test, y_train, y_test = train_test_split(X, y, test_size=0.33, random_state=42)``` \n",
    "\n",
    "```\n",
    "# Breast cancer dataset, for Section A only\n",
    "from sklearn.datasets import load_breast_cancer\n",
    "\n",
    "data = load_breast_cancer()\n",
    "X = data.data\n",
    "y = data.target\n",
    "cols = ['mean radius', 'mean texture', 'mean perimeter', 'mean area',\n",
    "        'mean smoothness', 'mean compactness', 'mean concavity',\n",
    "        'mean concave points', 'mean symmetry', 'mean fractal dimension',\n",
    "        'radius error', 'texture error', 'perimeter error', 'area error',\n",
    "        'smoothness error', 'compactness error', 'concavity error',\n",
    "        'concave points error', 'symmetry error',\n",
    "        'fractal dimension error', 'worst radius', 'worst texture',\n",
    "        'worst perimeter', 'worst area', 'worst smoothness',\n",
    "        'worst compactness', 'worst concavity', 'worst concave points',\n",
    "        'worst symmetry', 'worst fractal dimension']\n",
    "X = pd.DataFrame(data=X, columns=cols)\n",
    "\n",
    "# Pima Diabetes dataset, for Section B only\n",
    "def load_diabetes():\n",
    "  df = pd.read_csv('diabetes.csv')\n",
    "  X = df.drop(['Outcome'], axis=1)\n",
    "  y = df[['Outcome']]\n",
    "  return X, np.reshape(y, (-1, ))\n",
    "\n",
    "X, y = load_diabetes()\n",
    "\n",
    "# adult census dataset, for Section A and Section B\n",
    "def load_adult():\n",
    "  df = pd.read_csv('adult.csv')\n",
    "  df = pd.get_dummies(df)\n",
    "  X = df.drop(['target'], axis=1)\n",
    "  y = df[['target']]\n",
    "  return X, np.reshape(y, (-1, ))\n",
    "\n",
    "X, y = load_adult()\n",
    "```\n",
    "b) For each of the datasets, plot the calibration curves for the test set. The [module](https://scikit-learn.org/stable/modules/calibration.html) from sklearn should help.\n",
    "\n",
    "For each dataset, the calibration curve should show a y=x line as the perfect calibration, as well as the calibration curves for each of the model predictions on the test set. Mark the plots correctly using a legend.\n",
    "\n",
    "c) [DiCE](https://github.com/interpretml/DiCE) is an open-source library that is based on the paper [Explaining Machine Learning Classifiers through Diverse Counterfactual Explanations](https://arxiv.org/abs/1905.07697). The codebase has 3 methods in which they generate counterfactuals - random sampling, KD-tree and genetic algorithm. Use DiCE (random) and DiCE (genetic) to generate 5 counterfactuals each for the first 50 data point in the test set for each of the models. Report the following metrics for each of the datasets and each of the models. So essentially, you will need to create a table for each dataset where the metrics are present in the columns and each row represents a different model. \n",
    "\n",
    "Here are some pointers that will help you get started with DiCE and the metrics needed. \n",
    "- Install the library using ```!pip install dice-ml```\n",
    "- They have an excellent documentation on their GitHub, and their implementation notebooks will be very helpful. You can check [this](https://github.com/interpretml/DiCE/blob/master/docs/source/notebooks/DiCE_model_agnostic_CFs.ipynb) to get started.\n",
    "- Section 4.1 in the [DiCE paper](https://arxiv.org/pdf/1905.07697.pdf) discuss and mathematically formulate validity, sparsity, diversity and proximity. Read those carefully and implement functions that can evaluate the metrics. Use the ```Continuous-Proximity``` metric just for simplicity. Use the ```Diversity``` metric and not ```Count-Diversity```.\n",
    "- For the in-distributionness, use the following code snippet to evaluate the MMD (maximum mean discrepancy) score.\n",
    "\n",
    "```\n",
    "def get_mmd_rbf(X, Y, gamma=1.0):\n",
    "    \"\"\"MMD using rbf (gaussian) kernel (i.e., k(x,y) = exp(-gamma * ||x-y||^2 / 2))\n",
    "    Arguments:\n",
    "        X {[n_sample1, dim]} -- [X matrix]\n",
    "        Y {[n_sample2, dim]} -- [Y matrix]\n",
    "    Keyword Arguments:\n",
    "        gamma {float} -- [kernel parameter] (default: {1.0})\n",
    "    Returns:\n",
    "        [scalar] -- [MMD value]\n",
    "    \"\"\"\n",
    "    XX = metrics.pairwise.rbf_kernel(X, X, gamma)\n",
    "    YY = metrics.pairwise.rbf_kernel(Y, Y, gamma)\n",
    "    XY = metrics.pairwise.rbf_kernel(X, Y, gamma)\n",
    "    return XX.mean() + YY.mean() - 2 * XY.mean()\n",
    "```\n"
   ]
  },
  {
   "cell_type": "markdown",
   "metadata": {
    "id": "gcLazqf-DLkq"
   },
   "source": [
    "## Answer:"
   ]
  },
  {
   "cell_type": "code",
   "execution_count": 35,
   "metadata": {},
   "outputs": [],
   "source": [
    "import pandas as pd\n",
    "import numpy as np\n",
    "from sklearn.datasets import load_breast_cancer\n",
    "from sklearn.model_selection import train_test_split\n",
    "from sklearn.ensemble import RandomForestClassifier\n",
    "from sklearn.metrics import classification_report as cr\n",
    "from sklearn.neural_network import MLPClassifier\n",
    "from sklearn.linear_model import LogisticRegression\n",
    "from sklearn.metrics import accuracy_score\n",
    "import matplotlib.pyplot as plt\n",
    "from matplotlib.gridspec import GridSpec\n",
    "from sklearn.calibration import CalibratedClassifierCV, calibration_curve, CalibrationDisplay\n",
    "from sklearn.metrics import (brier_score_loss, precision_score, recall_score,\n",
    "                             f1_score)\n",
    "import warnings\n",
    "warnings.filterwarnings('ignore')"
   ]
  },
  {
   "cell_type": "markdown",
   "metadata": {},
   "source": [
    "## Part A"
   ]
  },
  {
   "cell_type": "code",
   "execution_count": 36,
   "metadata": {},
   "outputs": [],
   "source": [
    "class ensemble_models():\n",
    "    def RandomForest(m_d,n,m_s):\n",
    "        rf = RandomForestClassifier(max_depth=m_d,n_estimators=n,min_samples_split=m_s)\n",
    "        rf_fit = rf.fit(X_train,y_train)\n",
    "        rf_pred_train = rf.predict(X_train)\n",
    "        rf_pred_test = rf.predict(X_test)\n",
    "        return [accuracy_score(y_train,rf_pred_train),accuracy_score(y_test,rf_pred_test)]\n",
    "    \n",
    "    def MLP():\n",
    "        mlp =  MLPClassifier()\n",
    "        mlp_fit = mlp.fit(X_train,y_train)\n",
    "        mlp_pred_train = mlp.predict(X_train)\n",
    "        mlp_pred_test = mlp.predict(X_test)\n",
    "        return [accuracy_score(y_train,mlp_pred_train),accuracy_score(y_test,mlp_pred_test)]\n",
    "        \n",
    "    def LogReg(c,m_i=10000):\n",
    "        lr = LogisticRegression(C=c, max_iter=m_i)\n",
    "        lr_fit = lr.fit(X_train,y_train)\n",
    "        lr_pred_train = lr.predict(X_train)\n",
    "        lr_pred_test = lr.predict(X_test)\n",
    "        return [accuracy_score(y_train,lr_pred_train),accuracy_score(y_test,lr_pred_test)]"
   ]
  },
  {
   "cell_type": "markdown",
   "metadata": {},
   "source": [
    "### Diabetes dataset"
   ]
  },
  {
   "cell_type": "code",
   "execution_count": 37,
   "metadata": {},
   "outputs": [],
   "source": [
    "def load_diabetes():\n",
    "    df = pd.read_csv('diabetes-2.csv')\n",
    "    X = df.drop(['Outcome'], axis=1)\n",
    "    y = df[['Outcome']]\n",
    "    return X, np.reshape(y, (-1, ))\n",
    "\n",
    "X, y = load_diabetes()\n",
    "X_train, X_test, y_train, y_test = train_test_split(X, y, test_size=0.33, random_state=42)"
   ]
  },
  {
   "cell_type": "code",
   "execution_count": 38,
   "metadata": {},
   "outputs": [
    {
     "data": {
      "text/html": [
       "<div>\n",
       "<style scoped>\n",
       "    .dataframe tbody tr th:only-of-type {\n",
       "        vertical-align: middle;\n",
       "    }\n",
       "\n",
       "    .dataframe tbody tr th {\n",
       "        vertical-align: top;\n",
       "    }\n",
       "\n",
       "    .dataframe thead th {\n",
       "        text-align: right;\n",
       "    }\n",
       "</style>\n",
       "<table border=\"1\" class=\"dataframe\">\n",
       "  <thead>\n",
       "    <tr style=\"text-align: right;\">\n",
       "      <th></th>\n",
       "      <th>Train_accuracy</th>\n",
       "      <th>Test_Accuracy</th>\n",
       "    </tr>\n",
       "  </thead>\n",
       "  <tbody>\n",
       "    <tr>\n",
       "      <th>Random Forest</th>\n",
       "      <td>0.832685</td>\n",
       "      <td>0.755906</td>\n",
       "    </tr>\n",
       "    <tr>\n",
       "      <th>MLP</th>\n",
       "      <td>0.768482</td>\n",
       "      <td>0.688976</td>\n",
       "    </tr>\n",
       "    <tr>\n",
       "      <th>Logistic Regression</th>\n",
       "      <td>0.778210</td>\n",
       "      <td>0.740157</td>\n",
       "    </tr>\n",
       "  </tbody>\n",
       "</table>\n",
       "</div>"
      ],
      "text/plain": [
       "                     Train_accuracy  Test_Accuracy\n",
       "Random Forest              0.832685       0.755906\n",
       "MLP                        0.768482       0.688976\n",
       "Logistic Regression        0.778210       0.740157"
      ]
     },
     "execution_count": 38,
     "metadata": {},
     "output_type": "execute_result"
    }
   ],
   "source": [
    "rf_db = ensemble_models.RandomForest(4,50,4)\n",
    "mlp_db = ensemble_models.MLP()\n",
    "lr_db = ensemble_models.LogReg(0.1)\n",
    "\n",
    "accuracy_db = [rf_db,mlp_db,lr_db]\n",
    "df_db = pd.DataFrame(columns=['Train_accuracy','Test_Accuracy'],data=accuracy_db)\n",
    "df_db.rename(index={0:'Random Forest',1:'MLP',2:'Logistic Regression'},inplace=True)\n",
    "df_db"
   ]
  },
  {
   "cell_type": "markdown",
   "metadata": {},
   "source": [
    "### Adult Census dataset"
   ]
  },
  {
   "cell_type": "code",
   "execution_count": 39,
   "metadata": {},
   "outputs": [],
   "source": [
    "def load_adult():\n",
    "    df = pd.read_csv('adult.csv')\n",
    "    df = pd.get_dummies(df)\n",
    "    X = df.drop(['target'], axis=1)\n",
    "    y = df[['target']]\n",
    "    return X, np.reshape(y, (-1, ))\n",
    "\n",
    "X, y = load_adult()\n",
    "X_train, X_test, y_train, y_test = train_test_split(X, y, test_size=0.33, random_state=42)"
   ]
  },
  {
   "cell_type": "code",
   "execution_count": 40,
   "metadata": {},
   "outputs": [
    {
     "data": {
      "text/html": [
       "<div>\n",
       "<style scoped>\n",
       "    .dataframe tbody tr th:only-of-type {\n",
       "        vertical-align: middle;\n",
       "    }\n",
       "\n",
       "    .dataframe tbody tr th {\n",
       "        vertical-align: top;\n",
       "    }\n",
       "\n",
       "    .dataframe thead th {\n",
       "        text-align: right;\n",
       "    }\n",
       "</style>\n",
       "<table border=\"1\" class=\"dataframe\">\n",
       "  <thead>\n",
       "    <tr style=\"text-align: right;\">\n",
       "      <th></th>\n",
       "      <th>Train_accuracy</th>\n",
       "      <th>Test_Accuracy</th>\n",
       "    </tr>\n",
       "  </thead>\n",
       "  <tbody>\n",
       "    <tr>\n",
       "      <th>Random Forest</th>\n",
       "      <td>0.887188</td>\n",
       "      <td>0.861716</td>\n",
       "    </tr>\n",
       "    <tr>\n",
       "      <th>MLP</th>\n",
       "      <td>0.780976</td>\n",
       "      <td>0.787828</td>\n",
       "    </tr>\n",
       "    <tr>\n",
       "      <th>Logistic Regression</th>\n",
       "      <td>0.792391</td>\n",
       "      <td>0.797320</td>\n",
       "    </tr>\n",
       "  </tbody>\n",
       "</table>\n",
       "</div>"
      ],
      "text/plain": [
       "                     Train_accuracy  Test_Accuracy\n",
       "Random Forest              0.887188       0.861716\n",
       "MLP                        0.780976       0.787828\n",
       "Logistic Regression        0.792391       0.797320"
      ]
     },
     "execution_count": 40,
     "metadata": {},
     "output_type": "execute_result"
    }
   ],
   "source": [
    "rf_ac = ensemble_models.RandomForest(15,50,10)\n",
    "mlp_ac = ensemble_models.MLP()\n",
    "lr_ac = ensemble_models.LogReg(0.01)\n",
    "\n",
    "accuracy_ac = [rf_ac,mlp_ac,lr_ac]\n",
    "df_ac = pd.DataFrame(columns=['Train_accuracy','Test_Accuracy'],data=accuracy_ac)\n",
    "df_ac.rename(index={0:'Random Forest',1:'MLP',2:'Logistic Regression'},inplace=True)\n",
    "df_ac"
   ]
  },
  {
   "cell_type": "markdown",
   "metadata": {},
   "source": [
    "## Part B"
   ]
  },
  {
   "cell_type": "markdown",
   "metadata": {},
   "source": [
    "### Diabetes dataset"
   ]
  },
  {
   "cell_type": "code",
   "execution_count": 41,
   "metadata": {},
   "outputs": [],
   "source": [
    "def load_diabetes():\n",
    "    df = pd.read_csv('diabetes-2.csv')\n",
    "    X = df.drop(['Outcome'], axis=1)\n",
    "    y = df[['Outcome']]\n",
    "    return X, np.reshape(y, (-1, ))\n",
    "\n",
    "X, y = load_diabetes()\n",
    "X_train, X_test, y_train, y_test = train_test_split(X, y, test_size=0.33, random_state=42)"
   ]
  },
  {
   "cell_type": "code",
   "execution_count": 42,
   "metadata": {},
   "outputs": [],
   "source": [
    "lr = LogisticRegression()\n",
    "rfc = RandomForestClassifier()\n",
    "mlp = MLPClassifier()\n",
    "\n",
    "clf_list = [\n",
    "    (lr, 'Logistic Regression'),\n",
    "    (rfc, 'Random forest'),\n",
    "    (mlp,'MLP')\n",
    "]"
   ]
  },
  {
   "cell_type": "code",
   "execution_count": 43,
   "metadata": {},
   "outputs": [
    {
     "data": {
      "image/png": "[encoded data removed]",
      "text/plain": [
       "<Figure size 720x720 with 4 Axes>"
      ]
     },
     "metadata": {
      "needs_background": "light"
     },
     "output_type": "display_data"
    }
   ],
   "source": [
    "fig = plt.figure(figsize=(10, 10))\n",
    "gs = GridSpec(4, 2)\n",
    "colors = plt.cm.get_cmap('Dark2')\n",
    "\n",
    "ax_calibration_curve = fig.add_subplot(gs[:2, :2])\n",
    "calibration_displays = {}\n",
    "for i, (clf, name) in enumerate(clf_list):\n",
    "    clf.fit(X_train, y_train)\n",
    "    display = CalibrationDisplay.from_estimator(\n",
    "        clf,\n",
    "        X_test,\n",
    "        y_test,\n",
    "        n_bins=10,\n",
    "        name=name,\n",
    "        ax=ax_calibration_curve,\n",
    "        color=colors(i),\n",
    "    )\n",
    "    calibration_displays[name] = display\n",
    "\n",
    "ax_calibration_curve.grid()\n",
    "ax_calibration_curve.set_title('Calibration plots')\n",
    "\n",
    "# Add histogram\n",
    "grid_positions = [(2, 0), (2, 1), (3, 0), (3, 1)]\n",
    "for i, (_, name) in enumerate(clf_list):\n",
    "    row, col = grid_positions[i]\n",
    "    ax = fig.add_subplot(gs[row, col])\n",
    "\n",
    "    ax.hist(\n",
    "        calibration_displays[name].y_prob,\n",
    "        range=(0, 1),\n",
    "        bins=10,\n",
    "        label=name,\n",
    "        color=colors(i),\n",
    "    )\n",
    "    ax.set(title=name, xlabel = 'Mean predicted probability', ylabel = 'Count')\n",
    "\n",
    "plt.tight_layout()\n",
    "plt.show()"
   ]
  },
  {
   "cell_type": "markdown",
   "metadata": {},
   "source": [
    "### Adult Census dataset"
   ]
  },
  {
   "cell_type": "code",
   "execution_count": 44,
   "metadata": {},
   "outputs": [],
   "source": [
    "def load_adult():\n",
    "    df = pd.read_csv('adult.csv')\n",
    "    df = pd.get_dummies(df)\n",
    "    X = df.drop(['target'], axis=1)\n",
    "    y = df[['target']]\n",
    "    return X, np.reshape(y, (-1, ))\n",
    "\n",
    "X, y = load_adult()\n",
    "X_train, X_test, y_train, y_test = train_test_split(X, y, test_size=0.33, random_state=42)"
   ]
  },
  {
   "cell_type": "code",
   "execution_count": 45,
   "metadata": {},
   "outputs": [],
   "source": [
    "lr = LogisticRegression()\n",
    "rfc = RandomForestClassifier()\n",
    "mlp = MLPClassifier()\n",
    "\n",
    "clf_list = [\n",
    "    (lr, 'Logistic Regression'),\n",
    "    (rfc, 'Random forest'),\n",
    "    (mlp,'MLP')\n",
    "]"
   ]
  },
  {
   "cell_type": "code",
   "execution_count": 46,
   "metadata": {},
   "outputs": [
    {
     "data": {
      "image/png": "[encoded data removed]",
      "text/plain": [
       "<Figure size 720x720 with 4 Axes>"
      ]
     },
     "metadata": {
      "needs_background": "light"
     },
     "output_type": "display_data"
    }
   ],
   "source": [
    "fig = plt.figure(figsize=(10, 10))\n",
    "gs = GridSpec(4, 2)\n",
    "colors = plt.cm.get_cmap('Dark2')\n",
    "\n",
    "ax_calibration_curve = fig.add_subplot(gs[:2, :2])\n",
    "calibration_displays = {}\n",
    "for i, (clf, name) in enumerate(clf_list):\n",
    "    clf.fit(X_train, y_train)\n",
    "    display = CalibrationDisplay.from_estimator(\n",
    "        clf,\n",
    "        X_test,\n",
    "        y_test,\n",
    "        n_bins=10,\n",
    "        name=name,\n",
    "        ax=ax_calibration_curve,\n",
    "        color=colors(i),\n",
    "    )\n",
    "    calibration_displays[name] = display\n",
    "\n",
    "ax_calibration_curve.grid()\n",
    "ax_calibration_curve.set_title('Calibration plots')\n",
    "\n",
    "# Add histogram\n",
    "grid_positions = [(2, 0), (2, 1), (3, 0), (3, 1)]\n",
    "for i, (_, name) in enumerate(clf_list):\n",
    "    row, col = grid_positions[i]\n",
    "    ax = fig.add_subplot(gs[row, col])\n",
    "\n",
    "    ax.hist(\n",
    "        calibration_displays[name].y_prob,\n",
    "        range=(0, 1),\n",
    "        bins=10,\n",
    "        label=name,\n",
    "        color=colors(i),\n",
    "    )\n",
    "    ax.set(title=name, xlabel = 'Mean predicted probability', ylabel = 'Count')\n",
    "\n",
    "plt.tight_layout()\n",
    "plt.show()"
   ]
  },
  {
   "cell_type": "markdown",
   "metadata": {},
   "source": [
    "### Part C"
   ]
  },
  {
   "cell_type": "code",
   "execution_count": 47,
   "metadata": {},
   "outputs": [],
   "source": [
    "import dice_ml\n",
    "from dice_ml.utils import helpers \n",
    "from collections import defaultdict\n",
    "from scipy.stats import median_abs_deviation as MAD\n",
    "from sklearn import metrics"
   ]
  },
  {
   "cell_type": "markdown",
   "metadata": {},
   "source": [
    "### Diabetes dataset"
   ]
  },
  {
   "cell_type": "code",
   "execution_count": 48,
   "metadata": {},
   "outputs": [],
   "source": [
    "def load_diabetes():\n",
    "    df = pd.read_csv('diabetes-2.csv')\n",
    "    X = df.drop(['Outcome'], axis=1)\n",
    "    y = df[['Outcome']]\n",
    "    return X, np.reshape(y, (-1, ))\n",
    "\n",
    "DB_X, DB_y = load_diabetes()\n",
    "\n",
    "DB_X_train, DB_X_test, DB_y_train, DB_y_test = train_test_split(DB_X, DB_y, test_size=0.33, random_state=42)\n",
    "DB_mad = MAD(DB_X_train)"
   ]
  },
  {
   "cell_type": "markdown",
   "metadata": {},
   "source": [
    "### Adult dataset"
   ]
  },
  {
   "cell_type": "code",
   "execution_count": 49,
   "metadata": {},
   "outputs": [],
   "source": [
    "def load_adult():\n",
    "    df = pd.read_csv('adult.csv')\n",
    "    df = pd.get_dummies(df)\n",
    "    X = df.drop(['target'], axis=1)\n",
    "    y = df[['target']]\n",
    "    return X, np.reshape(y, (-1, ))\n",
    "\n",
    "AC_X, AC_y = load_adult()\n",
    "AC_X = AC_X.astype('int64')\n",
    "AC_y = AC_y.astype('int64')\n",
    "\n",
    "AC_X_train, AC_X_test, AC_y_train, AC_y_test = train_test_split(AC_X, AC_y, test_size=0.33, random_state=42)\n",
    "AC_mad = MAD(AC_X_train[['age', 'fnlwgt', 'education-num']])"
   ]
  },
  {
   "cell_type": "code",
   "execution_count": 50,
   "metadata": {},
   "outputs": [
    {
     "data": {
      "text/plain": [
       "RandomForestClassifier()"
      ]
     },
     "execution_count": 50,
     "metadata": {},
     "output_type": "execute_result"
    }
   ],
   "source": [
    "lr_db = LogisticRegression()\n",
    "rfc_db = RandomForestClassifier()\n",
    "mlp_db = MLPClassifier()\n",
    "\n",
    "lr_ac = LogisticRegression()\n",
    "rfc_ac = RandomForestClassifier()\n",
    "mlp_ac = MLPClassifier()\n",
    "\n",
    "lr_db.fit(DB_X_train,DB_y_train)\n",
    "mlp_db.fit(DB_X_train,DB_y_train)\n",
    "rfc_db.fit(DB_X_train,DB_y_train)\n",
    "\n",
    "lr_ac.fit(AC_X_train,AC_y_train)\n",
    "mlp_ac.fit(AC_X_train,AC_y_train)\n",
    "rfc_ac.fit(AC_X_train,AC_y_train)"
   ]
  },
  {
   "cell_type": "code",
   "execution_count": 65,
   "metadata": {},
   "outputs": [],
   "source": [
    "def generateCF(model, method, X, y, sample_size, n_cfs):\n",
    "    dataset = X.copy()\n",
    "    dataset['outcome'] = y\n",
    "    d = dice_ml.Data(dataframe=dataset, continuous_features=list(X.columns), outcome_name='outcome')\n",
    "    m = dice_ml.Model(model=model, backend='sklearn')\n",
    "    \n",
    "    exp_random = dice_ml.Dice(d, m, method=method)  \n",
    "    query_instances = X[:sample_size]\n",
    "\n",
    "    dice_exp_random = exp_random.generate_counterfactuals(\n",
    "        query_instances, total_CFs=n_cfs, desired_class='opposite', verbose=False)\n",
    "    \n",
    "    return dice_exp_random, dataset.head(sample_size)"
   ]
  },
  {
   "cell_type": "code",
   "execution_count": 73,
   "metadata": {},
   "outputs": [],
   "source": [
    "def Proximity(cfs, dataset, sample_size, n_cfs, c_features, mad):\n",
    "    dist_outer = []\n",
    "    for i in range(sample_size):\n",
    "        p1 = dataset[c_features].iloc[i].values\n",
    "        out_array = cfs.cf_examples_list[i].final_cfs_df[c_features].values.T\n",
    "        t = np.array([np.sum(np.abs(c-p1)/mad) for c in out_array.T])\n",
    "        t = np.mean(t)\n",
    "\n",
    "        dist_outer.append(t)\n",
    "    return -1*np.mean(dist_outer)\n",
    "\n",
    "\n",
    "def Validity(cfs, dataset, sample_size):\n",
    "    validity = []\n",
    "    for i in range(sample_size):\n",
    "        unique_values = sum(cfs.cf_examples_list[i].final_cfs_df['outcome'] != dataset.iloc[i]['outcome'])\n",
    "        validity.append(float(unique_values)/cfs.cf_examples_list[i].final_cfs_df.shape[0]) \n",
    "    return np.mean(validity)\n",
    "\n",
    "def Sparsity(cfs, dataset, sample_size, n_cfs):\n",
    "    dist_outer = []\n",
    "    for i in range(sample_size):\n",
    "        p1 = dataset.iloc[i].values[:-1]\n",
    "        out = cfs.cf_examples_list[i].final_cfs_df.values.T\n",
    "        \n",
    "        t = sum([sum(np.abs(c[:-1]-p1)>0) for c in out.T])\n",
    "        t = float(t) / n_cfs / dataset.shape[1]\n",
    "        dist_outer.append(1 - t)\n",
    "    return np.mean(dist_outer)\n",
    "\n",
    "\n",
    "def Diversity(cfs, sample_size, n_cfs):\n",
    "    dist_outer = []\n",
    "    for i in range(sample_size):\n",
    "        out = cfs.cf_examples_list[i].final_cfs_df.values.T\n",
    "        dist = 0\n",
    "        for c in out.T:\n",
    "            c = c[:-1]\n",
    "            t = np.array([np.abs(q[:-1]-c) for q in out.T])\n",
    "            dist += sum((t @ t.T) @ np.ones(n_cfs)) / (c.T @ c)\n",
    "        \n",
    "        dist = float(dist) / n_cfs\n",
    "        dist_outer.append(dist)\n",
    "\n",
    "    return np.mean(dist_outer)\n",
    "\n",
    "\n",
    "def get_mmd_rbf(cfs, dataset, sample_size, gamma=1.0):\n",
    "    \n",
    "    \"\"\"MMD using rbf (gaussian) kernel (i.e., k(x,y) = exp(-gamma * ||x-y||^2 / 2))\n",
    "    Arguments:\n",
    "        X {[n_sample1, dim]} -- [X matrix]\n",
    "        Y {[n_sample2, dim]} -- [Y matrix]\n",
    "    Keyword Arguments:\n",
    "        gamma {float} -- [kernel parameter] (default: {1.0})\n",
    "    Returns:\n",
    "        [scalar] -- [MMD value]\n",
    "    \"\"\"\n",
    "    \n",
    "    XX_list = []\n",
    "    YY_list = []\n",
    "    XY_list = []\n",
    "    \n",
    "    for i in range(sample_size):\n",
    "        X = dataset.iloc[i].values.reshape(-1, 1).T\n",
    "        Y = cfs.cf_examples_list[i].final_cfs_df.values\n",
    "        XX = metrics.pairwise.rbf_kernel(X, X, gamma)\n",
    "        YY = metrics.pairwise.rbf_kernel(Y, Y, gamma)\n",
    "        XY = metrics.pairwise.rbf_kernel(X, Y, gamma)\n",
    "        \n",
    "        XX_list.append(XX)\n",
    "        YY_list.append(YY)\n",
    "        XY_list.append(XY)\n",
    "        \n",
    "    return np.mean(XX_list) + np.mean(YY_list) - 2 * np.mean(XY_list)"
   ]
  },
  {
   "cell_type": "code",
   "execution_count": 74,
   "metadata": {},
   "outputs": [],
   "source": [
    "clf_dict = {'Pima Diabetes' : {'Logistic Regression': lr_db, 'MLP': mlp_db, 'Random Forest': rfc_db},\n",
    "    'Adult Census' : {'Logistic Regression': lr_ac, 'MLP': mlp_ac, 'Random Forest': rfc_ac}}\n",
    "\n",
    "clf_data = {'Pima Diabetes' : {'X_test': DB_X_test, 'y_test': DB_y_test, 'mad': DB_mad, 'c_features': list(DB_X.columns)},\n",
    "    'Adult Census' : {'X_test': AC_X_test, 'y_test': AC_y_test, 'mad': AC_mad, 'c_features': ['age', 'fnlwgt', 'education-num']}}\n",
    "\n",
    "sample_size = 5\n",
    "n_cfs = 5 \n",
    "cf_metric = defaultdict(dict)"
   ]
  },
  {
   "cell_type": "code",
   "execution_count": 75,
   "metadata": {},
   "outputs": [
    {
     "name": "stdout",
     "output_type": "stream",
     "text": [
      "Generating counterfactuals for Pima Diabetes\n",
      "Model Name Logistic Regression\n",
      "Method Name random\n"
     ]
    },
    {
     "name": "stderr",
     "output_type": "stream",
     "text": [
      "100%|██████████| 5/5 [00:00<00:00, 12.47it/s]\n"
     ]
    },
    {
     "name": "stdout",
     "output_type": "stream",
     "text": [
      "1.2000000002276845\n",
      "Method Name genetic\n"
     ]
    },
    {
     "name": "stderr",
     "output_type": "stream",
     "text": [
      "100%|██████████| 5/5 [00:00<00:00, 15.06it/s]\n"
     ]
    },
    {
     "name": "stdout",
     "output_type": "stream",
     "text": [
      "1.1705696447060745\n",
      "Model Name MLP\n",
      "Method Name random\n"
     ]
    },
    {
     "name": "stderr",
     "output_type": "stream",
     "text": [
      "100%|██████████| 5/5 [00:00<00:00, 10.61it/s]\n"
     ]
    },
    {
     "name": "stdout",
     "output_type": "stream",
     "text": [
      "1.2000019655540513\n",
      "Method Name genetic\n"
     ]
    },
    {
     "name": "stderr",
     "output_type": "stream",
     "text": [
      "100%|██████████| 5/5 [00:00<00:00, 14.53it/s]\n"
     ]
    },
    {
     "name": "stdout",
     "output_type": "stream",
     "text": [
      "1.1411392894380428\n",
      "Model Name Random Forest\n",
      "Method Name random\n"
     ]
    },
    {
     "name": "stderr",
     "output_type": "stream",
     "text": [
      "100%|██████████| 5/5 [00:01<00:00,  4.41it/s]\n"
     ]
    },
    {
     "name": "stdout",
     "output_type": "stream",
     "text": [
      "1.2033837197868866\n",
      "Method Name genetic\n"
     ]
    },
    {
     "name": "stderr",
     "output_type": "stream",
     "text": [
      "100%|██████████| 5/5 [00:01<00:00,  4.76it/s]\n"
     ]
    },
    {
     "name": "stdout",
     "output_type": "stream",
     "text": [
      "1.1705696447062885\n",
      "Generating counterfactuals for Adult Census\n",
      "Model Name Logistic Regression\n",
      "Method Name random\n"
     ]
    },
    {
     "name": "stderr",
     "output_type": "stream",
     "text": [
      "100%|██████████| 5/5 [00:00<00:00,  7.09it/s]\n"
     ]
    },
    {
     "name": "stdout",
     "output_type": "stream",
     "text": [
      "1.2\n",
      "Method Name genetic\n"
     ]
    },
    {
     "name": "stderr",
     "output_type": "stream",
     "text": [
      "  0%|          | 0/5 [00:00<?, ?it/s]WARNING:root: MAD for feature capital-gain is 0, so replacing it with 1.0 to avoid error.\n",
      "WARNING:root: MAD for feature capital-loss is 0, so replacing it with 1.0 to avoid error.\n",
      "WARNING:root: MAD for feature workclass_ ? is 0, so replacing it with 1.0 to avoid error.\n",
      "WARNING:root: MAD for feature workclass_ Federal-gov is 0, so replacing it with 1.0 to avoid error.\n",
      "WARNING:root: MAD for feature workclass_ Local-gov is 0, so replacing it with 1.0 to avoid error.\n",
      "WARNING:root: MAD for feature workclass_ Never-worked is 0, so replacing it with 1.0 to avoid error.\n",
      "WARNING:root: MAD for feature workclass_ Private is 0, so replacing it with 1.0 to avoid error.\n",
      "WARNING:root: MAD for feature workclass_ Self-emp-inc is 0, so replacing it with 1.0 to avoid error.\n",
      "WARNING:root: MAD for feature workclass_ Self-emp-not-inc is 0, so replacing it with 1.0 to avoid error.\n",
      "WARNING:root: MAD for feature workclass_ State-gov is 0, so replacing it with 1.0 to avoid error.\n",
      "WARNING:root: MAD for feature workclass_ Without-pay is 0, so replacing it with 1.0 to avoid error.\n",
      "WARNING:root: MAD for feature education_ 10th is 0, so replacing it with 1.0 to avoid error.\n",
      "WARNING:root: MAD for feature education_ 11th is 0, so replacing it with 1.0 to avoid error.\n",
      "WARNING:root: MAD for feature education_ 12th is 0, so replacing it with 1.0 to avoid error.\n",
      "WARNING:root: MAD for feature education_ 1st-4th is 0, so replacing it with 1.0 to avoid error.\n",
      "WARNING:root: MAD for feature education_ 5th-6th is 0, so replacing it with 1.0 to avoid error.\n",
      "WARNING:root: MAD for feature education_ 7th-8th is 0, so replacing it with 1.0 to avoid error.\n",
      "WARNING:root: MAD for feature education_ 9th is 0, so replacing it with 1.0 to avoid error.\n",
      "WARNING:root: MAD for feature education_ Assoc-acdm is 0, so replacing it with 1.0 to avoid error.\n",
      "WARNING:root: MAD for feature education_ Assoc-voc is 0, so replacing it with 1.0 to avoid error.\n",
      "WARNING:root: MAD for feature education_ Bachelors is 0, so replacing it with 1.0 to avoid error.\n",
      "WARNING:root: MAD for feature education_ Doctorate is 0, so replacing it with 1.0 to avoid error.\n",
      "WARNING:root: MAD for feature education_ HS-grad is 0, so replacing it with 1.0 to avoid error.\n",
      "WARNING:root: MAD for feature education_ Masters is 0, so replacing it with 1.0 to avoid error.\n",
      "WARNING:root: MAD for feature education_ Preschool is 0, so replacing it with 1.0 to avoid error.\n",
      "WARNING:root: MAD for feature education_ Prof-school is 0, so replacing it with 1.0 to avoid error.\n",
      "WARNING:root: MAD for feature education_ Some-college is 0, so replacing it with 1.0 to avoid error.\n",
      "WARNING:root: MAD for feature marital-status_ Divorced is 0, so replacing it with 1.0 to avoid error.\n",
      "WARNING:root: MAD for feature marital-status_ Married-AF-spouse is 0, so replacing it with 1.0 to avoid error.\n",
      "WARNING:root: MAD for feature marital-status_ Married-civ-spouse is 0, so replacing it with 1.0 to avoid error.\n",
      "WARNING:root: MAD for feature marital-status_ Married-spouse-absent is 0, so replacing it with 1.0 to avoid error.\n",
      "WARNING:root: MAD for feature marital-status_ Never-married is 0, so replacing it with 1.0 to avoid error.\n",
      "WARNING:root: MAD for feature marital-status_ Separated is 0, so replacing it with 1.0 to avoid error.\n",
      "WARNING:root: MAD for feature marital-status_ Widowed is 0, so replacing it with 1.0 to avoid error.\n",
      "WARNING:root: MAD for feature occupation_ ? is 0, so replacing it with 1.0 to avoid error.\n",
      "WARNING:root: MAD for feature occupation_ Adm-clerical is 0, so replacing it with 1.0 to avoid error.\n",
      "WARNING:root: MAD for feature occupation_ Armed-Forces is 0, so replacing it with 1.0 to avoid error.\n",
      "WARNING:root: MAD for feature occupation_ Craft-repair is 0, so replacing it with 1.0 to avoid error.\n",
      "WARNING:root: MAD for feature occupation_ Exec-managerial is 0, so replacing it with 1.0 to avoid error.\n",
      "WARNING:root: MAD for feature occupation_ Farming-fishing is 0, so replacing it with 1.0 to avoid error.\n",
      "WARNING:root: MAD for feature occupation_ Handlers-cleaners is 0, so replacing it with 1.0 to avoid error.\n",
      "WARNING:root: MAD for feature occupation_ Machine-op-inspct is 0, so replacing it with 1.0 to avoid error.\n",
      "WARNING:root: MAD for feature occupation_ Other-service is 0, so replacing it with 1.0 to avoid error.\n",
      "WARNING:root: MAD for feature occupation_ Priv-house-serv is 0, so replacing it with 1.0 to avoid error.\n",
      "WARNING:root: MAD for feature occupation_ Prof-specialty is 0, so replacing it with 1.0 to avoid error.\n",
      "WARNING:root: MAD for feature occupation_ Protective-serv is 0, so replacing it with 1.0 to avoid error.\n",
      "WARNING:root: MAD for feature occupation_ Sales is 0, so replacing it with 1.0 to avoid error.\n",
      "WARNING:root: MAD for feature occupation_ Tech-support is 0, so replacing it with 1.0 to avoid error.\n",
      "WARNING:root: MAD for feature occupation_ Transport-moving is 0, so replacing it with 1.0 to avoid error.\n",
      "WARNING:root: MAD for feature relationship_ Husband is 0, so replacing it with 1.0 to avoid error.\n",
      "WARNING:root: MAD for feature relationship_ Not-in-family is 0, so replacing it with 1.0 to avoid error.\n",
      "WARNING:root: MAD for feature relationship_ Other-relative is 0, so replacing it with 1.0 to avoid error.\n",
      "WARNING:root: MAD for feature relationship_ Own-child is 0, so replacing it with 1.0 to avoid error.\n",
      "WARNING:root: MAD for feature relationship_ Unmarried is 0, so replacing it with 1.0 to avoid error.\n",
      "WARNING:root: MAD for feature relationship_ Wife is 0, so replacing it with 1.0 to avoid error.\n",
      "WARNING:root: MAD for feature race_ Amer-Indian-Eskimo is 0, so replacing it with 1.0 to avoid error.\n",
      "WARNING:root: MAD for feature race_ Asian-Pac-Islander is 0, so replacing it with 1.0 to avoid error.\n",
      "WARNING:root: MAD for feature race_ Black is 0, so replacing it with 1.0 to avoid error.\n",
      "WARNING:root: MAD for feature race_ Other is 0, so replacing it with 1.0 to avoid error.\n",
      "WARNING:root: MAD for feature race_ White is 0, so replacing it with 1.0 to avoid error.\n",
      "WARNING:root: MAD for feature sex_ Female is 0, so replacing it with 1.0 to avoid error.\n",
      "WARNING:root: MAD for feature sex_ Male is 0, so replacing it with 1.0 to avoid error.\n",
      " 20%|██        | 1/5 [00:00<00:01,  2.97it/s]WARNING:root: MAD for feature capital-gain is 0, so replacing it with 1.0 to avoid error.\n",
      "WARNING:root: MAD for feature capital-loss is 0, so replacing it with 1.0 to avoid error.\n",
      "WARNING:root: MAD for feature workclass_ ? is 0, so replacing it with 1.0 to avoid error.\n",
      "WARNING:root: MAD for feature workclass_ Federal-gov is 0, so replacing it with 1.0 to avoid error.\n",
      "WARNING:root: MAD for feature workclass_ Local-gov is 0, so replacing it with 1.0 to avoid error.\n",
      "WARNING:root: MAD for feature workclass_ Never-worked is 0, so replacing it with 1.0 to avoid error.\n",
      "WARNING:root: MAD for feature workclass_ Private is 0, so replacing it with 1.0 to avoid error.\n",
      "WARNING:root: MAD for feature workclass_ Self-emp-inc is 0, so replacing it with 1.0 to avoid error.\n",
      "WARNING:root: MAD for feature workclass_ Self-emp-not-inc is 0, so replacing it with 1.0 to avoid error.\n",
      "WARNING:root: MAD for feature workclass_ State-gov is 0, so replacing it with 1.0 to avoid error.\n",
      "WARNING:root: MAD for feature workclass_ Without-pay is 0, so replacing it with 1.0 to avoid error.\n",
      "WARNING:root: MAD for feature education_ 10th is 0, so replacing it with 1.0 to avoid error.\n",
      "WARNING:root: MAD for feature education_ 11th is 0, so replacing it with 1.0 to avoid error.\n",
      "WARNING:root: MAD for feature education_ 12th is 0, so replacing it with 1.0 to avoid error.\n",
      "WARNING:root: MAD for feature education_ 1st-4th is 0, so replacing it with 1.0 to avoid error.\n",
      "WARNING:root: MAD for feature education_ 5th-6th is 0, so replacing it with 1.0 to avoid error.\n",
      "WARNING:root: MAD for feature education_ 7th-8th is 0, so replacing it with 1.0 to avoid error.\n",
      "WARNING:root: MAD for feature education_ 9th is 0, so replacing it with 1.0 to avoid error.\n",
      "WARNING:root: MAD for feature education_ Assoc-acdm is 0, so replacing it with 1.0 to avoid error.\n",
      "WARNING:root: MAD for feature education_ Assoc-voc is 0, so replacing it with 1.0 to avoid error.\n",
      "WARNING:root: MAD for feature education_ Bachelors is 0, so replacing it with 1.0 to avoid error.\n"
     ]
    },
    {
     "name": "stderr",
     "output_type": "stream",
     "text": [
      "WARNING:root: MAD for feature education_ Doctorate is 0, so replacing it with 1.0 to avoid error.\n",
      "WARNING:root: MAD for feature education_ HS-grad is 0, so replacing it with 1.0 to avoid error.\n",
      "WARNING:root: MAD for feature education_ Masters is 0, so replacing it with 1.0 to avoid error.\n",
      "WARNING:root: MAD for feature education_ Preschool is 0, so replacing it with 1.0 to avoid error.\n",
      "WARNING:root: MAD for feature education_ Prof-school is 0, so replacing it with 1.0 to avoid error.\n",
      "WARNING:root: MAD for feature education_ Some-college is 0, so replacing it with 1.0 to avoid error.\n",
      "WARNING:root: MAD for feature marital-status_ Divorced is 0, so replacing it with 1.0 to avoid error.\n",
      "WARNING:root: MAD for feature marital-status_ Married-AF-spouse is 0, so replacing it with 1.0 to avoid error.\n",
      "WARNING:root: MAD for feature marital-status_ Married-civ-spouse is 0, so replacing it with 1.0 to avoid error.\n",
      "WARNING:root: MAD for feature marital-status_ Married-spouse-absent is 0, so replacing it with 1.0 to avoid error.\n",
      "WARNING:root: MAD for feature marital-status_ Never-married is 0, so replacing it with 1.0 to avoid error.\n",
      "WARNING:root: MAD for feature marital-status_ Separated is 0, so replacing it with 1.0 to avoid error.\n",
      "WARNING:root: MAD for feature marital-status_ Widowed is 0, so replacing it with 1.0 to avoid error.\n",
      "WARNING:root: MAD for feature occupation_ ? is 0, so replacing it with 1.0 to avoid error.\n",
      "WARNING:root: MAD for feature occupation_ Adm-clerical is 0, so replacing it with 1.0 to avoid error.\n",
      "WARNING:root: MAD for feature occupation_ Armed-Forces is 0, so replacing it with 1.0 to avoid error.\n",
      "WARNING:root: MAD for feature occupation_ Craft-repair is 0, so replacing it with 1.0 to avoid error.\n",
      "WARNING:root: MAD for feature occupation_ Exec-managerial is 0, so replacing it with 1.0 to avoid error.\n",
      "WARNING:root: MAD for feature occupation_ Farming-fishing is 0, so replacing it with 1.0 to avoid error.\n",
      "WARNING:root: MAD for feature occupation_ Handlers-cleaners is 0, so replacing it with 1.0 to avoid error.\n",
      "WARNING:root: MAD for feature occupation_ Machine-op-inspct is 0, so replacing it with 1.0 to avoid error.\n",
      "WARNING:root: MAD for feature occupation_ Other-service is 0, so replacing it with 1.0 to avoid error.\n",
      "WARNING:root: MAD for feature occupation_ Priv-house-serv is 0, so replacing it with 1.0 to avoid error.\n",
      "WARNING:root: MAD for feature occupation_ Prof-specialty is 0, so replacing it with 1.0 to avoid error.\n",
      "WARNING:root: MAD for feature occupation_ Protective-serv is 0, so replacing it with 1.0 to avoid error.\n",
      "WARNING:root: MAD for feature occupation_ Sales is 0, so replacing it with 1.0 to avoid error.\n",
      "WARNING:root: MAD for feature occupation_ Tech-support is 0, so replacing it with 1.0 to avoid error.\n",
      "WARNING:root: MAD for feature occupation_ Transport-moving is 0, so replacing it with 1.0 to avoid error.\n",
      "WARNING:root: MAD for feature relationship_ Husband is 0, so replacing it with 1.0 to avoid error.\n",
      "WARNING:root: MAD for feature relationship_ Not-in-family is 0, so replacing it with 1.0 to avoid error.\n",
      "WARNING:root: MAD for feature relationship_ Other-relative is 0, so replacing it with 1.0 to avoid error.\n",
      "WARNING:root: MAD for feature relationship_ Own-child is 0, so replacing it with 1.0 to avoid error.\n",
      "WARNING:root: MAD for feature relationship_ Unmarried is 0, so replacing it with 1.0 to avoid error.\n",
      "WARNING:root: MAD for feature relationship_ Wife is 0, so replacing it with 1.0 to avoid error.\n",
      "WARNING:root: MAD for feature race_ Amer-Indian-Eskimo is 0, so replacing it with 1.0 to avoid error.\n",
      "WARNING:root: MAD for feature race_ Asian-Pac-Islander is 0, so replacing it with 1.0 to avoid error.\n",
      "WARNING:root: MAD for feature race_ Black is 0, so replacing it with 1.0 to avoid error.\n",
      "WARNING:root: MAD for feature race_ Other is 0, so replacing it with 1.0 to avoid error.\n",
      "WARNING:root: MAD for feature race_ White is 0, so replacing it with 1.0 to avoid error.\n",
      "WARNING:root: MAD for feature sex_ Female is 0, so replacing it with 1.0 to avoid error.\n",
      "WARNING:root: MAD for feature sex_ Male is 0, so replacing it with 1.0 to avoid error.\n",
      " 40%|████      | 2/5 [00:00<00:00,  3.09it/s]WARNING:root: MAD for feature capital-gain is 0, so replacing it with 1.0 to avoid error.\n",
      "WARNING:root: MAD for feature capital-loss is 0, so replacing it with 1.0 to avoid error.\n",
      "WARNING:root: MAD for feature workclass_ ? is 0, so replacing it with 1.0 to avoid error.\n",
      "WARNING:root: MAD for feature workclass_ Federal-gov is 0, so replacing it with 1.0 to avoid error.\n",
      "WARNING:root: MAD for feature workclass_ Local-gov is 0, so replacing it with 1.0 to avoid error.\n",
      "WARNING:root: MAD for feature workclass_ Never-worked is 0, so replacing it with 1.0 to avoid error.\n",
      "WARNING:root: MAD for feature workclass_ Private is 0, so replacing it with 1.0 to avoid error.\n",
      "WARNING:root: MAD for feature workclass_ Self-emp-inc is 0, so replacing it with 1.0 to avoid error.\n",
      "WARNING:root: MAD for feature workclass_ Self-emp-not-inc is 0, so replacing it with 1.0 to avoid error.\n",
      "WARNING:root: MAD for feature workclass_ State-gov is 0, so replacing it with 1.0 to avoid error.\n",
      "WARNING:root: MAD for feature workclass_ Without-pay is 0, so replacing it with 1.0 to avoid error.\n",
      "WARNING:root: MAD for feature education_ 10th is 0, so replacing it with 1.0 to avoid error.\n",
      "WARNING:root: MAD for feature education_ 11th is 0, so replacing it with 1.0 to avoid error.\n",
      "WARNING:root: MAD for feature education_ 12th is 0, so replacing it with 1.0 to avoid error.\n",
      "WARNING:root: MAD for feature education_ 1st-4th is 0, so replacing it with 1.0 to avoid error.\n",
      "WARNING:root: MAD for feature education_ 5th-6th is 0, so replacing it with 1.0 to avoid error.\n",
      "WARNING:root: MAD for feature education_ 7th-8th is 0, so replacing it with 1.0 to avoid error.\n",
      "WARNING:root: MAD for feature education_ 9th is 0, so replacing it with 1.0 to avoid error.\n",
      "WARNING:root: MAD for feature education_ Assoc-acdm is 0, so replacing it with 1.0 to avoid error.\n",
      "WARNING:root: MAD for feature education_ Assoc-voc is 0, so replacing it with 1.0 to avoid error.\n",
      "WARNING:root: MAD for feature education_ Bachelors is 0, so replacing it with 1.0 to avoid error.\n",
      "WARNING:root: MAD for feature education_ Doctorate is 0, so replacing it with 1.0 to avoid error.\n",
      "WARNING:root: MAD for feature education_ HS-grad is 0, so replacing it with 1.0 to avoid error.\n",
      "WARNING:root: MAD for feature education_ Masters is 0, so replacing it with 1.0 to avoid error.\n",
      "WARNING:root: MAD for feature education_ Preschool is 0, so replacing it with 1.0 to avoid error.\n",
      "WARNING:root: MAD for feature education_ Prof-school is 0, so replacing it with 1.0 to avoid error.\n",
      "WARNING:root: MAD for feature education_ Some-college is 0, so replacing it with 1.0 to avoid error.\n",
      "WARNING:root: MAD for feature marital-status_ Divorced is 0, so replacing it with 1.0 to avoid error.\n",
      "WARNING:root: MAD for feature marital-status_ Married-AF-spouse is 0, so replacing it with 1.0 to avoid error.\n",
      "WARNING:root: MAD for feature marital-status_ Married-civ-spouse is 0, so replacing it with 1.0 to avoid error.\n",
      "WARNING:root: MAD for feature marital-status_ Married-spouse-absent is 0, so replacing it with 1.0 to avoid error.\n",
      "WARNING:root: MAD for feature marital-status_ Never-married is 0, so replacing it with 1.0 to avoid error.\n",
      "WARNING:root: MAD for feature marital-status_ Separated is 0, so replacing it with 1.0 to avoid error.\n",
      "WARNING:root: MAD for feature marital-status_ Widowed is 0, so replacing it with 1.0 to avoid error.\n",
      "WARNING:root: MAD for feature occupation_ ? is 0, so replacing it with 1.0 to avoid error.\n",
      "WARNING:root: MAD for feature occupation_ Adm-clerical is 0, so replacing it with 1.0 to avoid error.\n",
      "WARNING:root: MAD for feature occupation_ Armed-Forces is 0, so replacing it with 1.0 to avoid error.\n",
      "WARNING:root: MAD for feature occupation_ Craft-repair is 0, so replacing it with 1.0 to avoid error.\n",
      "WARNING:root: MAD for feature occupation_ Exec-managerial is 0, so replacing it with 1.0 to avoid error.\n",
      "WARNING:root: MAD for feature occupation_ Farming-fishing is 0, so replacing it with 1.0 to avoid error.\n",
      "WARNING:root: MAD for feature occupation_ Handlers-cleaners is 0, so replacing it with 1.0 to avoid error.\n"
     ]
    },
    {
     "name": "stderr",
     "output_type": "stream",
     "text": [
      "WARNING:root: MAD for feature occupation_ Machine-op-inspct is 0, so replacing it with 1.0 to avoid error.\n",
      "WARNING:root: MAD for feature occupation_ Other-service is 0, so replacing it with 1.0 to avoid error.\n",
      "WARNING:root: MAD for feature occupation_ Priv-house-serv is 0, so replacing it with 1.0 to avoid error.\n",
      "WARNING:root: MAD for feature occupation_ Prof-specialty is 0, so replacing it with 1.0 to avoid error.\n",
      "WARNING:root: MAD for feature occupation_ Protective-serv is 0, so replacing it with 1.0 to avoid error.\n",
      "WARNING:root: MAD for feature occupation_ Sales is 0, so replacing it with 1.0 to avoid error.\n",
      "WARNING:root: MAD for feature occupation_ Tech-support is 0, so replacing it with 1.0 to avoid error.\n",
      "WARNING:root: MAD for feature occupation_ Transport-moving is 0, so replacing it with 1.0 to avoid error.\n",
      "WARNING:root: MAD for feature relationship_ Husband is 0, so replacing it with 1.0 to avoid error.\n",
      "WARNING:root: MAD for feature relationship_ Not-in-family is 0, so replacing it with 1.0 to avoid error.\n",
      "WARNING:root: MAD for feature relationship_ Other-relative is 0, so replacing it with 1.0 to avoid error.\n",
      "WARNING:root: MAD for feature relationship_ Own-child is 0, so replacing it with 1.0 to avoid error.\n",
      "WARNING:root: MAD for feature relationship_ Unmarried is 0, so replacing it with 1.0 to avoid error.\n",
      "WARNING:root: MAD for feature relationship_ Wife is 0, so replacing it with 1.0 to avoid error.\n",
      "WARNING:root: MAD for feature race_ Amer-Indian-Eskimo is 0, so replacing it with 1.0 to avoid error.\n",
      "WARNING:root: MAD for feature race_ Asian-Pac-Islander is 0, so replacing it with 1.0 to avoid error.\n",
      "WARNING:root: MAD for feature race_ Black is 0, so replacing it with 1.0 to avoid error.\n",
      "WARNING:root: MAD for feature race_ Other is 0, so replacing it with 1.0 to avoid error.\n",
      "WARNING:root: MAD for feature race_ White is 0, so replacing it with 1.0 to avoid error.\n",
      "WARNING:root: MAD for feature sex_ Female is 0, so replacing it with 1.0 to avoid error.\n",
      "WARNING:root: MAD for feature sex_ Male is 0, so replacing it with 1.0 to avoid error.\n",
      " 60%|██████    | 3/5 [00:00<00:00,  3.13it/s]WARNING:root: MAD for feature capital-gain is 0, so replacing it with 1.0 to avoid error.\n",
      "WARNING:root: MAD for feature capital-loss is 0, so replacing it with 1.0 to avoid error.\n",
      "WARNING:root: MAD for feature workclass_ ? is 0, so replacing it with 1.0 to avoid error.\n",
      "WARNING:root: MAD for feature workclass_ Federal-gov is 0, so replacing it with 1.0 to avoid error.\n",
      "WARNING:root: MAD for feature workclass_ Local-gov is 0, so replacing it with 1.0 to avoid error.\n",
      "WARNING:root: MAD for feature workclass_ Never-worked is 0, so replacing it with 1.0 to avoid error.\n",
      "WARNING:root: MAD for feature workclass_ Private is 0, so replacing it with 1.0 to avoid error.\n",
      "WARNING:root: MAD for feature workclass_ Self-emp-inc is 0, so replacing it with 1.0 to avoid error.\n",
      "WARNING:root: MAD for feature workclass_ Self-emp-not-inc is 0, so replacing it with 1.0 to avoid error.\n",
      "WARNING:root: MAD for feature workclass_ State-gov is 0, so replacing it with 1.0 to avoid error.\n",
      "WARNING:root: MAD for feature workclass_ Without-pay is 0, so replacing it with 1.0 to avoid error.\n",
      "WARNING:root: MAD for feature education_ 10th is 0, so replacing it with 1.0 to avoid error.\n",
      "WARNING:root: MAD for feature education_ 11th is 0, so replacing it with 1.0 to avoid error.\n",
      "WARNING:root: MAD for feature education_ 12th is 0, so replacing it with 1.0 to avoid error.\n",
      "WARNING:root: MAD for feature education_ 1st-4th is 0, so replacing it with 1.0 to avoid error.\n",
      "WARNING:root: MAD for feature education_ 5th-6th is 0, so replacing it with 1.0 to avoid error.\n",
      "WARNING:root: MAD for feature education_ 7th-8th is 0, so replacing it with 1.0 to avoid error.\n",
      "WARNING:root: MAD for feature education_ 9th is 0, so replacing it with 1.0 to avoid error.\n",
      "WARNING:root: MAD for feature education_ Assoc-acdm is 0, so replacing it with 1.0 to avoid error.\n",
      "WARNING:root: MAD for feature education_ Assoc-voc is 0, so replacing it with 1.0 to avoid error.\n",
      "WARNING:root: MAD for feature education_ Bachelors is 0, so replacing it with 1.0 to avoid error.\n",
      "WARNING:root: MAD for feature education_ Doctorate is 0, so replacing it with 1.0 to avoid error.\n",
      "WARNING:root: MAD for feature education_ HS-grad is 0, so replacing it with 1.0 to avoid error.\n",
      "WARNING:root: MAD for feature education_ Masters is 0, so replacing it with 1.0 to avoid error.\n",
      "WARNING:root: MAD for feature education_ Preschool is 0, so replacing it with 1.0 to avoid error.\n",
      "WARNING:root: MAD for feature education_ Prof-school is 0, so replacing it with 1.0 to avoid error.\n",
      "WARNING:root: MAD for feature education_ Some-college is 0, so replacing it with 1.0 to avoid error.\n",
      "WARNING:root: MAD for feature marital-status_ Divorced is 0, so replacing it with 1.0 to avoid error.\n",
      "WARNING:root: MAD for feature marital-status_ Married-AF-spouse is 0, so replacing it with 1.0 to avoid error.\n",
      "WARNING:root: MAD for feature marital-status_ Married-civ-spouse is 0, so replacing it with 1.0 to avoid error.\n",
      "WARNING:root: MAD for feature marital-status_ Married-spouse-absent is 0, so replacing it with 1.0 to avoid error.\n",
      "WARNING:root: MAD for feature marital-status_ Never-married is 0, so replacing it with 1.0 to avoid error.\n",
      "WARNING:root: MAD for feature marital-status_ Separated is 0, so replacing it with 1.0 to avoid error.\n",
      "WARNING:root: MAD for feature marital-status_ Widowed is 0, so replacing it with 1.0 to avoid error.\n",
      "WARNING:root: MAD for feature occupation_ ? is 0, so replacing it with 1.0 to avoid error.\n",
      "WARNING:root: MAD for feature occupation_ Adm-clerical is 0, so replacing it with 1.0 to avoid error.\n",
      "WARNING:root: MAD for feature occupation_ Armed-Forces is 0, so replacing it with 1.0 to avoid error.\n",
      "WARNING:root: MAD for feature occupation_ Craft-repair is 0, so replacing it with 1.0 to avoid error.\n",
      "WARNING:root: MAD for feature occupation_ Exec-managerial is 0, so replacing it with 1.0 to avoid error.\n",
      "WARNING:root: MAD for feature occupation_ Farming-fishing is 0, so replacing it with 1.0 to avoid error.\n",
      "WARNING:root: MAD for feature occupation_ Handlers-cleaners is 0, so replacing it with 1.0 to avoid error.\n",
      "WARNING:root: MAD for feature occupation_ Machine-op-inspct is 0, so replacing it with 1.0 to avoid error.\n",
      "WARNING:root: MAD for feature occupation_ Other-service is 0, so replacing it with 1.0 to avoid error.\n",
      "WARNING:root: MAD for feature occupation_ Priv-house-serv is 0, so replacing it with 1.0 to avoid error.\n",
      "WARNING:root: MAD for feature occupation_ Prof-specialty is 0, so replacing it with 1.0 to avoid error.\n",
      "WARNING:root: MAD for feature occupation_ Protective-serv is 0, so replacing it with 1.0 to avoid error.\n",
      "WARNING:root: MAD for feature occupation_ Sales is 0, so replacing it with 1.0 to avoid error.\n",
      "WARNING:root: MAD for feature occupation_ Tech-support is 0, so replacing it with 1.0 to avoid error.\n",
      "WARNING:root: MAD for feature occupation_ Transport-moving is 0, so replacing it with 1.0 to avoid error.\n",
      "WARNING:root: MAD for feature relationship_ Husband is 0, so replacing it with 1.0 to avoid error.\n",
      "WARNING:root: MAD for feature relationship_ Not-in-family is 0, so replacing it with 1.0 to avoid error.\n",
      "WARNING:root: MAD for feature relationship_ Other-relative is 0, so replacing it with 1.0 to avoid error.\n",
      "WARNING:root: MAD for feature relationship_ Own-child is 0, so replacing it with 1.0 to avoid error.\n",
      "WARNING:root: MAD for feature relationship_ Unmarried is 0, so replacing it with 1.0 to avoid error.\n",
      "WARNING:root: MAD for feature relationship_ Wife is 0, so replacing it with 1.0 to avoid error.\n",
      "WARNING:root: MAD for feature race_ Amer-Indian-Eskimo is 0, so replacing it with 1.0 to avoid error.\n",
      "WARNING:root: MAD for feature race_ Asian-Pac-Islander is 0, so replacing it with 1.0 to avoid error.\n",
      "WARNING:root: MAD for feature race_ Black is 0, so replacing it with 1.0 to avoid error.\n",
      "WARNING:root: MAD for feature race_ Other is 0, so replacing it with 1.0 to avoid error.\n",
      "WARNING:root: MAD for feature race_ White is 0, so replacing it with 1.0 to avoid error.\n",
      "WARNING:root: MAD for feature sex_ Female is 0, so replacing it with 1.0 to avoid error.\n"
     ]
    },
    {
     "name": "stderr",
     "output_type": "stream",
     "text": [
      "WARNING:root: MAD for feature sex_ Male is 0, so replacing it with 1.0 to avoid error.\n",
      " 80%|████████  | 4/5 [00:01<00:00,  3.14it/s]WARNING:root: MAD for feature capital-gain is 0, so replacing it with 1.0 to avoid error.\n",
      "WARNING:root: MAD for feature capital-loss is 0, so replacing it with 1.0 to avoid error.\n",
      "WARNING:root: MAD for feature workclass_ ? is 0, so replacing it with 1.0 to avoid error.\n",
      "WARNING:root: MAD for feature workclass_ Federal-gov is 0, so replacing it with 1.0 to avoid error.\n",
      "WARNING:root: MAD for feature workclass_ Local-gov is 0, so replacing it with 1.0 to avoid error.\n",
      "WARNING:root: MAD for feature workclass_ Never-worked is 0, so replacing it with 1.0 to avoid error.\n",
      "WARNING:root: MAD for feature workclass_ Private is 0, so replacing it with 1.0 to avoid error.\n",
      "WARNING:root: MAD for feature workclass_ Self-emp-inc is 0, so replacing it with 1.0 to avoid error.\n",
      "WARNING:root: MAD for feature workclass_ Self-emp-not-inc is 0, so replacing it with 1.0 to avoid error.\n",
      "WARNING:root: MAD for feature workclass_ State-gov is 0, so replacing it with 1.0 to avoid error.\n",
      "WARNING:root: MAD for feature workclass_ Without-pay is 0, so replacing it with 1.0 to avoid error.\n",
      "WARNING:root: MAD for feature education_ 10th is 0, so replacing it with 1.0 to avoid error.\n",
      "WARNING:root: MAD for feature education_ 11th is 0, so replacing it with 1.0 to avoid error.\n",
      "WARNING:root: MAD for feature education_ 12th is 0, so replacing it with 1.0 to avoid error.\n",
      "WARNING:root: MAD for feature education_ 1st-4th is 0, so replacing it with 1.0 to avoid error.\n",
      "WARNING:root: MAD for feature education_ 5th-6th is 0, so replacing it with 1.0 to avoid error.\n",
      "WARNING:root: MAD for feature education_ 7th-8th is 0, so replacing it with 1.0 to avoid error.\n",
      "WARNING:root: MAD for feature education_ 9th is 0, so replacing it with 1.0 to avoid error.\n",
      "WARNING:root: MAD for feature education_ Assoc-acdm is 0, so replacing it with 1.0 to avoid error.\n",
      "WARNING:root: MAD for feature education_ Assoc-voc is 0, so replacing it with 1.0 to avoid error.\n",
      "WARNING:root: MAD for feature education_ Bachelors is 0, so replacing it with 1.0 to avoid error.\n",
      "WARNING:root: MAD for feature education_ Doctorate is 0, so replacing it with 1.0 to avoid error.\n",
      "WARNING:root: MAD for feature education_ HS-grad is 0, so replacing it with 1.0 to avoid error.\n",
      "WARNING:root: MAD for feature education_ Masters is 0, so replacing it with 1.0 to avoid error.\n",
      "WARNING:root: MAD for feature education_ Preschool is 0, so replacing it with 1.0 to avoid error.\n",
      "WARNING:root: MAD for feature education_ Prof-school is 0, so replacing it with 1.0 to avoid error.\n",
      "WARNING:root: MAD for feature education_ Some-college is 0, so replacing it with 1.0 to avoid error.\n",
      "WARNING:root: MAD for feature marital-status_ Divorced is 0, so replacing it with 1.0 to avoid error.\n",
      "WARNING:root: MAD for feature marital-status_ Married-AF-spouse is 0, so replacing it with 1.0 to avoid error.\n",
      "WARNING:root: MAD for feature marital-status_ Married-civ-spouse is 0, so replacing it with 1.0 to avoid error.\n",
      "WARNING:root: MAD for feature marital-status_ Married-spouse-absent is 0, so replacing it with 1.0 to avoid error.\n",
      "WARNING:root: MAD for feature marital-status_ Never-married is 0, so replacing it with 1.0 to avoid error.\n",
      "WARNING:root: MAD for feature marital-status_ Separated is 0, so replacing it with 1.0 to avoid error.\n",
      "WARNING:root: MAD for feature marital-status_ Widowed is 0, so replacing it with 1.0 to avoid error.\n",
      "WARNING:root: MAD for feature occupation_ ? is 0, so replacing it with 1.0 to avoid error.\n",
      "WARNING:root: MAD for feature occupation_ Adm-clerical is 0, so replacing it with 1.0 to avoid error.\n",
      "WARNING:root: MAD for feature occupation_ Armed-Forces is 0, so replacing it with 1.0 to avoid error.\n",
      "WARNING:root: MAD for feature occupation_ Craft-repair is 0, so replacing it with 1.0 to avoid error.\n",
      "WARNING:root: MAD for feature occupation_ Exec-managerial is 0, so replacing it with 1.0 to avoid error.\n",
      "WARNING:root: MAD for feature occupation_ Farming-fishing is 0, so replacing it with 1.0 to avoid error.\n",
      "WARNING:root: MAD for feature occupation_ Handlers-cleaners is 0, so replacing it with 1.0 to avoid error.\n",
      "WARNING:root: MAD for feature occupation_ Machine-op-inspct is 0, so replacing it with 1.0 to avoid error.\n",
      "WARNING:root: MAD for feature occupation_ Other-service is 0, so replacing it with 1.0 to avoid error.\n",
      "WARNING:root: MAD for feature occupation_ Priv-house-serv is 0, so replacing it with 1.0 to avoid error.\n",
      "WARNING:root: MAD for feature occupation_ Prof-specialty is 0, so replacing it with 1.0 to avoid error.\n",
      "WARNING:root: MAD for feature occupation_ Protective-serv is 0, so replacing it with 1.0 to avoid error.\n",
      "WARNING:root: MAD for feature occupation_ Sales is 0, so replacing it with 1.0 to avoid error.\n",
      "WARNING:root: MAD for feature occupation_ Tech-support is 0, so replacing it with 1.0 to avoid error.\n",
      "WARNING:root: MAD for feature occupation_ Transport-moving is 0, so replacing it with 1.0 to avoid error.\n",
      "WARNING:root: MAD for feature relationship_ Husband is 0, so replacing it with 1.0 to avoid error.\n",
      "WARNING:root: MAD for feature relationship_ Not-in-family is 0, so replacing it with 1.0 to avoid error.\n",
      "WARNING:root: MAD for feature relationship_ Other-relative is 0, so replacing it with 1.0 to avoid error.\n",
      "WARNING:root: MAD for feature relationship_ Own-child is 0, so replacing it with 1.0 to avoid error.\n",
      "WARNING:root: MAD for feature relationship_ Unmarried is 0, so replacing it with 1.0 to avoid error.\n",
      "WARNING:root: MAD for feature relationship_ Wife is 0, so replacing it with 1.0 to avoid error.\n",
      "WARNING:root: MAD for feature race_ Amer-Indian-Eskimo is 0, so replacing it with 1.0 to avoid error.\n",
      "WARNING:root: MAD for feature race_ Asian-Pac-Islander is 0, so replacing it with 1.0 to avoid error.\n",
      "WARNING:root: MAD for feature race_ Black is 0, so replacing it with 1.0 to avoid error.\n",
      "WARNING:root: MAD for feature race_ Other is 0, so replacing it with 1.0 to avoid error.\n",
      "WARNING:root: MAD for feature race_ White is 0, so replacing it with 1.0 to avoid error.\n",
      "WARNING:root: MAD for feature sex_ Female is 0, so replacing it with 1.0 to avoid error.\n",
      "WARNING:root: MAD for feature sex_ Male is 0, so replacing it with 1.0 to avoid error.\n",
      "100%|██████████| 5/5 [00:01<00:00,  3.12it/s]\n"
     ]
    },
    {
     "name": "stdout",
     "output_type": "stream",
     "text": [
      "1.2\n",
      "Model Name MLP\n",
      "Method Name random\n"
     ]
    },
    {
     "name": "stderr",
     "output_type": "stream",
     "text": [
      "100%|██████████| 5/5 [00:00<00:00,  6.99it/s]\n"
     ]
    },
    {
     "name": "stdout",
     "output_type": "stream",
     "text": [
      "1.2\n",
      "Method Name genetic\n"
     ]
    },
    {
     "name": "stderr",
     "output_type": "stream",
     "text": [
      "  0%|          | 0/5 [00:00<?, ?it/s]WARNING:root: MAD for feature capital-gain is 0, so replacing it with 1.0 to avoid error.\n",
      "WARNING:root: MAD for feature capital-loss is 0, so replacing it with 1.0 to avoid error.\n",
      "WARNING:root: MAD for feature workclass_ ? is 0, so replacing it with 1.0 to avoid error.\n",
      "WARNING:root: MAD for feature workclass_ Federal-gov is 0, so replacing it with 1.0 to avoid error.\n",
      "WARNING:root: MAD for feature workclass_ Local-gov is 0, so replacing it with 1.0 to avoid error.\n",
      "WARNING:root: MAD for feature workclass_ Never-worked is 0, so replacing it with 1.0 to avoid error.\n",
      "WARNING:root: MAD for feature workclass_ Private is 0, so replacing it with 1.0 to avoid error.\n",
      "WARNING:root: MAD for feature workclass_ Self-emp-inc is 0, so replacing it with 1.0 to avoid error.\n",
      "WARNING:root: MAD for feature workclass_ Self-emp-not-inc is 0, so replacing it with 1.0 to avoid error.\n",
      "WARNING:root: MAD for feature workclass_ State-gov is 0, so replacing it with 1.0 to avoid error.\n",
      "WARNING:root: MAD for feature workclass_ Without-pay is 0, so replacing it with 1.0 to avoid error.\n",
      "WARNING:root: MAD for feature education_ 10th is 0, so replacing it with 1.0 to avoid error.\n",
      "WARNING:root: MAD for feature education_ 11th is 0, so replacing it with 1.0 to avoid error.\n",
      "WARNING:root: MAD for feature education_ 12th is 0, so replacing it with 1.0 to avoid error.\n",
      "WARNING:root: MAD for feature education_ 1st-4th is 0, so replacing it with 1.0 to avoid error.\n",
      "WARNING:root: MAD for feature education_ 5th-6th is 0, so replacing it with 1.0 to avoid error.\n",
      "WARNING:root: MAD for feature education_ 7th-8th is 0, so replacing it with 1.0 to avoid error.\n",
      "WARNING:root: MAD for feature education_ 9th is 0, so replacing it with 1.0 to avoid error.\n",
      "WARNING:root: MAD for feature education_ Assoc-acdm is 0, so replacing it with 1.0 to avoid error.\n",
      "WARNING:root: MAD for feature education_ Assoc-voc is 0, so replacing it with 1.0 to avoid error.\n",
      "WARNING:root: MAD for feature education_ Bachelors is 0, so replacing it with 1.0 to avoid error.\n",
      "WARNING:root: MAD for feature education_ Doctorate is 0, so replacing it with 1.0 to avoid error.\n",
      "WARNING:root: MAD for feature education_ HS-grad is 0, so replacing it with 1.0 to avoid error.\n",
      "WARNING:root: MAD for feature education_ Masters is 0, so replacing it with 1.0 to avoid error.\n",
      "WARNING:root: MAD for feature education_ Preschool is 0, so replacing it with 1.0 to avoid error.\n",
      "WARNING:root: MAD for feature education_ Prof-school is 0, so replacing it with 1.0 to avoid error.\n",
      "WARNING:root: MAD for feature education_ Some-college is 0, so replacing it with 1.0 to avoid error.\n",
      "WARNING:root: MAD for feature marital-status_ Divorced is 0, so replacing it with 1.0 to avoid error.\n",
      "WARNING:root: MAD for feature marital-status_ Married-AF-spouse is 0, so replacing it with 1.0 to avoid error.\n",
      "WARNING:root: MAD for feature marital-status_ Married-civ-spouse is 0, so replacing it with 1.0 to avoid error.\n",
      "WARNING:root: MAD for feature marital-status_ Married-spouse-absent is 0, so replacing it with 1.0 to avoid error.\n",
      "WARNING:root: MAD for feature marital-status_ Never-married is 0, so replacing it with 1.0 to avoid error.\n",
      "WARNING:root: MAD for feature marital-status_ Separated is 0, so replacing it with 1.0 to avoid error.\n",
      "WARNING:root: MAD for feature marital-status_ Widowed is 0, so replacing it with 1.0 to avoid error.\n",
      "WARNING:root: MAD for feature occupation_ ? is 0, so replacing it with 1.0 to avoid error.\n",
      "WARNING:root: MAD for feature occupation_ Adm-clerical is 0, so replacing it with 1.0 to avoid error.\n",
      "WARNING:root: MAD for feature occupation_ Armed-Forces is 0, so replacing it with 1.0 to avoid error.\n",
      "WARNING:root: MAD for feature occupation_ Craft-repair is 0, so replacing it with 1.0 to avoid error.\n",
      "WARNING:root: MAD for feature occupation_ Exec-managerial is 0, so replacing it with 1.0 to avoid error.\n",
      "WARNING:root: MAD for feature occupation_ Farming-fishing is 0, so replacing it with 1.0 to avoid error.\n",
      "WARNING:root: MAD for feature occupation_ Handlers-cleaners is 0, so replacing it with 1.0 to avoid error.\n",
      "WARNING:root: MAD for feature occupation_ Machine-op-inspct is 0, so replacing it with 1.0 to avoid error.\n",
      "WARNING:root: MAD for feature occupation_ Other-service is 0, so replacing it with 1.0 to avoid error.\n",
      "WARNING:root: MAD for feature occupation_ Priv-house-serv is 0, so replacing it with 1.0 to avoid error.\n",
      "WARNING:root: MAD for feature occupation_ Prof-specialty is 0, so replacing it with 1.0 to avoid error.\n",
      "WARNING:root: MAD for feature occupation_ Protective-serv is 0, so replacing it with 1.0 to avoid error.\n",
      "WARNING:root: MAD for feature occupation_ Sales is 0, so replacing it with 1.0 to avoid error.\n",
      "WARNING:root: MAD for feature occupation_ Tech-support is 0, so replacing it with 1.0 to avoid error.\n",
      "WARNING:root: MAD for feature occupation_ Transport-moving is 0, so replacing it with 1.0 to avoid error.\n",
      "WARNING:root: MAD for feature relationship_ Husband is 0, so replacing it with 1.0 to avoid error.\n",
      "WARNING:root: MAD for feature relationship_ Not-in-family is 0, so replacing it with 1.0 to avoid error.\n",
      "WARNING:root: MAD for feature relationship_ Other-relative is 0, so replacing it with 1.0 to avoid error.\n",
      "WARNING:root: MAD for feature relationship_ Own-child is 0, so replacing it with 1.0 to avoid error.\n",
      "WARNING:root: MAD for feature relationship_ Unmarried is 0, so replacing it with 1.0 to avoid error.\n",
      "WARNING:root: MAD for feature relationship_ Wife is 0, so replacing it with 1.0 to avoid error.\n",
      "WARNING:root: MAD for feature race_ Amer-Indian-Eskimo is 0, so replacing it with 1.0 to avoid error.\n",
      "WARNING:root: MAD for feature race_ Asian-Pac-Islander is 0, so replacing it with 1.0 to avoid error.\n",
      "WARNING:root: MAD for feature race_ Black is 0, so replacing it with 1.0 to avoid error.\n",
      "WARNING:root: MAD for feature race_ Other is 0, so replacing it with 1.0 to avoid error.\n",
      "WARNING:root: MAD for feature race_ White is 0, so replacing it with 1.0 to avoid error.\n",
      "WARNING:root: MAD for feature sex_ Female is 0, so replacing it with 1.0 to avoid error.\n",
      "WARNING:root: MAD for feature sex_ Male is 0, so replacing it with 1.0 to avoid error.\n",
      " 20%|██        | 1/5 [00:00<00:01,  2.99it/s]WARNING:root: MAD for feature capital-gain is 0, so replacing it with 1.0 to avoid error.\n",
      "WARNING:root: MAD for feature capital-loss is 0, so replacing it with 1.0 to avoid error.\n",
      "WARNING:root: MAD for feature workclass_ ? is 0, so replacing it with 1.0 to avoid error.\n",
      "WARNING:root: MAD for feature workclass_ Federal-gov is 0, so replacing it with 1.0 to avoid error.\n",
      "WARNING:root: MAD for feature workclass_ Local-gov is 0, so replacing it with 1.0 to avoid error.\n",
      "WARNING:root: MAD for feature workclass_ Never-worked is 0, so replacing it with 1.0 to avoid error.\n",
      "WARNING:root: MAD for feature workclass_ Private is 0, so replacing it with 1.0 to avoid error.\n",
      "WARNING:root: MAD for feature workclass_ Self-emp-inc is 0, so replacing it with 1.0 to avoid error.\n",
      "WARNING:root: MAD for feature workclass_ Self-emp-not-inc is 0, so replacing it with 1.0 to avoid error.\n",
      "WARNING:root: MAD for feature workclass_ State-gov is 0, so replacing it with 1.0 to avoid error.\n",
      "WARNING:root: MAD for feature workclass_ Without-pay is 0, so replacing it with 1.0 to avoid error.\n",
      "WARNING:root: MAD for feature education_ 10th is 0, so replacing it with 1.0 to avoid error.\n",
      "WARNING:root: MAD for feature education_ 11th is 0, so replacing it with 1.0 to avoid error.\n",
      "WARNING:root: MAD for feature education_ 12th is 0, so replacing it with 1.0 to avoid error.\n",
      "WARNING:root: MAD for feature education_ 1st-4th is 0, so replacing it with 1.0 to avoid error.\n",
      "WARNING:root: MAD for feature education_ 5th-6th is 0, so replacing it with 1.0 to avoid error.\n",
      "WARNING:root: MAD for feature education_ 7th-8th is 0, so replacing it with 1.0 to avoid error.\n",
      "WARNING:root: MAD for feature education_ 9th is 0, so replacing it with 1.0 to avoid error.\n",
      "WARNING:root: MAD for feature education_ Assoc-acdm is 0, so replacing it with 1.0 to avoid error.\n",
      "WARNING:root: MAD for feature education_ Assoc-voc is 0, so replacing it with 1.0 to avoid error.\n",
      "WARNING:root: MAD for feature education_ Bachelors is 0, so replacing it with 1.0 to avoid error.\n"
     ]
    },
    {
     "name": "stderr",
     "output_type": "stream",
     "text": [
      "WARNING:root: MAD for feature education_ Doctorate is 0, so replacing it with 1.0 to avoid error.\n",
      "WARNING:root: MAD for feature education_ HS-grad is 0, so replacing it with 1.0 to avoid error.\n",
      "WARNING:root: MAD for feature education_ Masters is 0, so replacing it with 1.0 to avoid error.\n",
      "WARNING:root: MAD for feature education_ Preschool is 0, so replacing it with 1.0 to avoid error.\n",
      "WARNING:root: MAD for feature education_ Prof-school is 0, so replacing it with 1.0 to avoid error.\n",
      "WARNING:root: MAD for feature education_ Some-college is 0, so replacing it with 1.0 to avoid error.\n",
      "WARNING:root: MAD for feature marital-status_ Divorced is 0, so replacing it with 1.0 to avoid error.\n",
      "WARNING:root: MAD for feature marital-status_ Married-AF-spouse is 0, so replacing it with 1.0 to avoid error.\n",
      "WARNING:root: MAD for feature marital-status_ Married-civ-spouse is 0, so replacing it with 1.0 to avoid error.\n",
      "WARNING:root: MAD for feature marital-status_ Married-spouse-absent is 0, so replacing it with 1.0 to avoid error.\n",
      "WARNING:root: MAD for feature marital-status_ Never-married is 0, so replacing it with 1.0 to avoid error.\n",
      "WARNING:root: MAD for feature marital-status_ Separated is 0, so replacing it with 1.0 to avoid error.\n",
      "WARNING:root: MAD for feature marital-status_ Widowed is 0, so replacing it with 1.0 to avoid error.\n",
      "WARNING:root: MAD for feature occupation_ ? is 0, so replacing it with 1.0 to avoid error.\n",
      "WARNING:root: MAD for feature occupation_ Adm-clerical is 0, so replacing it with 1.0 to avoid error.\n",
      "WARNING:root: MAD for feature occupation_ Armed-Forces is 0, so replacing it with 1.0 to avoid error.\n",
      "WARNING:root: MAD for feature occupation_ Craft-repair is 0, so replacing it with 1.0 to avoid error.\n",
      "WARNING:root: MAD for feature occupation_ Exec-managerial is 0, so replacing it with 1.0 to avoid error.\n",
      "WARNING:root: MAD for feature occupation_ Farming-fishing is 0, so replacing it with 1.0 to avoid error.\n",
      "WARNING:root: MAD for feature occupation_ Handlers-cleaners is 0, so replacing it with 1.0 to avoid error.\n",
      "WARNING:root: MAD for feature occupation_ Machine-op-inspct is 0, so replacing it with 1.0 to avoid error.\n",
      "WARNING:root: MAD for feature occupation_ Other-service is 0, so replacing it with 1.0 to avoid error.\n",
      "WARNING:root: MAD for feature occupation_ Priv-house-serv is 0, so replacing it with 1.0 to avoid error.\n",
      "WARNING:root: MAD for feature occupation_ Prof-specialty is 0, so replacing it with 1.0 to avoid error.\n",
      "WARNING:root: MAD for feature occupation_ Protective-serv is 0, so replacing it with 1.0 to avoid error.\n",
      "WARNING:root: MAD for feature occupation_ Sales is 0, so replacing it with 1.0 to avoid error.\n",
      "WARNING:root: MAD for feature occupation_ Tech-support is 0, so replacing it with 1.0 to avoid error.\n",
      "WARNING:root: MAD for feature occupation_ Transport-moving is 0, so replacing it with 1.0 to avoid error.\n",
      "WARNING:root: MAD for feature relationship_ Husband is 0, so replacing it with 1.0 to avoid error.\n",
      "WARNING:root: MAD for feature relationship_ Not-in-family is 0, so replacing it with 1.0 to avoid error.\n",
      "WARNING:root: MAD for feature relationship_ Other-relative is 0, so replacing it with 1.0 to avoid error.\n",
      "WARNING:root: MAD for feature relationship_ Own-child is 0, so replacing it with 1.0 to avoid error.\n",
      "WARNING:root: MAD for feature relationship_ Unmarried is 0, so replacing it with 1.0 to avoid error.\n",
      "WARNING:root: MAD for feature relationship_ Wife is 0, so replacing it with 1.0 to avoid error.\n",
      "WARNING:root: MAD for feature race_ Amer-Indian-Eskimo is 0, so replacing it with 1.0 to avoid error.\n",
      "WARNING:root: MAD for feature race_ Asian-Pac-Islander is 0, so replacing it with 1.0 to avoid error.\n",
      "WARNING:root: MAD for feature race_ Black is 0, so replacing it with 1.0 to avoid error.\n",
      "WARNING:root: MAD for feature race_ Other is 0, so replacing it with 1.0 to avoid error.\n",
      "WARNING:root: MAD for feature race_ White is 0, so replacing it with 1.0 to avoid error.\n",
      "WARNING:root: MAD for feature sex_ Female is 0, so replacing it with 1.0 to avoid error.\n",
      "WARNING:root: MAD for feature sex_ Male is 0, so replacing it with 1.0 to avoid error.\n",
      " 40%|████      | 2/5 [00:00<00:00,  3.05it/s]WARNING:root: MAD for feature capital-gain is 0, so replacing it with 1.0 to avoid error.\n",
      "WARNING:root: MAD for feature capital-loss is 0, so replacing it with 1.0 to avoid error.\n",
      "WARNING:root: MAD for feature workclass_ ? is 0, so replacing it with 1.0 to avoid error.\n",
      "WARNING:root: MAD for feature workclass_ Federal-gov is 0, so replacing it with 1.0 to avoid error.\n",
      "WARNING:root: MAD for feature workclass_ Local-gov is 0, so replacing it with 1.0 to avoid error.\n",
      "WARNING:root: MAD for feature workclass_ Never-worked is 0, so replacing it with 1.0 to avoid error.\n",
      "WARNING:root: MAD for feature workclass_ Private is 0, so replacing it with 1.0 to avoid error.\n",
      "WARNING:root: MAD for feature workclass_ Self-emp-inc is 0, so replacing it with 1.0 to avoid error.\n",
      "WARNING:root: MAD for feature workclass_ Self-emp-not-inc is 0, so replacing it with 1.0 to avoid error.\n",
      "WARNING:root: MAD for feature workclass_ State-gov is 0, so replacing it with 1.0 to avoid error.\n",
      "WARNING:root: MAD for feature workclass_ Without-pay is 0, so replacing it with 1.0 to avoid error.\n",
      "WARNING:root: MAD for feature education_ 10th is 0, so replacing it with 1.0 to avoid error.\n",
      "WARNING:root: MAD for feature education_ 11th is 0, so replacing it with 1.0 to avoid error.\n",
      "WARNING:root: MAD for feature education_ 12th is 0, so replacing it with 1.0 to avoid error.\n",
      "WARNING:root: MAD for feature education_ 1st-4th is 0, so replacing it with 1.0 to avoid error.\n",
      "WARNING:root: MAD for feature education_ 5th-6th is 0, so replacing it with 1.0 to avoid error.\n",
      "WARNING:root: MAD for feature education_ 7th-8th is 0, so replacing it with 1.0 to avoid error.\n",
      "WARNING:root: MAD for feature education_ 9th is 0, so replacing it with 1.0 to avoid error.\n",
      "WARNING:root: MAD for feature education_ Assoc-acdm is 0, so replacing it with 1.0 to avoid error.\n",
      "WARNING:root: MAD for feature education_ Assoc-voc is 0, so replacing it with 1.0 to avoid error.\n",
      "WARNING:root: MAD for feature education_ Bachelors is 0, so replacing it with 1.0 to avoid error.\n",
      "WARNING:root: MAD for feature education_ Doctorate is 0, so replacing it with 1.0 to avoid error.\n",
      "WARNING:root: MAD for feature education_ HS-grad is 0, so replacing it with 1.0 to avoid error.\n",
      "WARNING:root: MAD for feature education_ Masters is 0, so replacing it with 1.0 to avoid error.\n",
      "WARNING:root: MAD for feature education_ Preschool is 0, so replacing it with 1.0 to avoid error.\n",
      "WARNING:root: MAD for feature education_ Prof-school is 0, so replacing it with 1.0 to avoid error.\n",
      "WARNING:root: MAD for feature education_ Some-college is 0, so replacing it with 1.0 to avoid error.\n",
      "WARNING:root: MAD for feature marital-status_ Divorced is 0, so replacing it with 1.0 to avoid error.\n",
      "WARNING:root: MAD for feature marital-status_ Married-AF-spouse is 0, so replacing it with 1.0 to avoid error.\n",
      "WARNING:root: MAD for feature marital-status_ Married-civ-spouse is 0, so replacing it with 1.0 to avoid error.\n",
      "WARNING:root: MAD for feature marital-status_ Married-spouse-absent is 0, so replacing it with 1.0 to avoid error.\n",
      "WARNING:root: MAD for feature marital-status_ Never-married is 0, so replacing it with 1.0 to avoid error.\n",
      "WARNING:root: MAD for feature marital-status_ Separated is 0, so replacing it with 1.0 to avoid error.\n",
      "WARNING:root: MAD for feature marital-status_ Widowed is 0, so replacing it with 1.0 to avoid error.\n",
      "WARNING:root: MAD for feature occupation_ ? is 0, so replacing it with 1.0 to avoid error.\n",
      "WARNING:root: MAD for feature occupation_ Adm-clerical is 0, so replacing it with 1.0 to avoid error.\n",
      "WARNING:root: MAD for feature occupation_ Armed-Forces is 0, so replacing it with 1.0 to avoid error.\n",
      "WARNING:root: MAD for feature occupation_ Craft-repair is 0, so replacing it with 1.0 to avoid error.\n",
      "WARNING:root: MAD for feature occupation_ Exec-managerial is 0, so replacing it with 1.0 to avoid error.\n",
      "WARNING:root: MAD for feature occupation_ Farming-fishing is 0, so replacing it with 1.0 to avoid error.\n",
      "WARNING:root: MAD for feature occupation_ Handlers-cleaners is 0, so replacing it with 1.0 to avoid error.\n"
     ]
    },
    {
     "name": "stderr",
     "output_type": "stream",
     "text": [
      "WARNING:root: MAD for feature occupation_ Machine-op-inspct is 0, so replacing it with 1.0 to avoid error.\n",
      "WARNING:root: MAD for feature occupation_ Other-service is 0, so replacing it with 1.0 to avoid error.\n",
      "WARNING:root: MAD for feature occupation_ Priv-house-serv is 0, so replacing it with 1.0 to avoid error.\n",
      "WARNING:root: MAD for feature occupation_ Prof-specialty is 0, so replacing it with 1.0 to avoid error.\n",
      "WARNING:root: MAD for feature occupation_ Protective-serv is 0, so replacing it with 1.0 to avoid error.\n",
      "WARNING:root: MAD for feature occupation_ Sales is 0, so replacing it with 1.0 to avoid error.\n",
      "WARNING:root: MAD for feature occupation_ Tech-support is 0, so replacing it with 1.0 to avoid error.\n",
      "WARNING:root: MAD for feature occupation_ Transport-moving is 0, so replacing it with 1.0 to avoid error.\n",
      "WARNING:root: MAD for feature relationship_ Husband is 0, so replacing it with 1.0 to avoid error.\n",
      "WARNING:root: MAD for feature relationship_ Not-in-family is 0, so replacing it with 1.0 to avoid error.\n",
      "WARNING:root: MAD for feature relationship_ Other-relative is 0, so replacing it with 1.0 to avoid error.\n",
      "WARNING:root: MAD for feature relationship_ Own-child is 0, so replacing it with 1.0 to avoid error.\n",
      "WARNING:root: MAD for feature relationship_ Unmarried is 0, so replacing it with 1.0 to avoid error.\n",
      "WARNING:root: MAD for feature relationship_ Wife is 0, so replacing it with 1.0 to avoid error.\n",
      "WARNING:root: MAD for feature race_ Amer-Indian-Eskimo is 0, so replacing it with 1.0 to avoid error.\n",
      "WARNING:root: MAD for feature race_ Asian-Pac-Islander is 0, so replacing it with 1.0 to avoid error.\n",
      "WARNING:root: MAD for feature race_ Black is 0, so replacing it with 1.0 to avoid error.\n",
      "WARNING:root: MAD for feature race_ Other is 0, so replacing it with 1.0 to avoid error.\n",
      "WARNING:root: MAD for feature race_ White is 0, so replacing it with 1.0 to avoid error.\n",
      "WARNING:root: MAD for feature sex_ Female is 0, so replacing it with 1.0 to avoid error.\n",
      "WARNING:root: MAD for feature sex_ Male is 0, so replacing it with 1.0 to avoid error.\n",
      " 60%|██████    | 3/5 [00:00<00:00,  3.06it/s]WARNING:root: MAD for feature capital-gain is 0, so replacing it with 1.0 to avoid error.\n",
      "WARNING:root: MAD for feature capital-loss is 0, so replacing it with 1.0 to avoid error.\n",
      "WARNING:root: MAD for feature workclass_ ? is 0, so replacing it with 1.0 to avoid error.\n",
      "WARNING:root: MAD for feature workclass_ Federal-gov is 0, so replacing it with 1.0 to avoid error.\n",
      "WARNING:root: MAD for feature workclass_ Local-gov is 0, so replacing it with 1.0 to avoid error.\n",
      "WARNING:root: MAD for feature workclass_ Never-worked is 0, so replacing it with 1.0 to avoid error.\n",
      "WARNING:root: MAD for feature workclass_ Private is 0, so replacing it with 1.0 to avoid error.\n",
      "WARNING:root: MAD for feature workclass_ Self-emp-inc is 0, so replacing it with 1.0 to avoid error.\n",
      "WARNING:root: MAD for feature workclass_ Self-emp-not-inc is 0, so replacing it with 1.0 to avoid error.\n",
      "WARNING:root: MAD for feature workclass_ State-gov is 0, so replacing it with 1.0 to avoid error.\n",
      "WARNING:root: MAD for feature workclass_ Without-pay is 0, so replacing it with 1.0 to avoid error.\n",
      "WARNING:root: MAD for feature education_ 10th is 0, so replacing it with 1.0 to avoid error.\n",
      "WARNING:root: MAD for feature education_ 11th is 0, so replacing it with 1.0 to avoid error.\n",
      "WARNING:root: MAD for feature education_ 12th is 0, so replacing it with 1.0 to avoid error.\n",
      "WARNING:root: MAD for feature education_ 1st-4th is 0, so replacing it with 1.0 to avoid error.\n",
      "WARNING:root: MAD for feature education_ 5th-6th is 0, so replacing it with 1.0 to avoid error.\n",
      "WARNING:root: MAD for feature education_ 7th-8th is 0, so replacing it with 1.0 to avoid error.\n",
      "WARNING:root: MAD for feature education_ 9th is 0, so replacing it with 1.0 to avoid error.\n",
      "WARNING:root: MAD for feature education_ Assoc-acdm is 0, so replacing it with 1.0 to avoid error.\n",
      "WARNING:root: MAD for feature education_ Assoc-voc is 0, so replacing it with 1.0 to avoid error.\n",
      "WARNING:root: MAD for feature education_ Bachelors is 0, so replacing it with 1.0 to avoid error.\n",
      "WARNING:root: MAD for feature education_ Doctorate is 0, so replacing it with 1.0 to avoid error.\n",
      "WARNING:root: MAD for feature education_ HS-grad is 0, so replacing it with 1.0 to avoid error.\n",
      "WARNING:root: MAD for feature education_ Masters is 0, so replacing it with 1.0 to avoid error.\n",
      "WARNING:root: MAD for feature education_ Preschool is 0, so replacing it with 1.0 to avoid error.\n",
      "WARNING:root: MAD for feature education_ Prof-school is 0, so replacing it with 1.0 to avoid error.\n",
      "WARNING:root: MAD for feature education_ Some-college is 0, so replacing it with 1.0 to avoid error.\n",
      "WARNING:root: MAD for feature marital-status_ Divorced is 0, so replacing it with 1.0 to avoid error.\n",
      "WARNING:root: MAD for feature marital-status_ Married-AF-spouse is 0, so replacing it with 1.0 to avoid error.\n",
      "WARNING:root: MAD for feature marital-status_ Married-civ-spouse is 0, so replacing it with 1.0 to avoid error.\n",
      "WARNING:root: MAD for feature marital-status_ Married-spouse-absent is 0, so replacing it with 1.0 to avoid error.\n",
      "WARNING:root: MAD for feature marital-status_ Never-married is 0, so replacing it with 1.0 to avoid error.\n",
      "WARNING:root: MAD for feature marital-status_ Separated is 0, so replacing it with 1.0 to avoid error.\n",
      "WARNING:root: MAD for feature marital-status_ Widowed is 0, so replacing it with 1.0 to avoid error.\n",
      "WARNING:root: MAD for feature occupation_ ? is 0, so replacing it with 1.0 to avoid error.\n",
      "WARNING:root: MAD for feature occupation_ Adm-clerical is 0, so replacing it with 1.0 to avoid error.\n",
      "WARNING:root: MAD for feature occupation_ Armed-Forces is 0, so replacing it with 1.0 to avoid error.\n",
      "WARNING:root: MAD for feature occupation_ Craft-repair is 0, so replacing it with 1.0 to avoid error.\n",
      "WARNING:root: MAD for feature occupation_ Exec-managerial is 0, so replacing it with 1.0 to avoid error.\n",
      "WARNING:root: MAD for feature occupation_ Farming-fishing is 0, so replacing it with 1.0 to avoid error.\n",
      "WARNING:root: MAD for feature occupation_ Handlers-cleaners is 0, so replacing it with 1.0 to avoid error.\n",
      "WARNING:root: MAD for feature occupation_ Machine-op-inspct is 0, so replacing it with 1.0 to avoid error.\n",
      "WARNING:root: MAD for feature occupation_ Other-service is 0, so replacing it with 1.0 to avoid error.\n",
      "WARNING:root: MAD for feature occupation_ Priv-house-serv is 0, so replacing it with 1.0 to avoid error.\n",
      "WARNING:root: MAD for feature occupation_ Prof-specialty is 0, so replacing it with 1.0 to avoid error.\n",
      "WARNING:root: MAD for feature occupation_ Protective-serv is 0, so replacing it with 1.0 to avoid error.\n",
      "WARNING:root: MAD for feature occupation_ Sales is 0, so replacing it with 1.0 to avoid error.\n",
      "WARNING:root: MAD for feature occupation_ Tech-support is 0, so replacing it with 1.0 to avoid error.\n",
      "WARNING:root: MAD for feature occupation_ Transport-moving is 0, so replacing it with 1.0 to avoid error.\n",
      "WARNING:root: MAD for feature relationship_ Husband is 0, so replacing it with 1.0 to avoid error.\n",
      "WARNING:root: MAD for feature relationship_ Not-in-family is 0, so replacing it with 1.0 to avoid error.\n",
      "WARNING:root: MAD for feature relationship_ Other-relative is 0, so replacing it with 1.0 to avoid error.\n",
      "WARNING:root: MAD for feature relationship_ Own-child is 0, so replacing it with 1.0 to avoid error.\n",
      "WARNING:root: MAD for feature relationship_ Unmarried is 0, so replacing it with 1.0 to avoid error.\n",
      "WARNING:root: MAD for feature relationship_ Wife is 0, so replacing it with 1.0 to avoid error.\n",
      "WARNING:root: MAD for feature race_ Amer-Indian-Eskimo is 0, so replacing it with 1.0 to avoid error.\n",
      "WARNING:root: MAD for feature race_ Asian-Pac-Islander is 0, so replacing it with 1.0 to avoid error.\n",
      "WARNING:root: MAD for feature race_ Black is 0, so replacing it with 1.0 to avoid error.\n",
      "WARNING:root: MAD for feature race_ Other is 0, so replacing it with 1.0 to avoid error.\n",
      "WARNING:root: MAD for feature race_ White is 0, so replacing it with 1.0 to avoid error.\n",
      "WARNING:root: MAD for feature sex_ Female is 0, so replacing it with 1.0 to avoid error.\n"
     ]
    },
    {
     "name": "stderr",
     "output_type": "stream",
     "text": [
      "WARNING:root: MAD for feature sex_ Male is 0, so replacing it with 1.0 to avoid error.\n",
      " 80%|████████  | 4/5 [00:01<00:00,  3.08it/s]WARNING:root: MAD for feature capital-gain is 0, so replacing it with 1.0 to avoid error.\n",
      "WARNING:root: MAD for feature capital-loss is 0, so replacing it with 1.0 to avoid error.\n",
      "WARNING:root: MAD for feature workclass_ ? is 0, so replacing it with 1.0 to avoid error.\n",
      "WARNING:root: MAD for feature workclass_ Federal-gov is 0, so replacing it with 1.0 to avoid error.\n",
      "WARNING:root: MAD for feature workclass_ Local-gov is 0, so replacing it with 1.0 to avoid error.\n",
      "WARNING:root: MAD for feature workclass_ Never-worked is 0, so replacing it with 1.0 to avoid error.\n",
      "WARNING:root: MAD for feature workclass_ Private is 0, so replacing it with 1.0 to avoid error.\n",
      "WARNING:root: MAD for feature workclass_ Self-emp-inc is 0, so replacing it with 1.0 to avoid error.\n",
      "WARNING:root: MAD for feature workclass_ Self-emp-not-inc is 0, so replacing it with 1.0 to avoid error.\n",
      "WARNING:root: MAD for feature workclass_ State-gov is 0, so replacing it with 1.0 to avoid error.\n",
      "WARNING:root: MAD for feature workclass_ Without-pay is 0, so replacing it with 1.0 to avoid error.\n",
      "WARNING:root: MAD for feature education_ 10th is 0, so replacing it with 1.0 to avoid error.\n",
      "WARNING:root: MAD for feature education_ 11th is 0, so replacing it with 1.0 to avoid error.\n",
      "WARNING:root: MAD for feature education_ 12th is 0, so replacing it with 1.0 to avoid error.\n",
      "WARNING:root: MAD for feature education_ 1st-4th is 0, so replacing it with 1.0 to avoid error.\n",
      "WARNING:root: MAD for feature education_ 5th-6th is 0, so replacing it with 1.0 to avoid error.\n",
      "WARNING:root: MAD for feature education_ 7th-8th is 0, so replacing it with 1.0 to avoid error.\n",
      "WARNING:root: MAD for feature education_ 9th is 0, so replacing it with 1.0 to avoid error.\n",
      "WARNING:root: MAD for feature education_ Assoc-acdm is 0, so replacing it with 1.0 to avoid error.\n",
      "WARNING:root: MAD for feature education_ Assoc-voc is 0, so replacing it with 1.0 to avoid error.\n",
      "WARNING:root: MAD for feature education_ Bachelors is 0, so replacing it with 1.0 to avoid error.\n",
      "WARNING:root: MAD for feature education_ Doctorate is 0, so replacing it with 1.0 to avoid error.\n",
      "WARNING:root: MAD for feature education_ HS-grad is 0, so replacing it with 1.0 to avoid error.\n",
      "WARNING:root: MAD for feature education_ Masters is 0, so replacing it with 1.0 to avoid error.\n",
      "WARNING:root: MAD for feature education_ Preschool is 0, so replacing it with 1.0 to avoid error.\n",
      "WARNING:root: MAD for feature education_ Prof-school is 0, so replacing it with 1.0 to avoid error.\n",
      "WARNING:root: MAD for feature education_ Some-college is 0, so replacing it with 1.0 to avoid error.\n",
      "WARNING:root: MAD for feature marital-status_ Divorced is 0, so replacing it with 1.0 to avoid error.\n",
      "WARNING:root: MAD for feature marital-status_ Married-AF-spouse is 0, so replacing it with 1.0 to avoid error.\n",
      "WARNING:root: MAD for feature marital-status_ Married-civ-spouse is 0, so replacing it with 1.0 to avoid error.\n",
      "WARNING:root: MAD for feature marital-status_ Married-spouse-absent is 0, so replacing it with 1.0 to avoid error.\n",
      "WARNING:root: MAD for feature marital-status_ Never-married is 0, so replacing it with 1.0 to avoid error.\n",
      "WARNING:root: MAD for feature marital-status_ Separated is 0, so replacing it with 1.0 to avoid error.\n",
      "WARNING:root: MAD for feature marital-status_ Widowed is 0, so replacing it with 1.0 to avoid error.\n",
      "WARNING:root: MAD for feature occupation_ ? is 0, so replacing it with 1.0 to avoid error.\n",
      "WARNING:root: MAD for feature occupation_ Adm-clerical is 0, so replacing it with 1.0 to avoid error.\n",
      "WARNING:root: MAD for feature occupation_ Armed-Forces is 0, so replacing it with 1.0 to avoid error.\n",
      "WARNING:root: MAD for feature occupation_ Craft-repair is 0, so replacing it with 1.0 to avoid error.\n",
      "WARNING:root: MAD for feature occupation_ Exec-managerial is 0, so replacing it with 1.0 to avoid error.\n",
      "WARNING:root: MAD for feature occupation_ Farming-fishing is 0, so replacing it with 1.0 to avoid error.\n",
      "WARNING:root: MAD for feature occupation_ Handlers-cleaners is 0, so replacing it with 1.0 to avoid error.\n",
      "WARNING:root: MAD for feature occupation_ Machine-op-inspct is 0, so replacing it with 1.0 to avoid error.\n",
      "WARNING:root: MAD for feature occupation_ Other-service is 0, so replacing it with 1.0 to avoid error.\n",
      "WARNING:root: MAD for feature occupation_ Priv-house-serv is 0, so replacing it with 1.0 to avoid error.\n",
      "WARNING:root: MAD for feature occupation_ Prof-specialty is 0, so replacing it with 1.0 to avoid error.\n",
      "WARNING:root: MAD for feature occupation_ Protective-serv is 0, so replacing it with 1.0 to avoid error.\n",
      "WARNING:root: MAD for feature occupation_ Sales is 0, so replacing it with 1.0 to avoid error.\n",
      "WARNING:root: MAD for feature occupation_ Tech-support is 0, so replacing it with 1.0 to avoid error.\n",
      "WARNING:root: MAD for feature occupation_ Transport-moving is 0, so replacing it with 1.0 to avoid error.\n",
      "WARNING:root: MAD for feature relationship_ Husband is 0, so replacing it with 1.0 to avoid error.\n",
      "WARNING:root: MAD for feature relationship_ Not-in-family is 0, so replacing it with 1.0 to avoid error.\n",
      "WARNING:root: MAD for feature relationship_ Other-relative is 0, so replacing it with 1.0 to avoid error.\n",
      "WARNING:root: MAD for feature relationship_ Own-child is 0, so replacing it with 1.0 to avoid error.\n",
      "WARNING:root: MAD for feature relationship_ Unmarried is 0, so replacing it with 1.0 to avoid error.\n",
      "WARNING:root: MAD for feature relationship_ Wife is 0, so replacing it with 1.0 to avoid error.\n",
      "WARNING:root: MAD for feature race_ Amer-Indian-Eskimo is 0, so replacing it with 1.0 to avoid error.\n",
      "WARNING:root: MAD for feature race_ Asian-Pac-Islander is 0, so replacing it with 1.0 to avoid error.\n",
      "WARNING:root: MAD for feature race_ Black is 0, so replacing it with 1.0 to avoid error.\n",
      "WARNING:root: MAD for feature race_ Other is 0, so replacing it with 1.0 to avoid error.\n",
      "WARNING:root: MAD for feature race_ White is 0, so replacing it with 1.0 to avoid error.\n",
      "WARNING:root: MAD for feature sex_ Female is 0, so replacing it with 1.0 to avoid error.\n",
      "WARNING:root: MAD for feature sex_ Male is 0, so replacing it with 1.0 to avoid error.\n",
      "100%|██████████| 5/5 [00:01<00:00,  3.06it/s]\n"
     ]
    },
    {
     "name": "stdout",
     "output_type": "stream",
     "text": [
      "1.2\n",
      "Model Name Random Forest\n",
      "Method Name random\n"
     ]
    },
    {
     "name": "stderr",
     "output_type": "stream",
     "text": [
      "100%|██████████| 5/5 [00:01<00:00,  4.02it/s]\n"
     ]
    },
    {
     "name": "stdout",
     "output_type": "stream",
     "text": [
      "1.1889289181221916\n",
      "Method Name genetic\n"
     ]
    },
    {
     "name": "stderr",
     "output_type": "stream",
     "text": [
      "  0%|          | 0/5 [00:00<?, ?it/s]WARNING:root: MAD for feature capital-gain is 0, so replacing it with 1.0 to avoid error.\n",
      "WARNING:root: MAD for feature capital-loss is 0, so replacing it with 1.0 to avoid error.\n",
      "WARNING:root: MAD for feature workclass_ ? is 0, so replacing it with 1.0 to avoid error.\n",
      "WARNING:root: MAD for feature workclass_ Federal-gov is 0, so replacing it with 1.0 to avoid error.\n",
      "WARNING:root: MAD for feature workclass_ Local-gov is 0, so replacing it with 1.0 to avoid error.\n",
      "WARNING:root: MAD for feature workclass_ Never-worked is 0, so replacing it with 1.0 to avoid error.\n",
      "WARNING:root: MAD for feature workclass_ Private is 0, so replacing it with 1.0 to avoid error.\n",
      "WARNING:root: MAD for feature workclass_ Self-emp-inc is 0, so replacing it with 1.0 to avoid error.\n",
      "WARNING:root: MAD for feature workclass_ Self-emp-not-inc is 0, so replacing it with 1.0 to avoid error.\n",
      "WARNING:root: MAD for feature workclass_ State-gov is 0, so replacing it with 1.0 to avoid error.\n",
      "WARNING:root: MAD for feature workclass_ Without-pay is 0, so replacing it with 1.0 to avoid error.\n",
      "WARNING:root: MAD for feature education_ 10th is 0, so replacing it with 1.0 to avoid error.\n",
      "WARNING:root: MAD for feature education_ 11th is 0, so replacing it with 1.0 to avoid error.\n",
      "WARNING:root: MAD for feature education_ 12th is 0, so replacing it with 1.0 to avoid error.\n",
      "WARNING:root: MAD for feature education_ 1st-4th is 0, so replacing it with 1.0 to avoid error.\n",
      "WARNING:root: MAD for feature education_ 5th-6th is 0, so replacing it with 1.0 to avoid error.\n",
      "WARNING:root: MAD for feature education_ 7th-8th is 0, so replacing it with 1.0 to avoid error.\n",
      "WARNING:root: MAD for feature education_ 9th is 0, so replacing it with 1.0 to avoid error.\n",
      "WARNING:root: MAD for feature education_ Assoc-acdm is 0, so replacing it with 1.0 to avoid error.\n",
      "WARNING:root: MAD for feature education_ Assoc-voc is 0, so replacing it with 1.0 to avoid error.\n",
      "WARNING:root: MAD for feature education_ Bachelors is 0, so replacing it with 1.0 to avoid error.\n",
      "WARNING:root: MAD for feature education_ Doctorate is 0, so replacing it with 1.0 to avoid error.\n",
      "WARNING:root: MAD for feature education_ HS-grad is 0, so replacing it with 1.0 to avoid error.\n",
      "WARNING:root: MAD for feature education_ Masters is 0, so replacing it with 1.0 to avoid error.\n",
      "WARNING:root: MAD for feature education_ Preschool is 0, so replacing it with 1.0 to avoid error.\n",
      "WARNING:root: MAD for feature education_ Prof-school is 0, so replacing it with 1.0 to avoid error.\n",
      "WARNING:root: MAD for feature education_ Some-college is 0, so replacing it with 1.0 to avoid error.\n",
      "WARNING:root: MAD for feature marital-status_ Divorced is 0, so replacing it with 1.0 to avoid error.\n",
      "WARNING:root: MAD for feature marital-status_ Married-AF-spouse is 0, so replacing it with 1.0 to avoid error.\n",
      "WARNING:root: MAD for feature marital-status_ Married-civ-spouse is 0, so replacing it with 1.0 to avoid error.\n",
      "WARNING:root: MAD for feature marital-status_ Married-spouse-absent is 0, so replacing it with 1.0 to avoid error.\n",
      "WARNING:root: MAD for feature marital-status_ Never-married is 0, so replacing it with 1.0 to avoid error.\n",
      "WARNING:root: MAD for feature marital-status_ Separated is 0, so replacing it with 1.0 to avoid error.\n",
      "WARNING:root: MAD for feature marital-status_ Widowed is 0, so replacing it with 1.0 to avoid error.\n",
      "WARNING:root: MAD for feature occupation_ ? is 0, so replacing it with 1.0 to avoid error.\n",
      "WARNING:root: MAD for feature occupation_ Adm-clerical is 0, so replacing it with 1.0 to avoid error.\n",
      "WARNING:root: MAD for feature occupation_ Armed-Forces is 0, so replacing it with 1.0 to avoid error.\n",
      "WARNING:root: MAD for feature occupation_ Craft-repair is 0, so replacing it with 1.0 to avoid error.\n",
      "WARNING:root: MAD for feature occupation_ Exec-managerial is 0, so replacing it with 1.0 to avoid error.\n",
      "WARNING:root: MAD for feature occupation_ Farming-fishing is 0, so replacing it with 1.0 to avoid error.\n",
      "WARNING:root: MAD for feature occupation_ Handlers-cleaners is 0, so replacing it with 1.0 to avoid error.\n",
      "WARNING:root: MAD for feature occupation_ Machine-op-inspct is 0, so replacing it with 1.0 to avoid error.\n",
      "WARNING:root: MAD for feature occupation_ Other-service is 0, so replacing it with 1.0 to avoid error.\n",
      "WARNING:root: MAD for feature occupation_ Priv-house-serv is 0, so replacing it with 1.0 to avoid error.\n",
      "WARNING:root: MAD for feature occupation_ Prof-specialty is 0, so replacing it with 1.0 to avoid error.\n",
      "WARNING:root: MAD for feature occupation_ Protective-serv is 0, so replacing it with 1.0 to avoid error.\n",
      "WARNING:root: MAD for feature occupation_ Sales is 0, so replacing it with 1.0 to avoid error.\n",
      "WARNING:root: MAD for feature occupation_ Tech-support is 0, so replacing it with 1.0 to avoid error.\n",
      "WARNING:root: MAD for feature occupation_ Transport-moving is 0, so replacing it with 1.0 to avoid error.\n",
      "WARNING:root: MAD for feature relationship_ Husband is 0, so replacing it with 1.0 to avoid error.\n",
      "WARNING:root: MAD for feature relationship_ Not-in-family is 0, so replacing it with 1.0 to avoid error.\n",
      "WARNING:root: MAD for feature relationship_ Other-relative is 0, so replacing it with 1.0 to avoid error.\n",
      "WARNING:root: MAD for feature relationship_ Own-child is 0, so replacing it with 1.0 to avoid error.\n",
      "WARNING:root: MAD for feature relationship_ Unmarried is 0, so replacing it with 1.0 to avoid error.\n",
      "WARNING:root: MAD for feature relationship_ Wife is 0, so replacing it with 1.0 to avoid error.\n",
      "WARNING:root: MAD for feature race_ Amer-Indian-Eskimo is 0, so replacing it with 1.0 to avoid error.\n",
      "WARNING:root: MAD for feature race_ Asian-Pac-Islander is 0, so replacing it with 1.0 to avoid error.\n",
      "WARNING:root: MAD for feature race_ Black is 0, so replacing it with 1.0 to avoid error.\n",
      "WARNING:root: MAD for feature race_ Other is 0, so replacing it with 1.0 to avoid error.\n",
      "WARNING:root: MAD for feature race_ White is 0, so replacing it with 1.0 to avoid error.\n",
      "WARNING:root: MAD for feature sex_ Female is 0, so replacing it with 1.0 to avoid error.\n",
      "WARNING:root: MAD for feature sex_ Male is 0, so replacing it with 1.0 to avoid error.\n",
      " 20%|██        | 1/5 [00:00<00:02,  1.52it/s]WARNING:root: MAD for feature capital-gain is 0, so replacing it with 1.0 to avoid error.\n",
      "WARNING:root: MAD for feature capital-loss is 0, so replacing it with 1.0 to avoid error.\n",
      "WARNING:root: MAD for feature workclass_ ? is 0, so replacing it with 1.0 to avoid error.\n",
      "WARNING:root: MAD for feature workclass_ Federal-gov is 0, so replacing it with 1.0 to avoid error.\n",
      "WARNING:root: MAD for feature workclass_ Local-gov is 0, so replacing it with 1.0 to avoid error.\n",
      "WARNING:root: MAD for feature workclass_ Never-worked is 0, so replacing it with 1.0 to avoid error.\n",
      "WARNING:root: MAD for feature workclass_ Private is 0, so replacing it with 1.0 to avoid error.\n",
      "WARNING:root: MAD for feature workclass_ Self-emp-inc is 0, so replacing it with 1.0 to avoid error.\n",
      "WARNING:root: MAD for feature workclass_ Self-emp-not-inc is 0, so replacing it with 1.0 to avoid error.\n",
      "WARNING:root: MAD for feature workclass_ State-gov is 0, so replacing it with 1.0 to avoid error.\n",
      "WARNING:root: MAD for feature workclass_ Without-pay is 0, so replacing it with 1.0 to avoid error.\n",
      "WARNING:root: MAD for feature education_ 10th is 0, so replacing it with 1.0 to avoid error.\n",
      "WARNING:root: MAD for feature education_ 11th is 0, so replacing it with 1.0 to avoid error.\n",
      "WARNING:root: MAD for feature education_ 12th is 0, so replacing it with 1.0 to avoid error.\n",
      "WARNING:root: MAD for feature education_ 1st-4th is 0, so replacing it with 1.0 to avoid error.\n",
      "WARNING:root: MAD for feature education_ 5th-6th is 0, so replacing it with 1.0 to avoid error.\n",
      "WARNING:root: MAD for feature education_ 7th-8th is 0, so replacing it with 1.0 to avoid error.\n",
      "WARNING:root: MAD for feature education_ 9th is 0, so replacing it with 1.0 to avoid error.\n",
      "WARNING:root: MAD for feature education_ Assoc-acdm is 0, so replacing it with 1.0 to avoid error.\n",
      "WARNING:root: MAD for feature education_ Assoc-voc is 0, so replacing it with 1.0 to avoid error.\n",
      "WARNING:root: MAD for feature education_ Bachelors is 0, so replacing it with 1.0 to avoid error.\n"
     ]
    },
    {
     "name": "stderr",
     "output_type": "stream",
     "text": [
      "WARNING:root: MAD for feature education_ Doctorate is 0, so replacing it with 1.0 to avoid error.\n",
      "WARNING:root: MAD for feature education_ HS-grad is 0, so replacing it with 1.0 to avoid error.\n",
      "WARNING:root: MAD for feature education_ Masters is 0, so replacing it with 1.0 to avoid error.\n",
      "WARNING:root: MAD for feature education_ Preschool is 0, so replacing it with 1.0 to avoid error.\n",
      "WARNING:root: MAD for feature education_ Prof-school is 0, so replacing it with 1.0 to avoid error.\n",
      "WARNING:root: MAD for feature education_ Some-college is 0, so replacing it with 1.0 to avoid error.\n",
      "WARNING:root: MAD for feature marital-status_ Divorced is 0, so replacing it with 1.0 to avoid error.\n",
      "WARNING:root: MAD for feature marital-status_ Married-AF-spouse is 0, so replacing it with 1.0 to avoid error.\n",
      "WARNING:root: MAD for feature marital-status_ Married-civ-spouse is 0, so replacing it with 1.0 to avoid error.\n",
      "WARNING:root: MAD for feature marital-status_ Married-spouse-absent is 0, so replacing it with 1.0 to avoid error.\n",
      "WARNING:root: MAD for feature marital-status_ Never-married is 0, so replacing it with 1.0 to avoid error.\n",
      "WARNING:root: MAD for feature marital-status_ Separated is 0, so replacing it with 1.0 to avoid error.\n",
      "WARNING:root: MAD for feature marital-status_ Widowed is 0, so replacing it with 1.0 to avoid error.\n",
      "WARNING:root: MAD for feature occupation_ ? is 0, so replacing it with 1.0 to avoid error.\n",
      "WARNING:root: MAD for feature occupation_ Adm-clerical is 0, so replacing it with 1.0 to avoid error.\n",
      "WARNING:root: MAD for feature occupation_ Armed-Forces is 0, so replacing it with 1.0 to avoid error.\n",
      "WARNING:root: MAD for feature occupation_ Craft-repair is 0, so replacing it with 1.0 to avoid error.\n",
      "WARNING:root: MAD for feature occupation_ Exec-managerial is 0, so replacing it with 1.0 to avoid error.\n",
      "WARNING:root: MAD for feature occupation_ Farming-fishing is 0, so replacing it with 1.0 to avoid error.\n",
      "WARNING:root: MAD for feature occupation_ Handlers-cleaners is 0, so replacing it with 1.0 to avoid error.\n",
      "WARNING:root: MAD for feature occupation_ Machine-op-inspct is 0, so replacing it with 1.0 to avoid error.\n",
      "WARNING:root: MAD for feature occupation_ Other-service is 0, so replacing it with 1.0 to avoid error.\n",
      "WARNING:root: MAD for feature occupation_ Priv-house-serv is 0, so replacing it with 1.0 to avoid error.\n",
      "WARNING:root: MAD for feature occupation_ Prof-specialty is 0, so replacing it with 1.0 to avoid error.\n",
      "WARNING:root: MAD for feature occupation_ Protective-serv is 0, so replacing it with 1.0 to avoid error.\n",
      "WARNING:root: MAD for feature occupation_ Sales is 0, so replacing it with 1.0 to avoid error.\n",
      "WARNING:root: MAD for feature occupation_ Tech-support is 0, so replacing it with 1.0 to avoid error.\n",
      "WARNING:root: MAD for feature occupation_ Transport-moving is 0, so replacing it with 1.0 to avoid error.\n",
      "WARNING:root: MAD for feature relationship_ Husband is 0, so replacing it with 1.0 to avoid error.\n",
      "WARNING:root: MAD for feature relationship_ Not-in-family is 0, so replacing it with 1.0 to avoid error.\n",
      "WARNING:root: MAD for feature relationship_ Other-relative is 0, so replacing it with 1.0 to avoid error.\n",
      "WARNING:root: MAD for feature relationship_ Own-child is 0, so replacing it with 1.0 to avoid error.\n",
      "WARNING:root: MAD for feature relationship_ Unmarried is 0, so replacing it with 1.0 to avoid error.\n",
      "WARNING:root: MAD for feature relationship_ Wife is 0, so replacing it with 1.0 to avoid error.\n",
      "WARNING:root: MAD for feature race_ Amer-Indian-Eskimo is 0, so replacing it with 1.0 to avoid error.\n",
      "WARNING:root: MAD for feature race_ Asian-Pac-Islander is 0, so replacing it with 1.0 to avoid error.\n",
      "WARNING:root: MAD for feature race_ Black is 0, so replacing it with 1.0 to avoid error.\n",
      "WARNING:root: MAD for feature race_ Other is 0, so replacing it with 1.0 to avoid error.\n",
      "WARNING:root: MAD for feature race_ White is 0, so replacing it with 1.0 to avoid error.\n",
      "WARNING:root: MAD for feature sex_ Female is 0, so replacing it with 1.0 to avoid error.\n",
      "WARNING:root: MAD for feature sex_ Male is 0, so replacing it with 1.0 to avoid error.\n",
      " 40%|████      | 2/5 [00:01<00:01,  1.53it/s]WARNING:root: MAD for feature capital-gain is 0, so replacing it with 1.0 to avoid error.\n",
      "WARNING:root: MAD for feature capital-loss is 0, so replacing it with 1.0 to avoid error.\n",
      "WARNING:root: MAD for feature workclass_ ? is 0, so replacing it with 1.0 to avoid error.\n",
      "WARNING:root: MAD for feature workclass_ Federal-gov is 0, so replacing it with 1.0 to avoid error.\n",
      "WARNING:root: MAD for feature workclass_ Local-gov is 0, so replacing it with 1.0 to avoid error.\n",
      "WARNING:root: MAD for feature workclass_ Never-worked is 0, so replacing it with 1.0 to avoid error.\n",
      "WARNING:root: MAD for feature workclass_ Private is 0, so replacing it with 1.0 to avoid error.\n",
      "WARNING:root: MAD for feature workclass_ Self-emp-inc is 0, so replacing it with 1.0 to avoid error.\n",
      "WARNING:root: MAD for feature workclass_ Self-emp-not-inc is 0, so replacing it with 1.0 to avoid error.\n",
      "WARNING:root: MAD for feature workclass_ State-gov is 0, so replacing it with 1.0 to avoid error.\n",
      "WARNING:root: MAD for feature workclass_ Without-pay is 0, so replacing it with 1.0 to avoid error.\n",
      "WARNING:root: MAD for feature education_ 10th is 0, so replacing it with 1.0 to avoid error.\n",
      "WARNING:root: MAD for feature education_ 11th is 0, so replacing it with 1.0 to avoid error.\n",
      "WARNING:root: MAD for feature education_ 12th is 0, so replacing it with 1.0 to avoid error.\n",
      "WARNING:root: MAD for feature education_ 1st-4th is 0, so replacing it with 1.0 to avoid error.\n",
      "WARNING:root: MAD for feature education_ 5th-6th is 0, so replacing it with 1.0 to avoid error.\n",
      "WARNING:root: MAD for feature education_ 7th-8th is 0, so replacing it with 1.0 to avoid error.\n",
      "WARNING:root: MAD for feature education_ 9th is 0, so replacing it with 1.0 to avoid error.\n",
      "WARNING:root: MAD for feature education_ Assoc-acdm is 0, so replacing it with 1.0 to avoid error.\n",
      "WARNING:root: MAD for feature education_ Assoc-voc is 0, so replacing it with 1.0 to avoid error.\n",
      "WARNING:root: MAD for feature education_ Bachelors is 0, so replacing it with 1.0 to avoid error.\n",
      "WARNING:root: MAD for feature education_ Doctorate is 0, so replacing it with 1.0 to avoid error.\n",
      "WARNING:root: MAD for feature education_ HS-grad is 0, so replacing it with 1.0 to avoid error.\n",
      "WARNING:root: MAD for feature education_ Masters is 0, so replacing it with 1.0 to avoid error.\n",
      "WARNING:root: MAD for feature education_ Preschool is 0, so replacing it with 1.0 to avoid error.\n",
      "WARNING:root: MAD for feature education_ Prof-school is 0, so replacing it with 1.0 to avoid error.\n",
      "WARNING:root: MAD for feature education_ Some-college is 0, so replacing it with 1.0 to avoid error.\n",
      "WARNING:root: MAD for feature marital-status_ Divorced is 0, so replacing it with 1.0 to avoid error.\n",
      "WARNING:root: MAD for feature marital-status_ Married-AF-spouse is 0, so replacing it with 1.0 to avoid error.\n",
      "WARNING:root: MAD for feature marital-status_ Married-civ-spouse is 0, so replacing it with 1.0 to avoid error.\n",
      "WARNING:root: MAD for feature marital-status_ Married-spouse-absent is 0, so replacing it with 1.0 to avoid error.\n",
      "WARNING:root: MAD for feature marital-status_ Never-married is 0, so replacing it with 1.0 to avoid error.\n",
      "WARNING:root: MAD for feature marital-status_ Separated is 0, so replacing it with 1.0 to avoid error.\n",
      "WARNING:root: MAD for feature marital-status_ Widowed is 0, so replacing it with 1.0 to avoid error.\n",
      "WARNING:root: MAD for feature occupation_ ? is 0, so replacing it with 1.0 to avoid error.\n",
      "WARNING:root: MAD for feature occupation_ Adm-clerical is 0, so replacing it with 1.0 to avoid error.\n",
      "WARNING:root: MAD for feature occupation_ Armed-Forces is 0, so replacing it with 1.0 to avoid error.\n",
      "WARNING:root: MAD for feature occupation_ Craft-repair is 0, so replacing it with 1.0 to avoid error.\n",
      "WARNING:root: MAD for feature occupation_ Exec-managerial is 0, so replacing it with 1.0 to avoid error.\n",
      "WARNING:root: MAD for feature occupation_ Farming-fishing is 0, so replacing it with 1.0 to avoid error.\n",
      "WARNING:root: MAD for feature occupation_ Handlers-cleaners is 0, so replacing it with 1.0 to avoid error.\n"
     ]
    },
    {
     "name": "stderr",
     "output_type": "stream",
     "text": [
      "WARNING:root: MAD for feature occupation_ Machine-op-inspct is 0, so replacing it with 1.0 to avoid error.\n",
      "WARNING:root: MAD for feature occupation_ Other-service is 0, so replacing it with 1.0 to avoid error.\n",
      "WARNING:root: MAD for feature occupation_ Priv-house-serv is 0, so replacing it with 1.0 to avoid error.\n",
      "WARNING:root: MAD for feature occupation_ Prof-specialty is 0, so replacing it with 1.0 to avoid error.\n",
      "WARNING:root: MAD for feature occupation_ Protective-serv is 0, so replacing it with 1.0 to avoid error.\n",
      "WARNING:root: MAD for feature occupation_ Sales is 0, so replacing it with 1.0 to avoid error.\n",
      "WARNING:root: MAD for feature occupation_ Tech-support is 0, so replacing it with 1.0 to avoid error.\n",
      "WARNING:root: MAD for feature occupation_ Transport-moving is 0, so replacing it with 1.0 to avoid error.\n",
      "WARNING:root: MAD for feature relationship_ Husband is 0, so replacing it with 1.0 to avoid error.\n",
      "WARNING:root: MAD for feature relationship_ Not-in-family is 0, so replacing it with 1.0 to avoid error.\n",
      "WARNING:root: MAD for feature relationship_ Other-relative is 0, so replacing it with 1.0 to avoid error.\n",
      "WARNING:root: MAD for feature relationship_ Own-child is 0, so replacing it with 1.0 to avoid error.\n",
      "WARNING:root: MAD for feature relationship_ Unmarried is 0, so replacing it with 1.0 to avoid error.\n",
      "WARNING:root: MAD for feature relationship_ Wife is 0, so replacing it with 1.0 to avoid error.\n",
      "WARNING:root: MAD for feature race_ Amer-Indian-Eskimo is 0, so replacing it with 1.0 to avoid error.\n",
      "WARNING:root: MAD for feature race_ Asian-Pac-Islander is 0, so replacing it with 1.0 to avoid error.\n",
      "WARNING:root: MAD for feature race_ Black is 0, so replacing it with 1.0 to avoid error.\n",
      "WARNING:root: MAD for feature race_ Other is 0, so replacing it with 1.0 to avoid error.\n",
      "WARNING:root: MAD for feature race_ White is 0, so replacing it with 1.0 to avoid error.\n",
      "WARNING:root: MAD for feature sex_ Female is 0, so replacing it with 1.0 to avoid error.\n",
      "WARNING:root: MAD for feature sex_ Male is 0, so replacing it with 1.0 to avoid error.\n",
      " 60%|██████    | 3/5 [00:01<00:01,  1.53it/s]WARNING:root: MAD for feature capital-gain is 0, so replacing it with 1.0 to avoid error.\n",
      "WARNING:root: MAD for feature capital-loss is 0, so replacing it with 1.0 to avoid error.\n",
      "WARNING:root: MAD for feature workclass_ ? is 0, so replacing it with 1.0 to avoid error.\n",
      "WARNING:root: MAD for feature workclass_ Federal-gov is 0, so replacing it with 1.0 to avoid error.\n",
      "WARNING:root: MAD for feature workclass_ Local-gov is 0, so replacing it with 1.0 to avoid error.\n",
      "WARNING:root: MAD for feature workclass_ Never-worked is 0, so replacing it with 1.0 to avoid error.\n",
      "WARNING:root: MAD for feature workclass_ Private is 0, so replacing it with 1.0 to avoid error.\n",
      "WARNING:root: MAD for feature workclass_ Self-emp-inc is 0, so replacing it with 1.0 to avoid error.\n",
      "WARNING:root: MAD for feature workclass_ Self-emp-not-inc is 0, so replacing it with 1.0 to avoid error.\n",
      "WARNING:root: MAD for feature workclass_ State-gov is 0, so replacing it with 1.0 to avoid error.\n",
      "WARNING:root: MAD for feature workclass_ Without-pay is 0, so replacing it with 1.0 to avoid error.\n",
      "WARNING:root: MAD for feature education_ 10th is 0, so replacing it with 1.0 to avoid error.\n",
      "WARNING:root: MAD for feature education_ 11th is 0, so replacing it with 1.0 to avoid error.\n",
      "WARNING:root: MAD for feature education_ 12th is 0, so replacing it with 1.0 to avoid error.\n",
      "WARNING:root: MAD for feature education_ 1st-4th is 0, so replacing it with 1.0 to avoid error.\n",
      "WARNING:root: MAD for feature education_ 5th-6th is 0, so replacing it with 1.0 to avoid error.\n",
      "WARNING:root: MAD for feature education_ 7th-8th is 0, so replacing it with 1.0 to avoid error.\n",
      "WARNING:root: MAD for feature education_ 9th is 0, so replacing it with 1.0 to avoid error.\n",
      "WARNING:root: MAD for feature education_ Assoc-acdm is 0, so replacing it with 1.0 to avoid error.\n",
      "WARNING:root: MAD for feature education_ Assoc-voc is 0, so replacing it with 1.0 to avoid error.\n",
      "WARNING:root: MAD for feature education_ Bachelors is 0, so replacing it with 1.0 to avoid error.\n",
      "WARNING:root: MAD for feature education_ Doctorate is 0, so replacing it with 1.0 to avoid error.\n",
      "WARNING:root: MAD for feature education_ HS-grad is 0, so replacing it with 1.0 to avoid error.\n",
      "WARNING:root: MAD for feature education_ Masters is 0, so replacing it with 1.0 to avoid error.\n",
      "WARNING:root: MAD for feature education_ Preschool is 0, so replacing it with 1.0 to avoid error.\n",
      "WARNING:root: MAD for feature education_ Prof-school is 0, so replacing it with 1.0 to avoid error.\n",
      "WARNING:root: MAD for feature education_ Some-college is 0, so replacing it with 1.0 to avoid error.\n",
      "WARNING:root: MAD for feature marital-status_ Divorced is 0, so replacing it with 1.0 to avoid error.\n",
      "WARNING:root: MAD for feature marital-status_ Married-AF-spouse is 0, so replacing it with 1.0 to avoid error.\n",
      "WARNING:root: MAD for feature marital-status_ Married-civ-spouse is 0, so replacing it with 1.0 to avoid error.\n",
      "WARNING:root: MAD for feature marital-status_ Married-spouse-absent is 0, so replacing it with 1.0 to avoid error.\n",
      "WARNING:root: MAD for feature marital-status_ Never-married is 0, so replacing it with 1.0 to avoid error.\n",
      "WARNING:root: MAD for feature marital-status_ Separated is 0, so replacing it with 1.0 to avoid error.\n",
      "WARNING:root: MAD for feature marital-status_ Widowed is 0, so replacing it with 1.0 to avoid error.\n",
      "WARNING:root: MAD for feature occupation_ ? is 0, so replacing it with 1.0 to avoid error.\n",
      "WARNING:root: MAD for feature occupation_ Adm-clerical is 0, so replacing it with 1.0 to avoid error.\n",
      "WARNING:root: MAD for feature occupation_ Armed-Forces is 0, so replacing it with 1.0 to avoid error.\n",
      "WARNING:root: MAD for feature occupation_ Craft-repair is 0, so replacing it with 1.0 to avoid error.\n",
      "WARNING:root: MAD for feature occupation_ Exec-managerial is 0, so replacing it with 1.0 to avoid error.\n",
      "WARNING:root: MAD for feature occupation_ Farming-fishing is 0, so replacing it with 1.0 to avoid error.\n",
      "WARNING:root: MAD for feature occupation_ Handlers-cleaners is 0, so replacing it with 1.0 to avoid error.\n",
      "WARNING:root: MAD for feature occupation_ Machine-op-inspct is 0, so replacing it with 1.0 to avoid error.\n",
      "WARNING:root: MAD for feature occupation_ Other-service is 0, so replacing it with 1.0 to avoid error.\n",
      "WARNING:root: MAD for feature occupation_ Priv-house-serv is 0, so replacing it with 1.0 to avoid error.\n",
      "WARNING:root: MAD for feature occupation_ Prof-specialty is 0, so replacing it with 1.0 to avoid error.\n",
      "WARNING:root: MAD for feature occupation_ Protective-serv is 0, so replacing it with 1.0 to avoid error.\n",
      "WARNING:root: MAD for feature occupation_ Sales is 0, so replacing it with 1.0 to avoid error.\n",
      "WARNING:root: MAD for feature occupation_ Tech-support is 0, so replacing it with 1.0 to avoid error.\n",
      "WARNING:root: MAD for feature occupation_ Transport-moving is 0, so replacing it with 1.0 to avoid error.\n",
      "WARNING:root: MAD for feature relationship_ Husband is 0, so replacing it with 1.0 to avoid error.\n",
      "WARNING:root: MAD for feature relationship_ Not-in-family is 0, so replacing it with 1.0 to avoid error.\n",
      "WARNING:root: MAD for feature relationship_ Other-relative is 0, so replacing it with 1.0 to avoid error.\n",
      "WARNING:root: MAD for feature relationship_ Own-child is 0, so replacing it with 1.0 to avoid error.\n",
      "WARNING:root: MAD for feature relationship_ Unmarried is 0, so replacing it with 1.0 to avoid error.\n",
      "WARNING:root: MAD for feature relationship_ Wife is 0, so replacing it with 1.0 to avoid error.\n",
      "WARNING:root: MAD for feature race_ Amer-Indian-Eskimo is 0, so replacing it with 1.0 to avoid error.\n",
      "WARNING:root: MAD for feature race_ Asian-Pac-Islander is 0, so replacing it with 1.0 to avoid error.\n",
      "WARNING:root: MAD for feature race_ Black is 0, so replacing it with 1.0 to avoid error.\n",
      "WARNING:root: MAD for feature race_ Other is 0, so replacing it with 1.0 to avoid error.\n",
      "WARNING:root: MAD for feature race_ White is 0, so replacing it with 1.0 to avoid error.\n",
      "WARNING:root: MAD for feature sex_ Female is 0, so replacing it with 1.0 to avoid error.\n"
     ]
    },
    {
     "name": "stderr",
     "output_type": "stream",
     "text": [
      "WARNING:root: MAD for feature sex_ Male is 0, so replacing it with 1.0 to avoid error.\n",
      " 80%|████████  | 4/5 [00:02<00:00,  1.53it/s]WARNING:root: MAD for feature capital-gain is 0, so replacing it with 1.0 to avoid error.\n",
      "WARNING:root: MAD for feature capital-loss is 0, so replacing it with 1.0 to avoid error.\n",
      "WARNING:root: MAD for feature workclass_ ? is 0, so replacing it with 1.0 to avoid error.\n",
      "WARNING:root: MAD for feature workclass_ Federal-gov is 0, so replacing it with 1.0 to avoid error.\n",
      "WARNING:root: MAD for feature workclass_ Local-gov is 0, so replacing it with 1.0 to avoid error.\n",
      "WARNING:root: MAD for feature workclass_ Never-worked is 0, so replacing it with 1.0 to avoid error.\n",
      "WARNING:root: MAD for feature workclass_ Private is 0, so replacing it with 1.0 to avoid error.\n",
      "WARNING:root: MAD for feature workclass_ Self-emp-inc is 0, so replacing it with 1.0 to avoid error.\n",
      "WARNING:root: MAD for feature workclass_ Self-emp-not-inc is 0, so replacing it with 1.0 to avoid error.\n",
      "WARNING:root: MAD for feature workclass_ State-gov is 0, so replacing it with 1.0 to avoid error.\n",
      "WARNING:root: MAD for feature workclass_ Without-pay is 0, so replacing it with 1.0 to avoid error.\n",
      "WARNING:root: MAD for feature education_ 10th is 0, so replacing it with 1.0 to avoid error.\n",
      "WARNING:root: MAD for feature education_ 11th is 0, so replacing it with 1.0 to avoid error.\n",
      "WARNING:root: MAD for feature education_ 12th is 0, so replacing it with 1.0 to avoid error.\n",
      "WARNING:root: MAD for feature education_ 1st-4th is 0, so replacing it with 1.0 to avoid error.\n",
      "WARNING:root: MAD for feature education_ 5th-6th is 0, so replacing it with 1.0 to avoid error.\n",
      "WARNING:root: MAD for feature education_ 7th-8th is 0, so replacing it with 1.0 to avoid error.\n",
      "WARNING:root: MAD for feature education_ 9th is 0, so replacing it with 1.0 to avoid error.\n",
      "WARNING:root: MAD for feature education_ Assoc-acdm is 0, so replacing it with 1.0 to avoid error.\n",
      "WARNING:root: MAD for feature education_ Assoc-voc is 0, so replacing it with 1.0 to avoid error.\n",
      "WARNING:root: MAD for feature education_ Bachelors is 0, so replacing it with 1.0 to avoid error.\n",
      "WARNING:root: MAD for feature education_ Doctorate is 0, so replacing it with 1.0 to avoid error.\n",
      "WARNING:root: MAD for feature education_ HS-grad is 0, so replacing it with 1.0 to avoid error.\n",
      "WARNING:root: MAD for feature education_ Masters is 0, so replacing it with 1.0 to avoid error.\n",
      "WARNING:root: MAD for feature education_ Preschool is 0, so replacing it with 1.0 to avoid error.\n",
      "WARNING:root: MAD for feature education_ Prof-school is 0, so replacing it with 1.0 to avoid error.\n",
      "WARNING:root: MAD for feature education_ Some-college is 0, so replacing it with 1.0 to avoid error.\n",
      "WARNING:root: MAD for feature marital-status_ Divorced is 0, so replacing it with 1.0 to avoid error.\n",
      "WARNING:root: MAD for feature marital-status_ Married-AF-spouse is 0, so replacing it with 1.0 to avoid error.\n",
      "WARNING:root: MAD for feature marital-status_ Married-civ-spouse is 0, so replacing it with 1.0 to avoid error.\n",
      "WARNING:root: MAD for feature marital-status_ Married-spouse-absent is 0, so replacing it with 1.0 to avoid error.\n",
      "WARNING:root: MAD for feature marital-status_ Never-married is 0, so replacing it with 1.0 to avoid error.\n",
      "WARNING:root: MAD for feature marital-status_ Separated is 0, so replacing it with 1.0 to avoid error.\n",
      "WARNING:root: MAD for feature marital-status_ Widowed is 0, so replacing it with 1.0 to avoid error.\n",
      "WARNING:root: MAD for feature occupation_ ? is 0, so replacing it with 1.0 to avoid error.\n",
      "WARNING:root: MAD for feature occupation_ Adm-clerical is 0, so replacing it with 1.0 to avoid error.\n",
      "WARNING:root: MAD for feature occupation_ Armed-Forces is 0, so replacing it with 1.0 to avoid error.\n",
      "WARNING:root: MAD for feature occupation_ Craft-repair is 0, so replacing it with 1.0 to avoid error.\n",
      "WARNING:root: MAD for feature occupation_ Exec-managerial is 0, so replacing it with 1.0 to avoid error.\n",
      "WARNING:root: MAD for feature occupation_ Farming-fishing is 0, so replacing it with 1.0 to avoid error.\n",
      "WARNING:root: MAD for feature occupation_ Handlers-cleaners is 0, so replacing it with 1.0 to avoid error.\n",
      "WARNING:root: MAD for feature occupation_ Machine-op-inspct is 0, so replacing it with 1.0 to avoid error.\n",
      "WARNING:root: MAD for feature occupation_ Other-service is 0, so replacing it with 1.0 to avoid error.\n",
      "WARNING:root: MAD for feature occupation_ Priv-house-serv is 0, so replacing it with 1.0 to avoid error.\n",
      "WARNING:root: MAD for feature occupation_ Prof-specialty is 0, so replacing it with 1.0 to avoid error.\n",
      "WARNING:root: MAD for feature occupation_ Protective-serv is 0, so replacing it with 1.0 to avoid error.\n",
      "WARNING:root: MAD for feature occupation_ Sales is 0, so replacing it with 1.0 to avoid error.\n",
      "WARNING:root: MAD for feature occupation_ Tech-support is 0, so replacing it with 1.0 to avoid error.\n",
      "WARNING:root: MAD for feature occupation_ Transport-moving is 0, so replacing it with 1.0 to avoid error.\n",
      "WARNING:root: MAD for feature relationship_ Husband is 0, so replacing it with 1.0 to avoid error.\n",
      "WARNING:root: MAD for feature relationship_ Not-in-family is 0, so replacing it with 1.0 to avoid error.\n",
      "WARNING:root: MAD for feature relationship_ Other-relative is 0, so replacing it with 1.0 to avoid error.\n",
      "WARNING:root: MAD for feature relationship_ Own-child is 0, so replacing it with 1.0 to avoid error.\n",
      "WARNING:root: MAD for feature relationship_ Unmarried is 0, so replacing it with 1.0 to avoid error.\n",
      "WARNING:root: MAD for feature relationship_ Wife is 0, so replacing it with 1.0 to avoid error.\n",
      "WARNING:root: MAD for feature race_ Amer-Indian-Eskimo is 0, so replacing it with 1.0 to avoid error.\n",
      "WARNING:root: MAD for feature race_ Asian-Pac-Islander is 0, so replacing it with 1.0 to avoid error.\n",
      "WARNING:root: MAD for feature race_ Black is 0, so replacing it with 1.0 to avoid error.\n",
      "WARNING:root: MAD for feature race_ Other is 0, so replacing it with 1.0 to avoid error.\n",
      "WARNING:root: MAD for feature race_ White is 0, so replacing it with 1.0 to avoid error.\n",
      "WARNING:root: MAD for feature sex_ Female is 0, so replacing it with 1.0 to avoid error.\n",
      "WARNING:root: MAD for feature sex_ Male is 0, so replacing it with 1.0 to avoid error.\n",
      "100%|██████████| 5/5 [00:03<00:00,  1.53it/s]"
     ]
    },
    {
     "name": "stdout",
     "output_type": "stream",
     "text": [
      "1.1200002672272125\n"
     ]
    },
    {
     "name": "stderr",
     "output_type": "stream",
     "text": [
      "\n"
     ]
    }
   ],
   "source": [
    "for i in clf_dict.keys():\n",
    "    print('Generating counterfactuals for', i)\n",
    "    for name, model in clf_dict[i].items():\n",
    "        print('Model Name', name)\n",
    "        for method in ['random', 'genetic']:\n",
    "            print('Method Name', method)\n",
    "            \n",
    "            X = clf_data[i]['X_test']\n",
    "            y = clf_data[i]['y_test']\n",
    "            mad = clf_data[i]['mad']\n",
    "            cfs, dataset = generateCF(model=model, method=method, X=X, y=y, sample_size=sample_size, n_cfs=n_cfs)\n",
    "                \n",
    "            c_feat = clf_data[i]['c_features']\n",
    "            proximity = Proximity(cfs, dataset, sample_size, n_cfs, c_feat, mad)\n",
    "            validity = Validity(cfs,dataset, sample_size)\n",
    "            sparsity = Sparsity(cfs, dataset, sample_size, n_cfs)\n",
    "            diversity = Diversity(cfs, sample_size, n_cfs)\n",
    "            mmd = get_mmd_rbf(cfs, dataset, sample_size)\n",
    "                \n",
    "            print(mmd)\n",
    "            cf_metric_key = '~'.join([i, method, name])\n",
    "                    \n",
    "            if cf_metric_key not in cf_metric:\n",
    "                cf_metric[cf_metric_key] = {'proximity': proximity, 'validity': validity, 'sparsity': sparsity, 'diversity': diversity, 'mmd': mmd}"
   ]
  },
  {
   "cell_type": "code",
   "execution_count": 76,
   "metadata": {},
   "outputs": [
    {
     "data": {
      "text/html": [
       "<div>\n",
       "<style scoped>\n",
       "    .dataframe tbody tr th:only-of-type {\n",
       "        vertical-align: middle;\n",
       "    }\n",
       "\n",
       "    .dataframe tbody tr th {\n",
       "        vertical-align: top;\n",
       "    }\n",
       "\n",
       "    .dataframe thead th {\n",
       "        text-align: right;\n",
       "    }\n",
       "</style>\n",
       "<table border=\"1\" class=\"dataframe\">\n",
       "  <thead>\n",
       "    <tr style=\"text-align: right;\">\n",
       "      <th></th>\n",
       "      <th></th>\n",
       "      <th></th>\n",
       "      <th>proximity</th>\n",
       "      <th>sparsity</th>\n",
       "      <th>validity</th>\n",
       "      <th>diversity</th>\n",
       "      <th>mmd</th>\n",
       "    </tr>\n",
       "    <tr>\n",
       "      <th>data</th>\n",
       "      <th>method</th>\n",
       "      <th>model</th>\n",
       "      <th></th>\n",
       "      <th></th>\n",
       "      <th></th>\n",
       "      <th></th>\n",
       "      <th></th>\n",
       "    </tr>\n",
       "  </thead>\n",
       "  <tbody>\n",
       "    <tr>\n",
       "      <th rowspan=\"6\" valign=\"top\">Adult Census</th>\n",
       "      <th rowspan=\"3\" valign=\"top\">genetic</th>\n",
       "      <th>Logistic Regression</th>\n",
       "      <td>-4.276833</td>\n",
       "      <td>0.875821</td>\n",
       "      <td>0.80</td>\n",
       "      <td>219.570288</td>\n",
       "      <td>1.200000</td>\n",
       "    </tr>\n",
       "    <tr>\n",
       "      <th>MLP</th>\n",
       "      <td>-2.730871</td>\n",
       "      <td>0.881194</td>\n",
       "      <td>0.80</td>\n",
       "      <td>104.288637</td>\n",
       "      <td>1.200000</td>\n",
       "    </tr>\n",
       "    <tr>\n",
       "      <th>Random Forest</th>\n",
       "      <td>-1.638048</td>\n",
       "      <td>0.872239</td>\n",
       "      <td>0.80</td>\n",
       "      <td>0.041543</td>\n",
       "      <td>1.120000</td>\n",
       "    </tr>\n",
       "    <tr>\n",
       "      <th rowspan=\"3\" valign=\"top\">random</th>\n",
       "      <th>Logistic Regression</th>\n",
       "      <td>-0.440000</td>\n",
       "      <td>0.978507</td>\n",
       "      <td>0.80</td>\n",
       "      <td>1.089048</td>\n",
       "      <td>1.200000</td>\n",
       "    </tr>\n",
       "    <tr>\n",
       "      <th>MLP</th>\n",
       "      <td>0.000000</td>\n",
       "      <td>0.977910</td>\n",
       "      <td>0.80</td>\n",
       "      <td>1.595501</td>\n",
       "      <td>1.200000</td>\n",
       "    </tr>\n",
       "    <tr>\n",
       "      <th>Random Forest</th>\n",
       "      <td>-0.760000</td>\n",
       "      <td>0.976716</td>\n",
       "      <td>1.00</td>\n",
       "      <td>1.420566</td>\n",
       "      <td>1.188929</td>\n",
       "    </tr>\n",
       "    <tr>\n",
       "      <th rowspan=\"6\" valign=\"top\">Pima Diabetes</th>\n",
       "      <th rowspan=\"3\" valign=\"top\">genetic</th>\n",
       "      <th>Logistic Regression</th>\n",
       "      <td>-10.726048</td>\n",
       "      <td>0.373333</td>\n",
       "      <td>1.00</td>\n",
       "      <td>2.784836</td>\n",
       "      <td>1.170570</td>\n",
       "    </tr>\n",
       "    <tr>\n",
       "      <th>MLP</th>\n",
       "      <td>-9.662121</td>\n",
       "      <td>0.453333</td>\n",
       "      <td>1.00</td>\n",
       "      <td>26.164346</td>\n",
       "      <td>1.141139</td>\n",
       "    </tr>\n",
       "    <tr>\n",
       "      <th>Random Forest</th>\n",
       "      <td>-10.473813</td>\n",
       "      <td>0.395556</td>\n",
       "      <td>1.00</td>\n",
       "      <td>2.107936</td>\n",
       "      <td>1.170570</td>\n",
       "    </tr>\n",
       "    <tr>\n",
       "      <th rowspan=\"3\" valign=\"top\">random</th>\n",
       "      <th>Logistic Regression</th>\n",
       "      <td>-5.672484</td>\n",
       "      <td>0.817778</td>\n",
       "      <td>0.80</td>\n",
       "      <td>2.517507</td>\n",
       "      <td>1.200000</td>\n",
       "    </tr>\n",
       "    <tr>\n",
       "      <th>MLP</th>\n",
       "      <td>-6.456324</td>\n",
       "      <td>0.813333</td>\n",
       "      <td>0.60</td>\n",
       "      <td>9.046289</td>\n",
       "      <td>1.200002</td>\n",
       "    </tr>\n",
       "    <tr>\n",
       "      <th>Random Forest</th>\n",
       "      <td>-7.240431</td>\n",
       "      <td>0.800000</td>\n",
       "      <td>0.72</td>\n",
       "      <td>6.723466</td>\n",
       "      <td>1.203384</td>\n",
       "    </tr>\n",
       "  </tbody>\n",
       "</table>\n",
       "</div>"
      ],
      "text/plain": [
       "                                           proximity  sparsity  validity  \\\n",
       "data          method  model                                                \n",
       "Adult Census  genetic Logistic Regression  -4.276833  0.875821      0.80   \n",
       "                      MLP                  -2.730871  0.881194      0.80   \n",
       "                      Random Forest        -1.638048  0.872239      0.80   \n",
       "              random  Logistic Regression  -0.440000  0.978507      0.80   \n",
       "                      MLP                   0.000000  0.977910      0.80   \n",
       "                      Random Forest        -0.760000  0.976716      1.00   \n",
       "Pima Diabetes genetic Logistic Regression -10.726048  0.373333      1.00   \n",
       "                      MLP                  -9.662121  0.453333      1.00   \n",
       "                      Random Forest       -10.473813  0.395556      1.00   \n",
       "              random  Logistic Regression  -5.672484  0.817778      0.80   \n",
       "                      MLP                  -6.456324  0.813333      0.60   \n",
       "                      Random Forest        -7.240431  0.800000      0.72   \n",
       "\n",
       "                                            diversity       mmd  \n",
       "data          method  model                                      \n",
       "Adult Census  genetic Logistic Regression  219.570288  1.200000  \n",
       "                      MLP                  104.288637  1.200000  \n",
       "                      Random Forest          0.041543  1.120000  \n",
       "              random  Logistic Regression    1.089048  1.200000  \n",
       "                      MLP                    1.595501  1.200000  \n",
       "                      Random Forest          1.420566  1.188929  \n",
       "Pima Diabetes genetic Logistic Regression    2.784836  1.170570  \n",
       "                      MLP                   26.164346  1.141139  \n",
       "                      Random Forest          2.107936  1.170570  \n",
       "              random  Logistic Regression    2.517507  1.200000  \n",
       "                      MLP                    9.046289  1.200002  \n",
       "                      Random Forest          6.723466  1.203384  "
      ]
     },
     "execution_count": 76,
     "metadata": {},
     "output_type": "execute_result"
    }
   ],
   "source": [
    "df = pd.DataFrame.from_dict(cf_metric, orient='index').reset_index()\n",
    "index_split = df['index'].str.split('~', expand=True)\n",
    "df['data'] = index_split[0]\n",
    "df['method'] = index_split[1]\n",
    "df['model'] = index_split[2]\n",
    "df.drop('index', inplace = True, axis = 1)\n",
    "\n",
    "df.groupby(['data','method','model'])['proximity','sparsity','validity','diversity','mmd'].mean()"
   ]
  },
  {
   "cell_type": "code",
   "execution_count": null,
   "metadata": {},
   "outputs": [],
   "source": []
  },
  {
   "cell_type": "markdown",
   "metadata": {},
   "source": [
    "###### "
   ]
  }
 ],
 "metadata": {
  "colab": {
   "collapsed_sections": [],
   "name": "MIS382N-HW4.ipynb",
   "provenance": []
  },
  "kernelspec": {
   "display_name": "Python 3",
   "language": "python",
   "name": "python3"
  },
  "language_info": {
   "codemirror_mode": {
    "name": "ipython",
    "version": 3
   },
   "file_extension": ".py",
   "mimetype": "text/x-python",
   "name": "python",
   "nbconvert_exporter": "python",
   "pygments_lexer": "ipython3",
   "version": "3.8.3"
  }
 },
 "nbformat": 4,
 "nbformat_minor": 1
}
