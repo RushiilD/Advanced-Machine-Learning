{
 "cells": [
  {
   "cell_type": "markdown",
   "metadata": {
    "id": "evHVxwk2JA-3"
   },
   "source": [
    "# <p style=\"text-align: center;\">MIS 382N: Advanced Machine Learning</p>\n",
    "# <p style=\"text-align: center;\">Homework 1</p>\n",
    "## <p style=\"text-align: center;\">Total points: 55</p>\n",
    "## <p style=\"text-align: center;\">Due: Wednesday, Sep 8 submitted via Canvas by 11:59 pm</p>\n",
    "\n",
    "Your homework should be written in a **Jupyter notebook**. Please make sure your code runs and the graphics (and anything else) are displayed in your notebook before submitting. (%matplotlib inline)\n",
    "\n",
    "**Note: Notebooks MUST have the images embedded in them. There will be no regrades if attached images do not render in the notebook. Please re download from canvas after submission and make sure all attached images render without errors. (Hint: Image module from IPython.display)**"
   ]
  },
  {
   "cell_type": "markdown",
   "metadata": {},
   "source": [
    "**Rushiil Deshmukh. EID - rsd949**\n",
    "\n",
    "**Troy Richard. EID - tdr944**"
   ]
  },
  {
   "cell_type": "markdown",
   "metadata": {
    "id": "TWWU_gOSLEEv"
   },
   "source": [
    "# Question 1: MLOps (10 pts)\n",
    "Read this [article](https://towardsdatascience.com/what-is-mlops-everything-you-must-know-to-get-started-523f2d0b8bd8) \"What is MLOps — Everything You Must Know to Get Started\", which gives a quick walkthrough of the machine learning development lifecycle and explains how MLOps come into play, or watch this [video](https://www.youtube.com/watch?v=06-AZXmwHjo) which you may find interesting.\n",
    "\n",
    "1. (**4 pts**) Use your own words to describe what MLOps is, and what challenges MLOps address. Limit your answer to one paragraph.\n",
    "\n",
    "2. (**6 pts**) Describe what the main phases in MLOps are. Your answer should be 2-3 paragraphs.\n",
    "\n",
    "\n",
    "## Answer:"
   ]
  },
  {
   "cell_type": "markdown",
   "metadata": {},
   "source": [
    "Question 1 - 1"
   ]
  },
  {
   "cell_type": "markdown",
   "metadata": {},
   "source": [
    "1.) Machine Learning Operations, or MLOps is a type of engineering that combines Machine Learning development and deployment as a method of making performing powerful models in a standardized and efficient manner. The challenges that MLOps is trying to address include: the current lack of professionals in Data Science capable of making web applications, the constant change in model training and evolution of business objectives, the difficulties in communication among business and technical professionals encouraging a lack of collaboration, and the calculation of cost and risk associateed with models failing to live up to their intended purposes."
   ]
  },
  {
   "cell_type": "markdown",
   "metadata": {},
   "source": [
    "Question 1 - 2"
   ]
  },
  {
   "cell_type": "markdown",
   "metadata": {},
   "source": [
    "2.) There are 7 main phases of MLOps. The first is the framing of ML problems from business objectives. This is a result of these models stemming from business problems, and it is important to use MLOps to address topics relevant to the business. Next is the developing of ML and data solutions for the problem. This involves looking for data and models that are relevant for the model, a process that incorporates multiple important steps. The next step is preparing and processing data as part of data engineering. Preparing data incorporates several steps like cleaning and the data is then filtered for features that are relevant to the understanding of the business problem. Next is the designing and coding of a pipeline for data that is used for future phases of the MLOps process. The following phase is training and experimenting with the model, or in other words, data science. This involves iterating several versions of models to select the optimal solution based on a series of statistical and/or qualitative analyses. It is important the models created in this step can be reproduced by other data scientits at a different time.\n",
    "\n",
    "The next phase is the constructing and automating of Machine Learning Pipelines. These should be made with several tasks in mind, such as the need to identify system requirements, developing training and testing pipelines, and undergoing validation of the data. The sixth phase of the MLOps process is the deployment of models into the system of production, which can be accomplished in two methods. The first method is packaging the model into an application software for deployment. The second method is deploying the model via a web framework. This second method has several options to choose from. It is important in this step to make sure proper testing scores and documentation are completed and the model accuracy is revalidated, among other considerations. The final phase of the MLOps process is the monitoring, optimizing, and maintaining of models. It is imperative to monitor the performance of models through the placement of control measures that ensure they meet expectations in place for all users impacted by them. This is usually done through the maintaining of the models by data scientists and devops engineers who monitor performance and quality of models and address failures or biases developed in a model."
   ]
  },
  {
   "cell_type": "markdown",
   "metadata": {
    "id": "wusA9L1LmUMH"
   },
   "source": [
    "# Question 2: Applications of Machine Learning (5 pts)\n",
    "Read this [article](https://builtin.com/data-science/data-science-applications-examples) \"17 Data Science Applications & Examples\" and pick one of the data science systems used by various organizations according to this blog. \n",
    "\n",
    "For this system you have chosen, answer the following questions. Please limit your answer to one paragraph:\n",
    "\n",
    "1. What kind of machine learning problem is involved (e.g. classification, regression, clustering, outlier detection,...) in this system?\n",
    "2. Speculate on what kind of data may be needed and how the results can be useful to the organization.\n",
    "3. What do you think are the ethical implications of using machine learning in a domain like this?\n",
    "\n",
    "## Answer:"
   ]
  },
  {
   "cell_type": "markdown",
   "metadata": {},
   "source": [
    "RSPCT: BASKETBALL-COACHING SENSOR\n",
    "Location: Tel Aviv, Israel"
   ]
  },
  {
   "cell_type": "markdown",
   "metadata": {},
   "source": [
    "Question 2 - 1"
   ]
  },
  {
   "cell_type": "markdown",
   "metadata": {},
   "source": [
    "1.) This model seems to rely on regression taking into account the time and circumstance of a game, and the skill of a player to determine what type of shooting attempt is ideal for a basketball game. "
   ]
  },
  {
   "cell_type": "markdown",
   "metadata": {},
   "source": [
    "Question 2 - 2"
   ]
  },
  {
   "cell_type": "markdown",
   "metadata": {},
   "source": [
    "2.) The kind of data needed for RSPCT's model are likely thousands of different shooting statistics from a variety of players in various leagues and at various skill levels. This is important for the organization given that the success of the model relies of historical data of shooting results to determine ideal shot types and locations given a player's personal statistics and the circumstance of the game they are playing in at a given time. To make these recommendations as versatile and wide-reaching as possible for all potential basketball players, it is important a diverse and large amount of data is collected from all skill levels, positions, and circumstances of basketball players and games."
   ]
  },
  {
   "cell_type": "markdown",
   "metadata": {},
   "source": [
    "Question 2 - 3"
   ]
  },
  {
   "cell_type": "markdown",
   "metadata": {},
   "source": [
    "3.) The ethical implications of using ML in the domain of basketball is likely the same ethical debate Billy Beane faced in Moneyball. Is sports really a statistical game or is it a game of skill? Should a player rely on their own individual skill or on a statistical recommendation to guide their performance? Should management select players to be on the court based on statistics or other factors such as drive and emotional attachement? Sports is full of statistics, but it is also an emotional domain and as such introducing ML to the game of basketball will likely create debate on its impact. "
   ]
  },
  {
   "cell_type": "markdown",
   "metadata": {
    "id": "2w8za9lLmVO7"
   },
   "source": [
    "# Question 3: Simpson's Paradox (10 pts)\n",
    "A data scientist should be careful about drawing unwarranted conclusions about any data that is presented. One of the 'gotchas' that can happen even in apparently very simple tabular summaries, is called Simpson's paradox.\n",
    "\n",
    "Read this [article](https://www.covid-datascience.com/post/israeli-data-how-can-efficacy-vs-severe-disease-be-strong-when-60-of-hospitalized-are-vaccinated), which explains why the computed efficacy of the Pfizer vaccine is misleadingly low (67.5%) when you lump all people together, but once you stratify people by age (which is the right thing to do), you get much higher efficacy numbers.\n",
    "\n",
    "1.(**5 pts**) Explain in your own words what Simpson's paradox is, and how this 'paradox' can happen in real data.\n",
    "\n",
    "2.(**5 pts**) Find and mention another example of Simpson's paradox (but not any of the 3 examples given in the Wikipedia entry for 'Simpson's paradox'), state why the paradox appeared in your chosen example. Also give a reference (URL) to your source for the chosen example.\n",
    "\n",
    "## Answer:"
   ]
  },
  {
   "cell_type": "markdown",
   "metadata": {},
   "source": [
    "Question 3 - 1"
   ]
  },
  {
   "cell_type": "markdown",
   "metadata": {},
   "source": [
    "1.) Simpson's Paradox is the phenom of unaccounted for confounding variables creating inaccurate results from data. This can happen in real data in that without taking into account the potential confounding variables of a dataset, potential skew can be unknowingly created. To address this, stratification of data by separating variables to account for the impact of confounding variables is a common method of addressing the paradox. This is especially common in sociological or medical datasets, given the vast amount of moving pieces that can influence the results found in a study that are usually not limited only to two variables."
   ]
  },
  {
   "cell_type": "markdown",
   "metadata": {},
   "source": [
    "Question 3 - 2"
   ]
  },
  {
   "cell_type": "markdown",
   "metadata": {},
   "source": [
    "2.) An example of Simpson's Paradox is the alleged increase in national wages in recent years, yet the decrease in national median wages for all subsects of the population based on educational level. Simpson's Paradox appeared in this example in that the amount of college-educated Americans has continually and substantially increased, and at the same time this level of education has experienced a far lower decrease in median wages when compared with other subsects of the population. So, while it might appear at first that regardless of education level one's income level is decreasing significantlly, Simpson's Paradox is really what leads to this conclusion. In reality, the data shows that a higher education level lessens the risk of lowered wage significantly.\n",
    "This is seen at this link: https://blog.revolutionanalytics.com/2013/07/a-great-example-of-simpsons-paradox.html"
   ]
  },
  {
   "cell_type": "markdown",
   "metadata": {
    "id": "gth0D8jiMBSe"
   },
   "source": [
    "# Question 4: Ridge and Lasso Regression (30 pts)\n",
    "\n",
    "Download the dataset **Admission.csv** from Canvas and use the following codes to import the Admission dataset in Python. \n",
    "\n",
    "There are 7 features in the dataset:\n",
    "\n",
    "1. GRE score\n",
    "2. TOEFL score\n",
    "3. University Rating\n",
    "4. SOP(Statement of Purpose)\n",
    "5. LOR(Letter of Recommendation)\n",
    "6. CGPA\n",
    "7. Research\n",
    "\n",
    "And the target is **Chance of Admission**."
   ]
  },
  {
   "cell_type": "code",
   "execution_count": 24,
   "metadata": {
    "id": "QFazlpLgGpAa"
   },
   "outputs": [],
   "source": [
    "# # Only use this code block if you are using Google Colab.\n",
    "# # If you are using Jupyter Notebook, please ignore this code block. You can directly upload the file to your Jupyter Notebook file systems.\n",
    "# from google.colab import files\n",
    "\n",
    "# ## It will prompt you to select a local file. Click on “Choose Files” then select and upload the file. \n",
    "# ## Wait for the file to be 100% uploaded. You should see the name of the file once Colab has uploaded it.\n",
    "# uploaded = files.upload()"
   ]
  },
  {
   "cell_type": "code",
   "execution_count": 2,
   "metadata": {
    "id": "xsPaOOehGuU6"
   },
   "outputs": [],
   "source": [
    "# Codes below will work for both Google Colab and Jupyter Notebook.\n",
    "import numpy as np\n",
    "import pandas as pd\n",
    "import random\n",
    "from sklearn import linear_model\n",
    "from sklearn.metrics import mean_absolute_error, mean_squared_error\n",
    "from sklearn.linear_model import LogisticRegression\n",
    "%matplotlib inline\n",
    "\n",
    "## Load the dataset into pandas DataFrame\n",
    "df = pd.read_csv('Admission.csv', index_col=0)\n",
    "df = df.replace([np.inf, -np.inf], np.nan) # \n",
    "df = df.fillna(0) # Replace all the NaN values with 0"
   ]
  },
  {
   "cell_type": "code",
   "execution_count": 3,
   "metadata": {
    "id": "PmMz72U6Gv-z"
   },
   "outputs": [
    {
     "data": {
      "text/plain": [
       "Index(['GRE_Score', 'TOEFL_Score', 'University_Rating', 'SOP', 'LOR ', 'CGPA',\n",
       "       'Research', 'Chance_of_Admit'],\n",
       "      dtype='object')"
      ]
     },
     "execution_count": 3,
     "metadata": {},
     "output_type": "execute_result"
    }
   ],
   "source": [
    "df.columns # Show you all the columns in this file"
   ]
  },
  {
   "cell_type": "code",
   "execution_count": 4,
   "metadata": {
    "id": "CyZN-yFfGxlt"
   },
   "outputs": [
    {
     "data": {
      "text/html": [
       "<div>\n",
       "<style scoped>\n",
       "    .dataframe tbody tr th:only-of-type {\n",
       "        vertical-align: middle;\n",
       "    }\n",
       "\n",
       "    .dataframe tbody tr th {\n",
       "        vertical-align: top;\n",
       "    }\n",
       "\n",
       "    .dataframe thead th {\n",
       "        text-align: right;\n",
       "    }\n",
       "</style>\n",
       "<table border=\"1\" class=\"dataframe\">\n",
       "  <thead>\n",
       "    <tr style=\"text-align: right;\">\n",
       "      <th></th>\n",
       "      <th>GRE_Score</th>\n",
       "      <th>TOEFL_Score</th>\n",
       "      <th>University_Rating</th>\n",
       "      <th>SOP</th>\n",
       "      <th>LOR</th>\n",
       "      <th>CGPA</th>\n",
       "      <th>Research</th>\n",
       "      <th>Chance_of_Admit</th>\n",
       "    </tr>\n",
       "    <tr>\n",
       "      <th>Serial No.</th>\n",
       "      <th></th>\n",
       "      <th></th>\n",
       "      <th></th>\n",
       "      <th></th>\n",
       "      <th></th>\n",
       "      <th></th>\n",
       "      <th></th>\n",
       "      <th></th>\n",
       "    </tr>\n",
       "  </thead>\n",
       "  <tbody>\n",
       "    <tr>\n",
       "      <th>1</th>\n",
       "      <td>337</td>\n",
       "      <td>118</td>\n",
       "      <td>4</td>\n",
       "      <td>4.5</td>\n",
       "      <td>4.5</td>\n",
       "      <td>9.65</td>\n",
       "      <td>1</td>\n",
       "      <td>0.92</td>\n",
       "    </tr>\n",
       "    <tr>\n",
       "      <th>2</th>\n",
       "      <td>324</td>\n",
       "      <td>107</td>\n",
       "      <td>4</td>\n",
       "      <td>4.0</td>\n",
       "      <td>4.5</td>\n",
       "      <td>8.87</td>\n",
       "      <td>1</td>\n",
       "      <td>0.76</td>\n",
       "    </tr>\n",
       "    <tr>\n",
       "      <th>3</th>\n",
       "      <td>316</td>\n",
       "      <td>104</td>\n",
       "      <td>3</td>\n",
       "      <td>3.0</td>\n",
       "      <td>3.5</td>\n",
       "      <td>8.00</td>\n",
       "      <td>1</td>\n",
       "      <td>0.72</td>\n",
       "    </tr>\n",
       "    <tr>\n",
       "      <th>4</th>\n",
       "      <td>322</td>\n",
       "      <td>110</td>\n",
       "      <td>3</td>\n",
       "      <td>3.5</td>\n",
       "      <td>2.5</td>\n",
       "      <td>8.67</td>\n",
       "      <td>1</td>\n",
       "      <td>0.80</td>\n",
       "    </tr>\n",
       "    <tr>\n",
       "      <th>5</th>\n",
       "      <td>314</td>\n",
       "      <td>103</td>\n",
       "      <td>2</td>\n",
       "      <td>2.0</td>\n",
       "      <td>3.0</td>\n",
       "      <td>8.21</td>\n",
       "      <td>0</td>\n",
       "      <td>0.65</td>\n",
       "    </tr>\n",
       "  </tbody>\n",
       "</table>\n",
       "</div>"
      ],
      "text/plain": [
       "            GRE_Score  TOEFL_Score  University_Rating  SOP  LOR   CGPA  \\\n",
       "Serial No.                                                               \n",
       "1                 337          118                  4  4.5   4.5  9.65   \n",
       "2                 324          107                  4  4.0   4.5  8.87   \n",
       "3                 316          104                  3  3.0   3.5  8.00   \n",
       "4                 322          110                  3  3.5   2.5  8.67   \n",
       "5                 314          103                  2  2.0   3.0  8.21   \n",
       "\n",
       "            Research  Chance_of_Admit  \n",
       "Serial No.                             \n",
       "1                  1             0.92  \n",
       "2                  1             0.76  \n",
       "3                  1             0.72  \n",
       "4                  1             0.80  \n",
       "5                  0             0.65  "
      ]
     },
     "execution_count": 4,
     "metadata": {},
     "output_type": "execute_result"
    }
   ],
   "source": [
    "df.head() # Show you the first 5 rows in this file"
   ]
  },
  {
   "cell_type": "code",
   "execution_count": 5,
   "metadata": {
    "id": "S3TfR0i4G2rO"
   },
   "outputs": [],
   "source": [
    "y = df['Chance_of_Admit'] # The column named Chance_of_Admit is used as the target, and we store it in y\n",
    "X = df.drop(['Chance_of_Admit'], axis=1) # We keep the remaining columns as the features, and store them in x"
   ]
  },
  {
   "cell_type": "markdown",
   "metadata": {
    "id": "pKq1KERxJw9y"
   },
   "source": [
    "1)(**2 pts**) Split the data into a training set(75% of data) and a test set(25% of data), using the [train_test_split](https://scikit-learn.org/stable/modules/generated/sklearn.model_selection.train_test_split.html) function with random_state = 50. Then scale the data (not including target) so that each of the independent variables would have zero mean and unit variance. You can use the [sklearn.preprocessing.scale](https://scikit-learn.org/stable/modules/generated/sklearn.preprocessing.scale.html) function for this. Print the first 5 rows of the training set after scaling.\n",
    "\n",
    "2)(**5 pts**) Use [sklearn.linear_model.Lasso](https://scikit-learn.org/stable/modules/generated/sklearn.linear_model.Lasso.html) and [sklearn.linear_model.Ridge](https://scikit-learn.org/stable/modules/generated/sklearn.linear_model.Ridge.html) classes to do a **5-fold** cross validation using sklearn's KFold. For the sweep of the regularization parameter, we will look at a grid of values ranging from α=10^10 to α=10^−6. In Python, you can consider this range of values as follows: alpha = 10**numpy.linspace(6,-6,100) \n",
    "so that you can generate 100 uniform values between -6 to 6 as power series.\n",
    "\n",
    "Fit the 2 regression models with scaled data and report the best chosen **α** based on cross validation as well as the corresponding scoring metric. The cross validation should happen on your training data using **MSE** as the scoring metric.\n",
    "\n",
    "3)(**5 pts**) Run ridge and lasso regression for all of the **α** specified above (on training data), and plot the coefficients learned for each of them - there should be one plot each for lasso and ridge, so a total of two plots; different features' weights of each model should be on the same plot with different colors (3pts). \n",
    "\n",
    "What do you qualitatively observe when the value of the regularization parameter changes (2pts)? \n",
    "\n",
    "4)(**3 pts**) Take the exponential of Y_train as the target, and fit the 2 regression models again. Report the best chosen **α** based on cross validation as well as the corresponding scoring metric. Compare the results of using the original target with the results of using the exponential of the target. What do you observe? \n",
    "\n",
    "5)(**5 pts**) Similarly, use [sklearn.linear_model.ElasticNet](https://scikit-learn.org/stable/modules/generated/sklearn.linear_model.ElasticNet.html) to do linear regression with different **α** values, and plot the coefficients learned for each of them (2pts). Observe the plot, then explain the pros and cons of ridge, lasso and Elastic Net models (3pts).\n",
    "\n",
    "\n",
    "6)(**5 pts**) Run the following three regression models with **MSE** loss on the training data: \n",
    "\n",
    "a. linear regression without regularization (1pts)\n",
    "\n",
    "b. linear regression with ridge regularization (2pts)\n",
    "\n",
    "c. linear regression with lasso regularization (2pts)\n",
    "\n",
    "For part (b) and (c), use only the best regularization parameters. Report the MSE and R<sup>2</sup> on the test data for each model.\n",
    "\n",
    "7)(**5 pts**) Train the 3 models and report the metrics with the original data without scaling (3pts). \n",
    "\n",
    "Why do we need to scale the data before regularization (2pts)? \n",
    "\n",
    "## Answer:\n"
   ]
  },
  {
   "cell_type": "markdown",
   "metadata": {},
   "source": [
    "1)(2 pts) Split the data into a training set(75% of data) and a test set(25% of data), using the train_test_split function with random_state = 50. Then scale the data (not including target) so that each of the independent variables would have zero mean and unit variance. You can use the sklearn.preprocessing.scale function for this. Print the first 5 rows of the training set after scaling."
   ]
  },
  {
   "cell_type": "code",
   "execution_count": 6,
   "metadata": {},
   "outputs": [
    {
     "data": {
      "text/plain": [
       "array([[ 1.52725374,  2.0917706 ,  1.61594354,  0.63150829,  1.72829095,\n",
       "         2.11370277,  0.90453403],\n",
       "       [ 0.74180896,  0.46308859, -0.9310778 , -0.35266047, -1.04140609,\n",
       "         0.29488827,  0.90453403],\n",
       "       [ 0.56726568,  0.13735218,  1.61594354,  0.63150829,  0.62041214,\n",
       "         0.26211684,  0.90453403],\n",
       "       [-0.39272239, -0.51412062, -0.08207069,  0.13942391,  0.62041214,\n",
       "        -0.80295471, -1.1055416 ],\n",
       "       [ 0.47999403,  0.78882499,  0.76693642,  1.12359267,  1.17435154,\n",
       "         1.11417408,  0.90453403]])"
      ]
     },
     "execution_count": 6,
     "metadata": {},
     "output_type": "execute_result"
    }
   ],
   "source": [
    "from sklearn.model_selection import train_test_split\n",
    "X_train, X_test, Y_train, Y_test = train_test_split(X,y,test_size = 0.25, random_state=50)\n",
    "\n",
    "from sklearn import preprocessing as prp\n",
    "\n",
    "Scaled_X_train = prp.scale(X_train, axis=0, with_mean=True, with_std=True, copy=False)\n",
    "Scaled_X_test = prp.scale(X_test, axis=0, with_mean=True, with_std=True, copy=False)\n",
    "\n",
    "Scaled_X_train[:5]"
   ]
  },
  {
   "cell_type": "markdown",
   "metadata": {},
   "source": [
    "2) (5 pts) Use sklearn.linear_model.Lasso and sklearn.linear_model.Ridge classes to do a 5-fold cross validation using sklearn's KFold. For the sweep of the regularization parameter, we will look at a grid of values ranging from α=10^10 to α=10^−6. In Python, you can consider this range of values as follows: alpha = 10**numpy.linspace(6,-6,100) so that you can generate 100 uniform values between -6 to 6 as power series.\n",
    "\n",
    "Fit the 2 regression models with scaled data and report the best chosen α based on cross validation as well as the corresponding scoring metric. The cross validation should happen on your training data using MSE as the scoring metric."
   ]
  },
  {
   "cell_type": "code",
   "execution_count": 7,
   "metadata": {},
   "outputs": [
    {
     "name": "stdout",
     "output_type": "stream",
     "text": [
      "Best Alpha for Lasso Regression is : 0.0011768119524349942\n",
      "MSE for best alpha - Lasso regression is : 0.004098720344979797\n"
     ]
    }
   ],
   "source": [
    "# Lasso Regression\n",
    "from sklearn.linear_model import Lasso\n",
    "from sklearn.model_selection import KFold\n",
    "from sklearn.metrics import mean_squared_error\n",
    "\n",
    "alphas =  10**np.linspace(10,-6,100)\n",
    "kf = KFold(n_splits=5)\n",
    "\n",
    "MSE_cv = pd.DataFrame(columns = alphas)\n",
    "for train_index, test_index in kf.split(Scaled_X_train):\n",
    "    X_train_cv, X_test_cv = np.array(Scaled_X_train)[train_index], np.array(Scaled_X_train)[test_index]\n",
    "    y_train, y_test = np.array(Y_train)[train_index], np.array(Y_train)[test_index]\n",
    "    MSE = []\n",
    "    # Loop for all the alphas\n",
    "    for i in range(len(alphas)):\n",
    "        reg = linear_model.Lasso(alpha = alphas[i])\n",
    "        reg.fit(X_train_cv,y_train)\n",
    "        prediction = reg.predict(X_test_cv)\n",
    "        MSE.append(mean_squared_error(y_test,prediction))\n",
    "    MSE_cv.loc[len(MSE_cv)] = MSE\n",
    "\n",
    "alpha_min_lasso = MSE_cv.mean(axis =0).idxmin()\n",
    "MSE_min_lasso = MSE_cv.mean(axis =0).min()\n",
    "print ('Best Alpha for Lasso Regression is :', alpha_min_lasso)\n",
    "print('MSE for best alpha - Lasso regression is :', MSE_min_lasso)"
   ]
  },
  {
   "cell_type": "code",
   "execution_count": 8,
   "metadata": {},
   "outputs": [
    {
     "name": "stdout",
     "output_type": "stream",
     "text": [
      "Best alpha based on average MSE from Ridge Regression is : 4.229242874389499\n",
      "MSE for best alpha - Ridge regression is : 0.004118067661937138\n"
     ]
    }
   ],
   "source": [
    "# Ridge regression\n",
    "from sklearn.linear_model import Ridge\n",
    "from sklearn.model_selection import KFold\n",
    "from sklearn.metrics import mean_squared_error\n",
    "\n",
    "# Setting the rang for alpha and # of k folds required\n",
    "alphas =  10**np.linspace(10,-6,100)\n",
    "kf = KFold(n_splits=5)\n",
    "MSE_cv = pd.DataFrame(columns = alphas)\n",
    "\n",
    "# Loop for 5 cross validations\n",
    "for train_index, test_index in kf.split(Scaled_X_train):\n",
    "    X_train_cv, X_test_cv = np.array(Scaled_X_train)[train_index], np.array(Scaled_X_train)[test_index]\n",
    "    y_train, y_test = np.array(Y_train)[train_index], np.array(Y_train)[test_index]\n",
    "    MSE = []\n",
    "    # Loop for all the alphas\n",
    "    for i in range(len(alphas)):\n",
    "        reg = linear_model.Ridge(alpha = alphas[i])\n",
    "        reg.fit(X_train_cv,y_train)\n",
    "        prediction = reg.predict(X_test_cv)\n",
    "        MSE.append(mean_squared_error(y_test,prediction))\n",
    "    MSE_cv.loc[len(MSE_cv)] = MSE\n",
    "    \n",
    "# Calculating the minimum lambda based on the average MSE \n",
    "alpha_min_ridge = MSE_cv.mean(axis =0).idxmin()\n",
    "MSE_min_ridge = MSE_cv.mean(axis =0).min()\n",
    "\n",
    "\n",
    "print ('Best alpha based on average MSE from Ridge Regression is :', alpha_min_ridge)\n",
    "print('MSE for best alpha - Ridge regression is :', MSE_min_ridge)"
   ]
  },
  {
   "cell_type": "markdown",
   "metadata": {},
   "source": [
    "3) (**5 pts**) Run ridge and lasso regression for all of the **α** specified above (on training data), and plot the coefficients learned for each of them - there should be one plot each for lasso and ridge, so a total of two plots; different features' weights of each model should be on the same plot with different colors (3pts). "
   ]
  },
  {
   "cell_type": "code",
   "execution_count": 11,
   "metadata": {},
   "outputs": [
    {
     "data": {
      "text/plain": [
       "Text(0.5, 1.0, 'Lasso coefficients as a function of regularization')"
      ]
     },
     "execution_count": 11,
     "metadata": {},
     "output_type": "execute_result"
    },
    {
     "data": {
      "image/png": "[encoded data removed]",
      "text/plain": [
       "<Figure size 1152x648 with 1 Axes>"
      ]
     },
     "metadata": {
      "needs_background": "light"
     },
     "output_type": "display_data"
    }
   ],
   "source": [
    "# Running Lasso Regression for all the alpha values\n",
    "import matplotlib.pyplot as plt\n",
    "alphas =  10**np.linspace(10,-6,100)\n",
    "coefs = []\n",
    "for i in range(len(alphas)):\n",
    "        reg_lasso = linear_model.Lasso(alpha = alphas[i])\n",
    "        reg_lasso.fit(Scaled_X_train,Y_train)\n",
    "        prediction = reg_lasso.predict(Scaled_X_test)\n",
    "        coefs.append(reg_lasso.coef_)\n",
    "\n",
    "# Plot lasso coefficients as a function of alpha\n",
    "plt.figure(figsize=(16,9))        \n",
    "ax = plt.gca()\n",
    "ax.plot(np.log(alphas), coefs)\n",
    "\n",
    "ax.legend(X_train.columns)\n",
    "plt.xlabel('Log Alphas')\n",
    "plt.ylabel('Coefficients')\n",
    "plt.title('Lasso coefficients as a function of regularization')"
   ]
  },
  {
   "cell_type": "code",
   "execution_count": 12,
   "metadata": {},
   "outputs": [
    {
     "data": {
      "text/plain": [
       "Text(0.5, 1.0, 'Ridge coefficients as a function of regularization')"
      ]
     },
     "execution_count": 12,
     "metadata": {},
     "output_type": "execute_result"
    },
    {
     "data": {
      "image/png": "[encoded data removed]",
      "text/plain": [
       "<Figure size 1152x648 with 1 Axes>"
      ]
     },
     "metadata": {
      "needs_background": "light"
     },
     "output_type": "display_data"
    }
   ],
   "source": [
    "# Running Lasso Regression for all the alpha values\n",
    "alphas =  10**np.linspace(10,-6,100)\n",
    "coefs = []\n",
    "for i in range(len(alphas)):\n",
    "        reg_ridge = linear_model.Ridge(alpha = alphas[i])\n",
    "        reg_ridge.fit(Scaled_X_train,Y_train)\n",
    "        prediction = reg_ridge.predict(Scaled_X_test)\n",
    "        coefs.append(reg_ridge.coef_)\n",
    "        \n",
    "# Plot ridge coefficients as a function of alpha\n",
    "plt.figure(figsize=(16,9))        \n",
    "ax = plt.gca()\n",
    "ax.plot(np.log(alphas), coefs)\n",
    "\n",
    "ax.legend(X_train.columns)\n",
    "plt.xlabel('Log Alphas')\n",
    "plt.ylabel('Coefficients')\n",
    "plt.title('Ridge coefficients as a function of regularization')"
   ]
  },
  {
   "cell_type": "markdown",
   "metadata": {},
   "source": [
    "What do you qualitatively observe when the value of the regularization parameter changes (2pts)? "
   ]
  },
  {
   "cell_type": "markdown",
   "metadata": {},
   "source": [
    "Regularization is called a penalty system, and these graphs depict why perfectly. The weight of a factor will increase as regularization decreases, as shown above. As the regularization increases, other factors will have decreased weight in the model. The weight in lasso models are capable of reaching zero on a graph, as seen above. Meanwhile in ridge, the weight is only able to appraoch zero, as seen above."
   ]
  },
  {
   "cell_type": "markdown",
   "metadata": {},
   "source": [
    "4) (**3 pts**) Take the exponential of Y_train as the target, and fit the 2 regression models again. Report the best chosen **α** based on cross validation as well as the corresponding scoring metric. Compare the results of using the original target with the results of using the exponential of the target. What do you observe? "
   ]
  },
  {
   "cell_type": "code",
   "execution_count": 13,
   "metadata": {},
   "outputs": [],
   "source": [
    "exp_Y_train = np.exp(Y_train)\n",
    "exp_Y_test = np.exp(Y_test)"
   ]
  },
  {
   "cell_type": "code",
   "execution_count": 14,
   "metadata": {},
   "outputs": [
    {
     "name": "stdout",
     "output_type": "stream",
     "text": [
      "Best Alpha for Lasso Regression is : 0.0017073526474706887\n",
      "MSE for best alpha - Lasso regression is : 0.014766582720990707\n"
     ]
    }
   ],
   "source": [
    "from sklearn.linear_model import Lasso\n",
    "from sklearn.model_selection import KFold\n",
    "\n",
    "alphas =  10**np.linspace(10,-6,100)\n",
    "kf = KFold(n_splits=5)\n",
    "\n",
    "# Lasso regression\n",
    "MSE_cv = pd.DataFrame(columns = alphas)\n",
    "for train_index, test_index in kf.split(Scaled_X_train):\n",
    "    X_train_cv, X_test_cv = np.array(Scaled_X_train)[train_index], np.array(Scaled_X_train)[test_index]\n",
    "    y_train, y_test = np.array(exp_Y_train)[train_index], np.array(exp_Y_train)[test_index]\n",
    "    MSE = []\n",
    "    # Loop for all the alphas\n",
    "    for i in range(len(alphas)):\n",
    "        reg = linear_model.Lasso(alpha = alphas[i])\n",
    "        reg.fit(X_train_cv,y_train)\n",
    "        prediction = reg.predict(X_test_cv)\n",
    "        MSE.append(mean_squared_error(y_test,prediction))\n",
    "    MSE_cv.loc[len(MSE_cv)] = MSE\n",
    "\n",
    "alpha_min_lasso_2 = MSE_cv.mean(axis =0).idxmin()\n",
    "MSE_min_lasso_2 = MSE_cv.mean(axis =0).min()\n",
    "print ('Best Alpha for Lasso Regression is :', alpha_min_lasso_2)\n",
    "print('MSE for best alpha - Lasso regression is :', MSE_min_lasso_2)"
   ]
  },
  {
   "cell_type": "code",
   "execution_count": 15,
   "metadata": {},
   "outputs": [
    {
     "name": "stdout",
     "output_type": "stream",
     "text": [
      "Best alpha based on average MSE from Ridge Regression is : 6.135907273413163\n",
      "MSE for best alpha - Ridge regression is : 0.014815008775351055\n"
     ]
    }
   ],
   "source": [
    "# Ridge regression\n",
    "from sklearn.linear_model import Ridge\n",
    "from sklearn.model_selection import KFold\n",
    "\n",
    "# Setting the rang for alpha and # of k folds required\n",
    "alphas =  10**np.linspace(10,-6,100)\n",
    "kf = KFold(n_splits=5)\n",
    "MSE_cv = pd.DataFrame(columns = alphas)\n",
    "\n",
    "# Loop for 5 cross validations\n",
    "for train_index, test_index in kf.split(Scaled_X_train):\n",
    "    X_train_cv, X_test_cv = np.array(Scaled_X_train)[train_index], np.array(Scaled_X_train)[test_index]\n",
    "    y_train, y_test = np.array(exp_Y_train)[train_index], np.array(exp_Y_train)[test_index]\n",
    "    MSE = []\n",
    "    # Loop for all the alphas\n",
    "    for i in range(len(alphas)):\n",
    "        reg = linear_model.Ridge(alpha = alphas[i])\n",
    "        reg.fit(X_train_cv,y_train)\n",
    "        prediction = reg.predict(X_test_cv)\n",
    "        MSE.append(mean_squared_error(y_test,prediction))\n",
    "    MSE_cv.loc[len(MSE_cv)] = MSE\n",
    "    \n",
    "# Calculating the minimum alpha based on the average MAE \n",
    "alpha_min_ridge_2 = MSE_cv.mean(axis =0).idxmin()\n",
    "MSE_min_ridge_2 = MSE_cv.mean(axis =0).min()\n",
    "\n",
    "\n",
    "\n",
    "print('Best alpha based on average MSE from Ridge Regression is :', alpha_min_ridge_2)\n",
    "print('MSE for best alpha - Ridge regression is :', MSE_min_ridge_2)"
   ]
  },
  {
   "cell_type": "markdown",
   "metadata": {},
   "source": [
    "Compare the results of using the original target with the results of using the exponential of the target. What do you observe?"
   ]
  },
  {
   "cell_type": "markdown",
   "metadata": {},
   "source": [
    "The alphas for lasso and ridge using the exponential of the target performed worse than the original lasso and models. The MSEs for both models are also higher using the exponential of the target. This means that utilizing the exponential of the target makes the models less accurate and therefore less optimal. "
   ]
  },
  {
   "cell_type": "markdown",
   "metadata": {},
   "source": [
    "5) (**5 pts**) Similarly, use [sklearn.linear_model.ElasticNet](https://scikit-learn.org/stable/modules/generated/sklearn.linear_model.ElasticNet.html) to do linear regression with different **α** values, and plot the coefficients learned for each of them (2pts). Observe the plot, then explain the pros and cons of ridge, lasso and Elastic Net models (3pts)."
   ]
  },
  {
   "cell_type": "code",
   "execution_count": 17,
   "metadata": {
    "scrolled": true
   },
   "outputs": [
    {
     "name": "stdout",
     "output_type": "stream",
     "text": [
      "Best Alpha for ElasticNet is: 0.002477076355991704\n",
      "The ElasticNet MSE is:  0.005160461459754228\n"
     ]
    },
    {
     "data": {
      "text/plain": [
       "Text(0.5, 1.0, 'ElasticNet coefficients')"
      ]
     },
     "execution_count": 17,
     "metadata": {},
     "output_type": "execute_result"
    },
    {
     "data": {
      "image/png": "[encoded data removed]",
      "text/plain": [
       "<Figure size 1152x648 with 1 Axes>"
      ]
     },
     "metadata": {
      "needs_background": "light"
     },
     "output_type": "display_data"
    }
   ],
   "source": [
    "from sklearn.linear_model import ElasticNet\n",
    "from sklearn.linear_model import ElasticNetCV\n",
    "\n",
    "alphas =  10**np.linspace(10,-6,100)\n",
    "\n",
    "elastic_cv = ElasticNetCV(alphas=alphas,cv=5)\n",
    "elastic_cv.fit(Scaled_X_train, Y_train)\n",
    "alpha_min_elastic = elastic_cv.alpha_ \n",
    "print('Best Alpha for ElasticNet is:', elastic_cv.alpha_)\n",
    "\n",
    "\n",
    "elastic_model = ElasticNet(alpha=alpha_min_elastic).fit(Scaled_X_train,Y_train)   \n",
    "elastic_score = elastic_model.score(Scaled_X_train,Y_train)\n",
    "pred_y = elastic_model.predict(Scaled_X_test)\n",
    "mse = mean_squared_error(Y_test, pred_y)\n",
    "print('The ElasticNet MSE is: ',mse)\n",
    "\n",
    "# Running ElasticNet Regression for all the alpha values\n",
    "alphas =  10**np.linspace(10,-6,100)\n",
    "coefs = []\n",
    "for i in range(len(alphas)):\n",
    "        reg_elast = ElasticNet(alpha = alphas[i])\n",
    "        reg_elast.fit(Scaled_X_train,Y_train)\n",
    "        pred_y = reg_elast.predict(Scaled_X_test)\n",
    "        coefs.append(reg_elast.coef_)\n",
    "        \n",
    "# Plot elasticnet coefficients as a function of alpha\n",
    "plt.figure(figsize=(16,9))  \n",
    "ax = plt.gca()\n",
    "ax.plot(np.log(alphas), coefs)\n",
    "\n",
    "ax.legend(X_train.columns)\n",
    "plt.xlabel('Log Alphas')\n",
    "plt.ylabel('Coefficients')\n",
    "plt.title('ElasticNet coefficients')\n"
   ]
  },
  {
   "cell_type": "markdown",
   "metadata": {},
   "source": [
    "Observe the plot, then explain the pros and cons of ridge, lasso and Elastic Net models (3pts)."
   ]
  },
  {
   "cell_type": "markdown",
   "metadata": {},
   "source": [
    "Ridge:\n",
    "\n",
    "1.) Pros - Allows for variance rather than bias; limits over-fitting\n",
    "\n",
    "2.) Cons - Lower model interpretability compared to others; increased bias due to the model not dropping coefficients of irrelevant variables; perfect alpha needs to be selected\n",
    "\n",
    "Lasso:\n",
    "\n",
    "1.) Pros - Only utilizes specific features by shrinking the coefficient toward zero; avoids over-fitting\n",
    "\n",
    "2.) Cons - The specific features utilized are prone to increased bias; predicition tends to be less accurate than ridge, especially if n >> p and there are correlated predictors\n",
    "\n",
    "ElasticNet:\n",
    "\n",
    "1.) Pros - Combines the dropping of coefficients from lasso with the reduction of coefficients from ridge (best of both worlds)\n",
    "\n",
    "2.) Cons - Increased likelihood of over-fitting; performance costly compared to other models"
   ]
  },
  {
   "cell_type": "markdown",
   "metadata": {},
   "source": [
    "6) (**5 pts**) Run the following three regression models with **MSE** loss on the training data: \n",
    "\n",
    "a. linear regression without regularization (1pts)\n",
    "\n",
    "b. linear regression with ridge regularization (2pts)\n",
    "\n",
    "c. linear regression with lasso regularization (2pts)\n",
    "\n",
    "For part (b) and (c), use only the best regularization parameters. Report the MSE and R<sup>2</sup> on the test data for each model.\n"
   ]
  },
  {
   "cell_type": "code",
   "execution_count": 46,
   "metadata": {},
   "outputs": [
    {
     "name": "stdout",
     "output_type": "stream",
     "text": [
      "MSE for least square regression is: 0.005200215496311308\n",
      "R2 for least square regression is: 0.6910288907914793\n",
      "MSE for lasso regression is: 0.005166967497632441\n",
      "R2 for lasso regression is: 0.6930043225861924\n",
      "MSE for ridge regression is: 0.005150074618331439\n",
      "R2 for ridge regression is: 0.6940080140022613\n"
     ]
    }
   ],
   "source": [
    "from sklearn.metrics import r2_score\n",
    "\n",
    "# Least Square Regression\n",
    "reg = linear_model.LinearRegression()\n",
    "reg.fit(Scaled_X_train, Y_train)\n",
    "prediction_test = reg.predict(Scaled_X_test)\n",
    "MSE_test = mean_squared_error(Y_test,prediction_test)\n",
    "r2_ols = r2_score(Y_test, prediction_test)\n",
    "\n",
    "# Lasso Regression\n",
    "reg_lasso = linear_model.Lasso(alpha = alpha_min_lasso)\n",
    "reg_lasso.fit(Scaled_X_train,Y_train)\n",
    "prediction_lasso = reg_lasso.predict(Scaled_X_test)\n",
    "MSE_test_lasso = mean_squared_error(Y_test,prediction_lasso)\n",
    "r2_lasso = r2_score(Y_test, prediction_lasso)\n",
    "\n",
    "# Ridge Regression\n",
    "reg_ridge = linear_model.Ridge(alpha = alpha_min_ridge)\n",
    "reg_ridge.fit(Scaled_X_train,Y_train)\n",
    "prediction_ridge = reg_ridge.predict(Scaled_X_test)\n",
    "MSE_test_ridge = mean_squared_error(Y_test,prediction_ridge)\n",
    "r2_ridge = r2_score(Y_test, prediction_ridge)\n",
    "\n",
    "print('MSE for least square regression is:', MSE_test)\n",
    "print('R2 for least square regression is:', r2_ols)\n",
    "\n",
    "print('MSE for lasso regression is:', MSE_test_lasso)\n",
    "print('R2 for lasso regression is:', r2_lasso)\n",
    "\n",
    "print('MSE for ridge regression is:', MSE_test_ridge)\n",
    "print('R2 for ridge regression is:', r2_ridge)"
   ]
  },
  {
   "cell_type": "markdown",
   "metadata": {},
   "source": [
    "7) (**5 pts**) Train the 3 models and report the metrics with the original data without scaling (3pts). \n",
    "\n",
    "Why do we need to scale the data before regularization (2pts)? "
   ]
  },
  {
   "cell_type": "code",
   "execution_count": 47,
   "metadata": {},
   "outputs": [
    {
     "name": "stdout",
     "output_type": "stream",
     "text": [
      "MSE for least square regression is: 0.004526319242200028\n",
      "R2 for least square regression is: 0.7310684763186412\n",
      "MSE for lasso regression is: 0.004554495972017524\n",
      "R2 for lasso regression is: 0.7293943542612464\n",
      "MSE for ridge regression is: 0.004523172015183179\n",
      "R2 for ridge regression is: 0.7312554689967363\n"
     ]
    }
   ],
   "source": [
    "from sklearn.linear_model import Lasso, LassoCV, Ridge, RidgeCV\n",
    "\n",
    "# Least Square Regression\n",
    "reg = linear_model.LinearRegression()\n",
    "reg.fit(X_train, Y_train)\n",
    "prediction_test = reg.predict(X_test)\n",
    "MSE_test = mean_squared_error(Y_test,prediction_test)\n",
    "r2_ols = r2_score(Y_test, prediction_test)\n",
    "\n",
    "#Finding best alpha for lasso and ridge\n",
    "lassocv2 = LassoCV(alphas=alphas, cv=5)\n",
    "lassocv2.fit(X_train, Y_train)\n",
    "alpha_min_lasso2 = lassocv2.alpha_ \n",
    "\n",
    "ridge_model2 = RidgeCV(alphas=alphas, cv=5)\n",
    "ridge_model2.fit(X_train, Y_train)\n",
    "alpha_min_ridge2 = ridge_model2.alpha_ \n",
    "\n",
    "# Lasso Regression\n",
    "reg_lasso = linear_model.Lasso(alpha = alpha_min_lasso2)\n",
    "reg_lasso.fit(X_train,Y_train)\n",
    "prediction_lasso = reg_lasso.predict(X_test)\n",
    "MSE_test_lasso = mean_squared_error(Y_test,prediction_lasso)\n",
    "r2_lasso = r2_score(Y_test, prediction_lasso)\n",
    "\n",
    "# Ridge Regression\n",
    "reg_ridge = linear_model.Ridge(alpha = alpha_min_ridge2)\n",
    "reg_ridge.fit(X_train,Y_train)\n",
    "prediction_ridge = reg_ridge.predict(X_test)\n",
    "MSE_test_ridge = mean_squared_error(Y_test,prediction_ridge)\n",
    "r2_ridge = r2_score(Y_test, prediction_ridge)\n",
    "\n",
    "print('MSE for least square regression is:', MSE_test)\n",
    "print('R2 for least square regression is:', r2_ols)\n",
    "\n",
    "print('MSE for lasso regression is:', MSE_test_lasso)\n",
    "print('R2 for lasso regression is:', r2_lasso)\n",
    "\n",
    "print('MSE for ridge regression is:', MSE_test_ridge)\n",
    "print('R2 for ridge regression is:', r2_ridge)"
   ]
  },
  {
   "cell_type": "markdown",
   "metadata": {},
   "source": [
    "Why do we need to scale the data before regularization (2pts)?"
   ]
  },
  {
   "cell_type": "markdown",
   "metadata": {},
   "source": [
    "While this data seems to show scaling prior to regularization results in decreased performance, in general scaling will ensure the weight assigned to all related variables is equal and balanced. Unscaled data can have differing weights and therefore greatly impact the accuracy of results."
   ]
  }
 ],
 "metadata": {
  "colab": {
   "collapsed_sections": [],
   "name": "MIS 382N - HW1.ipynb",
   "provenance": []
  },
  "kernelspec": {
   "display_name": "Python 3",
   "language": "python",
   "name": "python3"
  },
  "language_info": {
   "codemirror_mode": {
    "name": "ipython",
    "version": 3
   },
   "file_extension": ".py",
   "mimetype": "text/x-python",
   "name": "python",
   "nbconvert_exporter": "python",
   "pygments_lexer": "ipython3",
   "version": "3.8.3"
  }
 },
 "nbformat": 4,
 "nbformat_minor": 1
}
